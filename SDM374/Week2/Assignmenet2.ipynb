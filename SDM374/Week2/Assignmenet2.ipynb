{
 "cells": [
  {
   "cell_type": "code",
   "execution_count": 120,
   "metadata": {
    "collapsed": true,
    "pycharm": {
     "name": "#%%\n"
    }
   },
   "outputs": [],
   "source": [
    "import numpy as np\n",
    "import pandas as pd\n",
    "import matplotlib.pyplot as plt\n",
    "\n",
    "from sklearn.preprocessing import PolynomialFeatures\n",
    "from sklearn.preprocessing import StandardScaler\n",
    "from sklearn.linear_model import LinearRegression\n"
   ]
  },
  {
   "cell_type": "markdown",
   "source": [
    "Question 1.1: Linear Regression by gradient descent"
   ],
   "metadata": {
    "collapsed": false,
    "pycharm": {
     "name": "#%% md\n"
    }
   }
  },
  {
   "cell_type": "code",
   "execution_count": null,
   "outputs": [],
   "source": [
    "path = '../Week2_data/train_data.txt'\n",
    "\n",
    "data = pd.read_csv(path, header = None, names =['Size', 'Bedrooms', 'Price'])\n",
    "data.head()\n",
    "data.describe()\n",
    "\n",
    "data"
   ],
   "metadata": {
    "collapsed": false,
    "pycharm": {
     "name": "#%%\n",
     "is_executing": true
    }
   }
  },
  {
   "cell_type": "markdown",
   "source": [
    "Gradient Descent"
   ],
   "metadata": {
    "collapsed": false,
    "pycharm": {
     "name": "#%% md\n"
    }
   }
  },
  {
   "cell_type": "code",
   "execution_count": 122,
   "outputs": [],
   "source": [
    "def h(X, theta):\n",
    "\n",
    "    return X @ theta.T\n",
    "\n",
    "def cost_function(X, y, theta):\n",
    "    inner = (h(X, theta) - y) ** 2\n",
    "\n",
    "    return np.sum(inner) / (2 * X.shape[0])\n",
    "    #return np.sum(np.power((h(X, theta) - y), 2)) / (2 * X.shape[0])\n",
    "\n",
    "def gradient_descent(X, y, alpha, epoch):\n",
    "    #theta = np.zeros((3, 1))\n",
    "    theta = np.random.random(size = (1, 3))\n",
    "    cost = np.zeros(epoch)\n",
    "    for i in range(epoch):\n",
    "        partial_theta = np.sum((h(X, theta) - y) * X, axis = 0)\n",
    "        theta = theta - (alpha / X.shape[0]) * partial_theta\n",
    "        cost[i] = cost_function(X, y, theta)\n",
    "    return theta, cost\n",
    "\n",
    "def plot_cost(cost, epoch):\n",
    "    plt.plot(np.arange(epoch), cost, label = 'cost', color = 'r')\n",
    "    plt.xlabel('iteration')\n",
    "    plt.ylabel('cost')\n",
    "    plt.title('cost-iteration diagram')\n",
    "    plt.legend()"
   ],
   "metadata": {
    "collapsed": false,
    "pycharm": {
     "name": "#%%\n"
    }
   }
  },
  {
   "cell_type": "code",
   "execution_count": null,
   "outputs": [],
   "source": [
    "def get_train_data(data):\n",
    "    train_X = data.iloc[:, 0 : 2]\n",
    "    train_y = data.iloc[:, 2]\n",
    "\n",
    "    train_X = np.array(train_X)\n",
    "    train_y = np.array(train_y)\n",
    "    train_y = np.reshape(train_y, (data.shape[0], 1))\n",
    "\n",
    "    return train_X, train_y\n",
    "\n",
    "train_X, train_y = get_train_data(data)\n",
    "\n",
    "train_X, train_y"
   ],
   "metadata": {
    "collapsed": false,
    "pycharm": {
     "name": "#%%\n",
     "is_executing": true
    }
   }
  },
  {
   "cell_type": "code",
   "execution_count": null,
   "outputs": [],
   "source": [
    "std = StandardScaler()\n",
    "std_X = std.fit_transform(train_X)\n",
    "std_X = np.column_stack([np.ones((std_X.shape[0], 1)), std_X])\n",
    "\n",
    "train_X = std.fit_transform(train_X)\n",
    "\n",
    "train_X"
   ],
   "metadata": {
    "collapsed": false,
    "pycharm": {
     "name": "#%%\n",
     "is_executing": true
    }
   }
  },
  {
   "cell_type": "code",
   "execution_count": null,
   "outputs": [],
   "source": [
    "train_y = std.fit_transform(train_y)\n",
    "\n",
    "train_y"
   ],
   "metadata": {
    "collapsed": false,
    "pycharm": {
     "name": "#%%\n",
     "is_executing": true
    }
   }
  },
  {
   "cell_type": "code",
   "execution_count": 126,
   "outputs": [
    {
     "data": {
      "text/plain": "<Figure size 640x480 with 1 Axes>",
      "image/png": "[encoded data removed]"
     },
     "metadata": {},
     "output_type": "display_data"
    }
   ],
   "source": [
    "theta, cost_g = gradient_descent(std_X, train_y, alpha = 0.01, epoch = 1000)\n",
    "\n",
    "plot_cost(cost_g, 1000)"
   ],
   "metadata": {
    "collapsed": false,
    "pycharm": {
     "name": "#%%\n"
    }
   }
  },
  {
   "cell_type": "markdown",
   "source": [
    "Q1.2: Linear Regression through normal equation"
   ],
   "metadata": {
    "collapsed": false,
    "pycharm": {
     "name": "#%% md\n"
    }
   }
  },
  {
   "cell_type": "code",
   "execution_count": null,
   "outputs": [],
   "source": [
    "def normal_equation(X, y):\n",
    "    X = np.matrix(X)\n",
    "    y = np.matrix(y)\n",
    "\n",
    "    return (X.T @ X).I @ X.T @ y\n",
    "\n",
    "\n",
    "nor_theta = normal_equation(std_X, train_y)\n",
    "nor_theta"
   ],
   "metadata": {
    "collapsed": false,
    "pycharm": {
     "name": "#%%\n",
     "is_executing": true
    }
   }
  },
  {
   "cell_type": "markdown",
   "source": [
    "Following program is to check the performance of normal equation w.r.t gradient descent"
   ],
   "metadata": {
    "collapsed": false,
    "pycharm": {
     "name": "#%% md\n"
    }
   }
  },
  {
   "cell_type": "code",
   "execution_count": 128,
   "outputs": [
    {
     "data": {
      "text/plain": "0.10730467194966786"
     },
     "execution_count": 128,
     "metadata": {},
     "output_type": "execute_result"
    }
   ],
   "source": [
    "cost_nor = np.sum(np.power((std_X @ nor_theta) - train_y, 2), axis = 0) / (2 * std_X.shape[0])\n",
    "\n",
    "cost_nor.mean()"
   ],
   "metadata": {
    "collapsed": false,
    "pycharm": {
     "name": "#%%\n"
    }
   }
  },
  {
   "cell_type": "markdown",
   "source": [
    "From what have been calculated above, I set the mean value of the cost matrix as their performance indicator to evaluate the effect of normal equation and gradient descent.\n",
    "\n",
    "  It is shown that normal equation's mean cost value is 0.1073 approximately, while gradient descent is 0.1291 approximately. Means that gradient is not convergent enough with learning rate value 0.01."
   ],
   "metadata": {
    "collapsed": false,
    "pycharm": {
     "name": "#%% md\n"
    }
   }
  },
  {
   "cell_type": "markdown",
   "source": [
    "Q1.3 Linear Regression through sci-kit learn package"
   ],
   "metadata": {
    "collapsed": false,
    "pycharm": {
     "name": "#%% md\n"
    }
   }
  },
  {
   "cell_type": "markdown",
   "source": [
    "Following program implement multi-variable Linear Regression using sklearn. To show the performance of the model, I take sklearn's own score function as a performance indicator. The score calculate formula is shown below:\n",
    "- $score = (1 - \\frac{u}{v})$\n",
    "- in which u denote the residual sum of squares((y_true - y_pred) ** 2).sum()\n",
    "- v denote the sum of squares((y_true - y_true.mean()) ** 2).sum()\n",
    "\n",
    "According to the description in the official document, the best score should be 1.0 and it can be negative"
   ],
   "metadata": {
    "collapsed": false,
    "pycharm": {
     "name": "#%% md\n"
    }
   }
  },
  {
   "cell_type": "code",
   "execution_count": 129,
   "outputs": [],
   "source": [
    "test_path = '../Week2_data/test_data.txt'\n",
    "test = pd.read_csv(test_path)\n",
    "\n",
    "std = StandardScaler()\n",
    "test_X = test.iloc[:, 0 : 2]\n",
    "test_y = test.iloc[:, 2]\n",
    "\n",
    "test_X = np.array(test_X)\n",
    "test_y = np.array(test_y).reshape((test.shape[0], 1))\n",
    "\n",
    "test_X = std.fit_transform(test_X)\n",
    "test_X = np.column_stack([np.ones((test_X.shape[0], 1)), test_X])\n",
    "test_y = std.fit_transform(test_y)"
   ],
   "metadata": {
    "collapsed": false,
    "pycharm": {
     "name": "#%%\n"
    }
   }
  },
  {
   "cell_type": "code",
   "execution_count": 130,
   "outputs": [],
   "source": [
    "def sk_train(train_X, train_y, test_X, test_y):\n",
    "\n",
    "    model = LinearRegression()\n",
    "    model.fit(train_X, train_y)\n",
    "\n",
    "    return model.score(test_X, test_y)"
   ],
   "metadata": {
    "collapsed": false,
    "pycharm": {
     "name": "#%%\n"
    }
   }
  },
  {
   "cell_type": "code",
   "execution_count": null,
   "outputs": [],
   "source": [
    "score = sk_train(train_X, train_y, test_X, test_y)\n",
    "\n",
    "score"
   ],
   "metadata": {
    "collapsed": false,
    "pycharm": {
     "name": "#%%\n",
     "is_executing": true
    }
   }
  },
  {
   "cell_type": "markdown",
   "source": [
    "After performing a LinearRegression of sklearn, I get a score value of model 0.8319, which is acceptable."
   ],
   "metadata": {
    "collapsed": false,
    "pycharm": {
     "name": "#%% md\n"
    }
   }
  },
  {
   "cell_type": "markdown",
   "source": [
    "Q2.1 Implementing Polynomial Linear Regression with sklearn"
   ],
   "metadata": {
    "collapsed": false,
    "pycharm": {
     "name": "#%% md\n"
    }
   }
  },
  {
   "cell_type": "markdown",
   "source": [
    "Taking four polynomial order to test their performance"
   ],
   "metadata": {
    "collapsed": false,
    "pycharm": {
     "name": "#%% md\n"
    }
   }
  },
  {
   "cell_type": "code",
   "execution_count": null,
   "outputs": [],
   "source": [
    "index = [1, 2, 3, 4]\n",
    "best_score = -1\n",
    "best_index = 0\n",
    "\n",
    "std_X"
   ],
   "metadata": {
    "collapsed": false,
    "pycharm": {
     "name": "#%%\n"
    }
   }
  },
  {
   "cell_type": "markdown",
   "source": [
    "Polynomial Features not only interaction"
   ],
   "metadata": {
    "collapsed": false,
    "pycharm": {
     "name": "#%% md\n"
    }
   }
  },
  {
   "cell_type": "code",
   "execution_count": null,
   "outputs": [],
   "source": [
    "for i in index:\n",
    "    poly = PolynomialFeatures(degree = i)\n",
    "    poly_X = poly.fit_transform(std_X)\n",
    "    poly_test_X = poly.fit_transform(test_X)\n",
    "    score = sk_train(poly_X, train_y, poly_test_X, test_y)\n",
    "    if score > best_score:\n",
    "        best_score = score\n",
    "        best_index = i\n",
    "\n",
    "best_index, best_score"
   ],
   "metadata": {
    "collapsed": false,
    "pycharm": {
     "name": "#%%\n"
    }
   }
  },
  {
   "cell_type": "markdown",
   "source": [
    "After operation above, testing four kind of polynomial feature, it can be concluded that qudratic form is the most efficient among four of them"
   ],
   "metadata": {
    "collapsed": false,
    "pycharm": {
     "name": "#%% md\n"
    }
   }
  },
  {
   "cell_type": "markdown",
   "source": [
    "Q2.2 Some discussion about regularization"
   ],
   "metadata": {
    "collapsed": false,
    "pycharm": {
     "name": "#%% md\n"
    }
   }
  },
  {
   "cell_type": "markdown",
   "source": [
    "First I need output all result of above four kind of polynomial features to find out the tendency of cost function value with respect to polynomial index"
   ],
   "metadata": {
    "collapsed": false,
    "pycharm": {
     "name": "#%% md\n"
    }
   }
  },
  {
   "cell_type": "code",
   "execution_count": null,
   "outputs": [],
   "source": [
    "performance = []\n",
    "\n",
    "for i in index:\n",
    "    poly = PolynomialFeatures(degree = i)\n",
    "    poly_X = poly.fit_transform(std_X)\n",
    "    poly_test_X = poly.fit_transform(test_X)\n",
    "    score = sk_train(poly_X, train_y, poly_test_X, test_y)\n",
    "    performance.append(score)\n",
    "\n",
    "plt.figure()\n",
    "plt.plot(np.arange(4), performance)\n",
    "plt.show()"
   ],
   "metadata": {
    "collapsed": false,
    "pycharm": {
     "name": "#%%\n"
    }
   }
  },
  {
   "cell_type": "markdown",
   "source": [
    "It is obvious that when it comes to fourth-order polynomial, the score of the model decrease intensively, which means that it has a bad predict on test set. However, the score is only get from the test set, the performance on training set is still unknown"
   ],
   "metadata": {
    "collapsed": false,
    "pycharm": {
     "name": "#%% md\n"
    }
   }
  },
  {
   "cell_type": "code",
   "execution_count": null,
   "outputs": [],
   "source": [
    "train_perform = []\n",
    "\n",
    "for i in index:\n",
    "    poly = PolynomialFeatures(degree = i)\n",
    "    poly_X = poly.fit_transform(std_X)\n",
    "    poly_test_X = poly.fit_transform(test_X)\n",
    "    model = LinearRegression()\n",
    "    model.fit(poly_X, train_y)\n",
    "    train_perform.append(model.score(poly_X, train_y))\n",
    "\n",
    "plt.figure()\n",
    "plt.plot(np.arange(4), train_perform)\n",
    "plt.show()"
   ],
   "metadata": {
    "collapsed": false,
    "pycharm": {
     "name": "#%%\n"
    }
   }
  },
  {
   "cell_type": "markdown",
   "source": [
    "Nevertheless, the effect on training set of fourth-order is extremely outperforming than any other orders. Somehow, this best training set performing model have the worst ability on test set, which is called over-fit.\n",
    "\n",
    "To solve above problem, a regularization operator can be applied to Linear Regression model\n",
    "- I use Ridge class of sklearn to implement the regularization, given lambda 1.0\n",
    "- This class is provided to perform l2-norm regularization and the loss function is the linear least squares function\n",
    "- The Regularized Linear Regression's loss function is given below:\n",
    "        $J(\\theta) = \\frac{1}{2m}\\sum_{i = 1}^m[h_{\\theta}(x^{(i)}) - y^{(i)}]^2 + \\lambda\\sum_{j = 1}^n\\theta_j^2$"
   ],
   "metadata": {
    "collapsed": false,
    "pycharm": {
     "name": "#%% md\n"
    }
   }
  },
  {
   "cell_type": "code",
   "execution_count": null,
   "outputs": [],
   "source": [
    "from sklearn.linear_model import Ridge\n",
    "train_perform = []\n",
    "test_perform = []\n",
    "\n",
    "for i in index:\n",
    "    poly = PolynomialFeatures(degree = i)\n",
    "    poly_X = poly.fit_transform(std_X)\n",
    "    poly_test_X = poly.fit_transform(test_X)\n",
    "    model = Ridge(alpha = 1.0)\n",
    "    model.fit(poly_X, train_y)\n",
    "    train_perform.append(model.score(poly_X, train_y))\n",
    "    test_perform.append(model.score(poly_test_X, test_y))\n",
    "\n",
    "plt.figure()\n",
    "plt.subplot(1, 2, 1)\n",
    "plt.plot(np.arange(4), test_perform)\n",
    "plt.title('testing set performance')\n",
    "plt.subplot(1, 2, 2)\n",
    "plt.plot(np.arange(4), train_perform)\n",
    "plt.title('training set performance')\n",
    "plt.show()"
   ],
   "metadata": {
    "collapsed": false,
    "pycharm": {
     "name": "#%%\n"
    }
   }
  },
  {
   "cell_type": "markdown",
   "source": [
    "The decrease performance of fourth-order polynomial on the test set is greatly eliminate by regularization leading to a result an approximately 0.79 score while non-regularize model have a negative value."
   ],
   "metadata": {
    "collapsed": false,
    "pycharm": {
     "name": "#%% md\n"
    }
   }
  },
  {
   "cell_type": "markdown",
   "source": [
    "Q3 Comparing sklearn Linear Regression and my Linear Regression"
   ],
   "metadata": {
    "collapsed": false,
    "pycharm": {
     "name": "#%% md\n"
    }
   }
  },
  {
   "cell_type": "code",
   "execution_count": null,
   "outputs": [],
   "source": [
    "model = LinearRegression()\n",
    "model.fit(std_X, train_y)\n",
    "y_pred_sk = model.predict(test_X)\n",
    "cost_sk = (test_y - y_pred_sk) ** 2 / 2\n",
    "\n",
    "cost_sk"
   ],
   "metadata": {
    "collapsed": false,
    "pycharm": {
     "name": "#%%\n"
    }
   }
  },
  {
   "cell_type": "code",
   "execution_count": null,
   "outputs": [],
   "source": [
    "y_pred_theta = test_X @ theta.T\n",
    "cost_gradient = (test_y - y_pred_theta) ** 2 / 2\n",
    "\n",
    "cost_gradient"
   ],
   "metadata": {
    "collapsed": false,
    "pycharm": {
     "name": "#%%\n"
    }
   }
  },
  {
   "cell_type": "code",
   "execution_count": 132,
   "outputs": [
    {
     "data": {
      "text/plain": "<Figure size 640x480 with 1 Axes>",
      "image/png": "[encoded data removed]"
     },
     "metadata": {},
     "output_type": "display_data"
    }
   ],
   "source": [
    "plt.figure()\n",
    "plt.plot(np.arange(8), cost_sk, label = 'cost of sklearn', color = 'r')\n",
    "plt.plot(np.arange(8), cost_gradient, label = 'cost of gradient descent', color = 'green')\n",
    "plt.legend()\n",
    "plt.title('Performance comparing on test set between LR written by hand and LR from sklearn')\n",
    "plt.show()"
   ],
   "metadata": {
    "collapsed": false,
    "pycharm": {
     "name": "#%%\n"
    }
   }
  },
  {
   "cell_type": "markdown",
   "source": [
    "It is clear shown that LR written by myself is quite similar to LR provided by sklearn"
   ],
   "metadata": {
    "collapsed": false,
    "pycharm": {
     "name": "#%% md\n"
    }
   }
  }
 ],
 "metadata": {
  "kernelspec": {
   "display_name": "Python 3",
   "language": "python",
   "name": "python3"
  },
  "language_info": {
   "codemirror_mode": {
    "name": "ipython",
    "version": 2
   },
   "file_extension": ".py",
   "mimetype": "text/x-python",
   "name": "python",
   "nbconvert_exporter": "python",
   "pygments_lexer": "ipython2",
   "version": "2.7.6"
  }
 },
 "nbformat": 4,
 "nbformat_minor": 0
}