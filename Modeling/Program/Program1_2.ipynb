{
 "cells": [
  {
   "cell_type": "code",
   "execution_count": 5,
   "outputs": [],
   "source": [
    "import numpy as np\n",
    "import pandas as pd\n",
    "import matplotlib.pyplot as plt"
   ],
   "metadata": {
    "collapsed": false,
    "pycharm": {
     "name": "#%%\n"
    }
   }
  },
  {
   "cell_type": "code",
   "execution_count": 9,
   "outputs": [
    {
     "data": {
      "text/plain": "      文物采样点  二氧化硅(SiO2)  氧化钠(Na2O)  氧化钾(K2O)  氧化钙(CaO)  氧化镁(MgO)  氧化铝(Al2O3)  \\\n0        01       69.33        NaN      9.99      6.32      0.87        3.93   \n1        02       36.28        NaN      1.05      2.34      1.18        5.73   \n2     03部位1       87.05        NaN      5.19      2.01       NaN        4.06   \n3     03部位2       61.71        NaN     12.37      5.87      1.11        5.50   \n4        04       65.88        NaN      9.67      7.12      1.56        6.44   \n..      ...         ...        ...       ...       ...       ...         ...   \n64  54严重风化点       17.11        NaN       NaN       NaN      1.11        3.65   \n65       55       49.01       2.71       NaN      1.13       NaN        1.45   \n66       56       29.15        NaN       NaN      1.21       NaN        1.85   \n67       57       25.42        NaN       NaN      1.31       NaN        2.18   \n68       58       30.39        NaN      0.34      3.49      0.79        3.52   \n\n    氧化铁(Fe2O3)  氧化铜(CuO)  氧化铅(PbO)  氧化钡(BaO)  五氧化二磷(P2O5)  氧化锶(SrO)  \\\n0         1.74      3.87       NaN       NaN         1.17       NaN   \n1         1.86      0.26     47.43       NaN         3.57      0.19   \n2          NaN      0.78      0.25       NaN         0.66       NaN   \n3         2.16      5.09      1.41      2.86         0.70      0.10   \n4         2.06      2.18       NaN       NaN         0.79       NaN   \n..         ...       ...       ...       ...          ...       ...   \n64         NaN      1.34     58.46       NaN        14.13      1.12   \n65         NaN      0.86     32.92      7.95         0.35       NaN   \n66         NaN      0.79     41.25     15.45         2.54       NaN   \n67         NaN      1.16     45.10     17.30          NaN       NaN   \n68        0.86      3.13     39.35      7.66         8.99      0.24   \n\n    氧化锡(SnO2)  二氧化硫(SO2)  风化  \n0         NaN       0.39   0  \n1         NaN        NaN   1  \n2         NaN        NaN   0  \n3         NaN        NaN   0  \n4         NaN       0.36   0  \n..        ...        ...  ..  \n64        NaN        NaN   1  \n65        NaN        NaN   0  \n66        NaN        NaN   1  \n67        NaN        NaN   1  \n68        NaN        NaN   1  \n\n[69 rows x 16 columns]",
      "text/html": "<div>\n<style scoped>\n    .dataframe tbody tr th:only-of-type {\n        vertical-align: middle;\n    }\n\n    .dataframe tbody tr th {\n        vertical-align: top;\n    }\n\n    .dataframe thead th {\n        text-align: right;\n    }\n</style>\n<table border=\"1\" class=\"dataframe\">\n  <thead>\n    <tr style=\"text-align: right;\">\n      <th></th>\n      <th>文物采样点</th>\n      <th>二氧化硅(SiO2)</th>\n      <th>氧化钠(Na2O)</th>\n      <th>氧化钾(K2O)</th>\n      <th>氧化钙(CaO)</th>\n      <th>氧化镁(MgO)</th>\n      <th>氧化铝(Al2O3)</th>\n      <th>氧化铁(Fe2O3)</th>\n      <th>氧化铜(CuO)</th>\n      <th>氧化铅(PbO)</th>\n      <th>氧化钡(BaO)</th>\n      <th>五氧化二磷(P2O5)</th>\n      <th>氧化锶(SrO)</th>\n      <th>氧化锡(SnO2)</th>\n      <th>二氧化硫(SO2)</th>\n      <th>风化</th>\n    </tr>\n  </thead>\n  <tbody>\n    <tr>\n      <th>0</th>\n      <td>01</td>\n      <td>69.33</td>\n      <td>NaN</td>\n      <td>9.99</td>\n      <td>6.32</td>\n      <td>0.87</td>\n      <td>3.93</td>\n      <td>1.74</td>\n      <td>3.87</td>\n      <td>NaN</td>\n      <td>NaN</td>\n      <td>1.17</td>\n      <td>NaN</td>\n      <td>NaN</td>\n      <td>0.39</td>\n      <td>0</td>\n    </tr>\n    <tr>\n      <th>1</th>\n      <td>02</td>\n      <td>36.28</td>\n      <td>NaN</td>\n      <td>1.05</td>\n      <td>2.34</td>\n      <td>1.18</td>\n      <td>5.73</td>\n      <td>1.86</td>\n      <td>0.26</td>\n      <td>47.43</td>\n      <td>NaN</td>\n      <td>3.57</td>\n      <td>0.19</td>\n      <td>NaN</td>\n      <td>NaN</td>\n      <td>1</td>\n    </tr>\n    <tr>\n      <th>2</th>\n      <td>03部位1</td>\n      <td>87.05</td>\n      <td>NaN</td>\n      <td>5.19</td>\n      <td>2.01</td>\n      <td>NaN</td>\n      <td>4.06</td>\n      <td>NaN</td>\n      <td>0.78</td>\n      <td>0.25</td>\n      <td>NaN</td>\n      <td>0.66</td>\n      <td>NaN</td>\n      <td>NaN</td>\n      <td>NaN</td>\n      <td>0</td>\n    </tr>\n    <tr>\n      <th>3</th>\n      <td>03部位2</td>\n      <td>61.71</td>\n      <td>NaN</td>\n      <td>12.37</td>\n      <td>5.87</td>\n      <td>1.11</td>\n      <td>5.50</td>\n      <td>2.16</td>\n      <td>5.09</td>\n      <td>1.41</td>\n      <td>2.86</td>\n      <td>0.70</td>\n      <td>0.10</td>\n      <td>NaN</td>\n      <td>NaN</td>\n      <td>0</td>\n    </tr>\n    <tr>\n      <th>4</th>\n      <td>04</td>\n      <td>65.88</td>\n      <td>NaN</td>\n      <td>9.67</td>\n      <td>7.12</td>\n      <td>1.56</td>\n      <td>6.44</td>\n      <td>2.06</td>\n      <td>2.18</td>\n      <td>NaN</td>\n      <td>NaN</td>\n      <td>0.79</td>\n      <td>NaN</td>\n      <td>NaN</td>\n      <td>0.36</td>\n      <td>0</td>\n    </tr>\n    <tr>\n      <th>...</th>\n      <td>...</td>\n      <td>...</td>\n      <td>...</td>\n      <td>...</td>\n      <td>...</td>\n      <td>...</td>\n      <td>...</td>\n      <td>...</td>\n      <td>...</td>\n      <td>...</td>\n      <td>...</td>\n      <td>...</td>\n      <td>...</td>\n      <td>...</td>\n      <td>...</td>\n      <td>...</td>\n    </tr>\n    <tr>\n      <th>64</th>\n      <td>54严重风化点</td>\n      <td>17.11</td>\n      <td>NaN</td>\n      <td>NaN</td>\n      <td>NaN</td>\n      <td>1.11</td>\n      <td>3.65</td>\n      <td>NaN</td>\n      <td>1.34</td>\n      <td>58.46</td>\n      <td>NaN</td>\n      <td>14.13</td>\n      <td>1.12</td>\n      <td>NaN</td>\n      <td>NaN</td>\n      <td>1</td>\n    </tr>\n    <tr>\n      <th>65</th>\n      <td>55</td>\n      <td>49.01</td>\n      <td>2.71</td>\n      <td>NaN</td>\n      <td>1.13</td>\n      <td>NaN</td>\n      <td>1.45</td>\n      <td>NaN</td>\n      <td>0.86</td>\n      <td>32.92</td>\n      <td>7.95</td>\n      <td>0.35</td>\n      <td>NaN</td>\n      <td>NaN</td>\n      <td>NaN</td>\n      <td>0</td>\n    </tr>\n    <tr>\n      <th>66</th>\n      <td>56</td>\n      <td>29.15</td>\n      <td>NaN</td>\n      <td>NaN</td>\n      <td>1.21</td>\n      <td>NaN</td>\n      <td>1.85</td>\n      <td>NaN</td>\n      <td>0.79</td>\n      <td>41.25</td>\n      <td>15.45</td>\n      <td>2.54</td>\n      <td>NaN</td>\n      <td>NaN</td>\n      <td>NaN</td>\n      <td>1</td>\n    </tr>\n    <tr>\n      <th>67</th>\n      <td>57</td>\n      <td>25.42</td>\n      <td>NaN</td>\n      <td>NaN</td>\n      <td>1.31</td>\n      <td>NaN</td>\n      <td>2.18</td>\n      <td>NaN</td>\n      <td>1.16</td>\n      <td>45.10</td>\n      <td>17.30</td>\n      <td>NaN</td>\n      <td>NaN</td>\n      <td>NaN</td>\n      <td>NaN</td>\n      <td>1</td>\n    </tr>\n    <tr>\n      <th>68</th>\n      <td>58</td>\n      <td>30.39</td>\n      <td>NaN</td>\n      <td>0.34</td>\n      <td>3.49</td>\n      <td>0.79</td>\n      <td>3.52</td>\n      <td>0.86</td>\n      <td>3.13</td>\n      <td>39.35</td>\n      <td>7.66</td>\n      <td>8.99</td>\n      <td>0.24</td>\n      <td>NaN</td>\n      <td>NaN</td>\n      <td>1</td>\n    </tr>\n  </tbody>\n</table>\n<p>69 rows × 16 columns</p>\n</div>"
     },
     "execution_count": 9,
     "metadata": {},
     "output_type": "execute_result"
    }
   ],
   "source": [
    "Data_raw = pd.read_csv('../Data/data2.csv')\n",
    "\n",
    "Data_raw"
   ],
   "metadata": {
    "collapsed": false,
    "pycharm": {
     "name": "#%%\n"
    }
   }
  },
  {
   "cell_type": "code",
   "execution_count": 11,
   "outputs": [
    {
     "data": {
      "text/plain": "      文物采样点  二氧化硅(SiO2)  氧化钠(Na2O)  氧化钾(K2O)  氧化钙(CaO)  氧化镁(MgO)  氧化铝(Al2O3)  \\\n0        01       69.33       0.00      9.99      6.32      0.87        3.93   \n1        02       36.28       0.00      1.05      2.34      1.18        5.73   \n2     03部位1       87.05       0.00      5.19      2.01      0.00        4.06   \n3     03部位2       61.71       0.00     12.37      5.87      1.11        5.50   \n4        04       65.88       0.00      9.67      7.12      1.56        6.44   \n..      ...         ...        ...       ...       ...       ...         ...   \n64  54严重风化点       17.11       0.00      0.00      0.00      1.11        3.65   \n65       55       49.01       2.71      0.00      1.13      0.00        1.45   \n66       56       29.15       0.00      0.00      1.21      0.00        1.85   \n67       57       25.42       0.00      0.00      1.31      0.00        2.18   \n68       58       30.39       0.00      0.34      3.49      0.79        3.52   \n\n    氧化铁(Fe2O3)  氧化铜(CuO)  氧化铅(PbO)  氧化钡(BaO)  五氧化二磷(P2O5)  氧化锶(SrO)  \\\n0         1.74      3.87      0.00      0.00         1.17      0.00   \n1         1.86      0.26     47.43      0.00         3.57      0.19   \n2         0.00      0.78      0.25      0.00         0.66      0.00   \n3         2.16      5.09      1.41      2.86         0.70      0.10   \n4         2.06      2.18      0.00      0.00         0.79      0.00   \n..         ...       ...       ...       ...          ...       ...   \n64        0.00      1.34     58.46      0.00        14.13      1.12   \n65        0.00      0.86     32.92      7.95         0.35      0.00   \n66        0.00      0.79     41.25     15.45         2.54      0.00   \n67        0.00      1.16     45.10     17.30         0.00      0.00   \n68        0.86      3.13     39.35      7.66         8.99      0.24   \n\n    氧化锡(SnO2)  二氧化硫(SO2)  风化  \n0         0.0       0.39   0  \n1         0.0       0.00   1  \n2         0.0       0.00   0  \n3         0.0       0.00   0  \n4         0.0       0.36   0  \n..        ...        ...  ..  \n64        0.0       0.00   1  \n65        0.0       0.00   0  \n66        0.0       0.00   1  \n67        0.0       0.00   1  \n68        0.0       0.00   1  \n\n[69 rows x 16 columns]",
      "text/html": "<div>\n<style scoped>\n    .dataframe tbody tr th:only-of-type {\n        vertical-align: middle;\n    }\n\n    .dataframe tbody tr th {\n        vertical-align: top;\n    }\n\n    .dataframe thead th {\n        text-align: right;\n    }\n</style>\n<table border=\"1\" class=\"dataframe\">\n  <thead>\n    <tr style=\"text-align: right;\">\n      <th></th>\n      <th>文物采样点</th>\n      <th>二氧化硅(SiO2)</th>\n      <th>氧化钠(Na2O)</th>\n      <th>氧化钾(K2O)</th>\n      <th>氧化钙(CaO)</th>\n      <th>氧化镁(MgO)</th>\n      <th>氧化铝(Al2O3)</th>\n      <th>氧化铁(Fe2O3)</th>\n      <th>氧化铜(CuO)</th>\n      <th>氧化铅(PbO)</th>\n      <th>氧化钡(BaO)</th>\n      <th>五氧化二磷(P2O5)</th>\n      <th>氧化锶(SrO)</th>\n      <th>氧化锡(SnO2)</th>\n      <th>二氧化硫(SO2)</th>\n      <th>风化</th>\n    </tr>\n  </thead>\n  <tbody>\n    <tr>\n      <th>0</th>\n      <td>01</td>\n      <td>69.33</td>\n      <td>0.00</td>\n      <td>9.99</td>\n      <td>6.32</td>\n      <td>0.87</td>\n      <td>3.93</td>\n      <td>1.74</td>\n      <td>3.87</td>\n      <td>0.00</td>\n      <td>0.00</td>\n      <td>1.17</td>\n      <td>0.00</td>\n      <td>0.0</td>\n      <td>0.39</td>\n      <td>0</td>\n    </tr>\n    <tr>\n      <th>1</th>\n      <td>02</td>\n      <td>36.28</td>\n      <td>0.00</td>\n      <td>1.05</td>\n      <td>2.34</td>\n      <td>1.18</td>\n      <td>5.73</td>\n      <td>1.86</td>\n      <td>0.26</td>\n      <td>47.43</td>\n      <td>0.00</td>\n      <td>3.57</td>\n      <td>0.19</td>\n      <td>0.0</td>\n      <td>0.00</td>\n      <td>1</td>\n    </tr>\n    <tr>\n      <th>2</th>\n      <td>03部位1</td>\n      <td>87.05</td>\n      <td>0.00</td>\n      <td>5.19</td>\n      <td>2.01</td>\n      <td>0.00</td>\n      <td>4.06</td>\n      <td>0.00</td>\n      <td>0.78</td>\n      <td>0.25</td>\n      <td>0.00</td>\n      <td>0.66</td>\n      <td>0.00</td>\n      <td>0.0</td>\n      <td>0.00</td>\n      <td>0</td>\n    </tr>\n    <tr>\n      <th>3</th>\n      <td>03部位2</td>\n      <td>61.71</td>\n      <td>0.00</td>\n      <td>12.37</td>\n      <td>5.87</td>\n      <td>1.11</td>\n      <td>5.50</td>\n      <td>2.16</td>\n      <td>5.09</td>\n      <td>1.41</td>\n      <td>2.86</td>\n      <td>0.70</td>\n      <td>0.10</td>\n      <td>0.0</td>\n      <td>0.00</td>\n      <td>0</td>\n    </tr>\n    <tr>\n      <th>4</th>\n      <td>04</td>\n      <td>65.88</td>\n      <td>0.00</td>\n      <td>9.67</td>\n      <td>7.12</td>\n      <td>1.56</td>\n      <td>6.44</td>\n      <td>2.06</td>\n      <td>2.18</td>\n      <td>0.00</td>\n      <td>0.00</td>\n      <td>0.79</td>\n      <td>0.00</td>\n      <td>0.0</td>\n      <td>0.36</td>\n      <td>0</td>\n    </tr>\n    <tr>\n      <th>...</th>\n      <td>...</td>\n      <td>...</td>\n      <td>...</td>\n      <td>...</td>\n      <td>...</td>\n      <td>...</td>\n      <td>...</td>\n      <td>...</td>\n      <td>...</td>\n      <td>...</td>\n      <td>...</td>\n      <td>...</td>\n      <td>...</td>\n      <td>...</td>\n      <td>...</td>\n      <td>...</td>\n    </tr>\n    <tr>\n      <th>64</th>\n      <td>54严重风化点</td>\n      <td>17.11</td>\n      <td>0.00</td>\n      <td>0.00</td>\n      <td>0.00</td>\n      <td>1.11</td>\n      <td>3.65</td>\n      <td>0.00</td>\n      <td>1.34</td>\n      <td>58.46</td>\n      <td>0.00</td>\n      <td>14.13</td>\n      <td>1.12</td>\n      <td>0.0</td>\n      <td>0.00</td>\n      <td>1</td>\n    </tr>\n    <tr>\n      <th>65</th>\n      <td>55</td>\n      <td>49.01</td>\n      <td>2.71</td>\n      <td>0.00</td>\n      <td>1.13</td>\n      <td>0.00</td>\n      <td>1.45</td>\n      <td>0.00</td>\n      <td>0.86</td>\n      <td>32.92</td>\n      <td>7.95</td>\n      <td>0.35</td>\n      <td>0.00</td>\n      <td>0.0</td>\n      <td>0.00</td>\n      <td>0</td>\n    </tr>\n    <tr>\n      <th>66</th>\n      <td>56</td>\n      <td>29.15</td>\n      <td>0.00</td>\n      <td>0.00</td>\n      <td>1.21</td>\n      <td>0.00</td>\n      <td>1.85</td>\n      <td>0.00</td>\n      <td>0.79</td>\n      <td>41.25</td>\n      <td>15.45</td>\n      <td>2.54</td>\n      <td>0.00</td>\n      <td>0.0</td>\n      <td>0.00</td>\n      <td>1</td>\n    </tr>\n    <tr>\n      <th>67</th>\n      <td>57</td>\n      <td>25.42</td>\n      <td>0.00</td>\n      <td>0.00</td>\n      <td>1.31</td>\n      <td>0.00</td>\n      <td>2.18</td>\n      <td>0.00</td>\n      <td>1.16</td>\n      <td>45.10</td>\n      <td>17.30</td>\n      <td>0.00</td>\n      <td>0.00</td>\n      <td>0.0</td>\n      <td>0.00</td>\n      <td>1</td>\n    </tr>\n    <tr>\n      <th>68</th>\n      <td>58</td>\n      <td>30.39</td>\n      <td>0.00</td>\n      <td>0.34</td>\n      <td>3.49</td>\n      <td>0.79</td>\n      <td>3.52</td>\n      <td>0.86</td>\n      <td>3.13</td>\n      <td>39.35</td>\n      <td>7.66</td>\n      <td>8.99</td>\n      <td>0.24</td>\n      <td>0.0</td>\n      <td>0.00</td>\n      <td>1</td>\n    </tr>\n  </tbody>\n</table>\n<p>69 rows × 16 columns</p>\n</div>"
     },
     "execution_count": 11,
     "metadata": {},
     "output_type": "execute_result"
    }
   ],
   "source": [
    "Data_raw = Data_raw.fillna(value = 0)\n",
    "Data_raw"
   ],
   "metadata": {
    "collapsed": false,
    "pycharm": {
     "name": "#%%\n"
    }
   }
  },
  {
   "cell_type": "code",
   "execution_count": 36,
   "outputs": [
    {
     "data": {
      "text/plain": "    二氧化硅(SiO2)  氧化钠(Na2O)  氧化钾(K2O)  氧化钙(CaO)  氧化镁(MgO)  氧化铝(Al2O3)  \\\n0        69.33       0.00      9.99      6.32      0.87        3.93   \n1        36.28       0.00      1.05      2.34      1.18        5.73   \n2        87.05       0.00      5.19      2.01      0.00        4.06   \n3        61.71       0.00     12.37      5.87      1.11        5.50   \n4        65.88       0.00      9.67      7.12      1.56        6.44   \n..         ...        ...       ...       ...       ...         ...   \n64       17.11       0.00      0.00      0.00      1.11        3.65   \n65       49.01       2.71      0.00      1.13      0.00        1.45   \n66       29.15       0.00      0.00      1.21      0.00        1.85   \n67       25.42       0.00      0.00      1.31      0.00        2.18   \n68       30.39       0.00      0.34      3.49      0.79        3.52   \n\n    氧化铁(Fe2O3)  氧化铜(CuO)  氧化铅(PbO)  氧化钡(BaO)  五氧化二磷(P2O5)  氧化锶(SrO)  \\\n0         1.74      3.87      0.00      0.00         1.17      0.00   \n1         1.86      0.26     47.43      0.00         3.57      0.19   \n2         0.00      0.78      0.25      0.00         0.66      0.00   \n3         2.16      5.09      1.41      2.86         0.70      0.10   \n4         2.06      2.18      0.00      0.00         0.79      0.00   \n..         ...       ...       ...       ...          ...       ...   \n64        0.00      1.34     58.46      0.00        14.13      1.12   \n65        0.00      0.86     32.92      7.95         0.35      0.00   \n66        0.00      0.79     41.25     15.45         2.54      0.00   \n67        0.00      1.16     45.10     17.30         0.00      0.00   \n68        0.86      3.13     39.35      7.66         8.99      0.24   \n\n    氧化锡(SnO2)  二氧化硫(SO2)  风化  row_sum  \n0         0.0       0.39   0    97.61  \n1         0.0       0.00   1   100.89  \n2         0.0       0.00   0   100.00  \n3         0.0       0.00   0    98.88  \n4         0.0       0.36   0    96.06  \n..        ...        ...  ..      ...  \n64        0.0       0.00   1    97.92  \n65        0.0       0.00   0    96.38  \n66        0.0       0.00   1    93.24  \n67        0.0       0.00   1    93.47  \n68        0.0       0.00   1    99.76  \n\n[66 rows x 16 columns]",
      "text/html": "<div>\n<style scoped>\n    .dataframe tbody tr th:only-of-type {\n        vertical-align: middle;\n    }\n\n    .dataframe tbody tr th {\n        vertical-align: top;\n    }\n\n    .dataframe thead th {\n        text-align: right;\n    }\n</style>\n<table border=\"1\" class=\"dataframe\">\n  <thead>\n    <tr style=\"text-align: right;\">\n      <th></th>\n      <th>二氧化硅(SiO2)</th>\n      <th>氧化钠(Na2O)</th>\n      <th>氧化钾(K2O)</th>\n      <th>氧化钙(CaO)</th>\n      <th>氧化镁(MgO)</th>\n      <th>氧化铝(Al2O3)</th>\n      <th>氧化铁(Fe2O3)</th>\n      <th>氧化铜(CuO)</th>\n      <th>氧化铅(PbO)</th>\n      <th>氧化钡(BaO)</th>\n      <th>五氧化二磷(P2O5)</th>\n      <th>氧化锶(SrO)</th>\n      <th>氧化锡(SnO2)</th>\n      <th>二氧化硫(SO2)</th>\n      <th>风化</th>\n      <th>row_sum</th>\n    </tr>\n  </thead>\n  <tbody>\n    <tr>\n      <th>0</th>\n      <td>69.33</td>\n      <td>0.00</td>\n      <td>9.99</td>\n      <td>6.32</td>\n      <td>0.87</td>\n      <td>3.93</td>\n      <td>1.74</td>\n      <td>3.87</td>\n      <td>0.00</td>\n      <td>0.00</td>\n      <td>1.17</td>\n      <td>0.00</td>\n      <td>0.0</td>\n      <td>0.39</td>\n      <td>0</td>\n      <td>97.61</td>\n    </tr>\n    <tr>\n      <th>1</th>\n      <td>36.28</td>\n      <td>0.00</td>\n      <td>1.05</td>\n      <td>2.34</td>\n      <td>1.18</td>\n      <td>5.73</td>\n      <td>1.86</td>\n      <td>0.26</td>\n      <td>47.43</td>\n      <td>0.00</td>\n      <td>3.57</td>\n      <td>0.19</td>\n      <td>0.0</td>\n      <td>0.00</td>\n      <td>1</td>\n      <td>100.89</td>\n    </tr>\n    <tr>\n      <th>2</th>\n      <td>87.05</td>\n      <td>0.00</td>\n      <td>5.19</td>\n      <td>2.01</td>\n      <td>0.00</td>\n      <td>4.06</td>\n      <td>0.00</td>\n      <td>0.78</td>\n      <td>0.25</td>\n      <td>0.00</td>\n      <td>0.66</td>\n      <td>0.00</td>\n      <td>0.0</td>\n      <td>0.00</td>\n      <td>0</td>\n      <td>100.00</td>\n    </tr>\n    <tr>\n      <th>3</th>\n      <td>61.71</td>\n      <td>0.00</td>\n      <td>12.37</td>\n      <td>5.87</td>\n      <td>1.11</td>\n      <td>5.50</td>\n      <td>2.16</td>\n      <td>5.09</td>\n      <td>1.41</td>\n      <td>2.86</td>\n      <td>0.70</td>\n      <td>0.10</td>\n      <td>0.0</td>\n      <td>0.00</td>\n      <td>0</td>\n      <td>98.88</td>\n    </tr>\n    <tr>\n      <th>4</th>\n      <td>65.88</td>\n      <td>0.00</td>\n      <td>9.67</td>\n      <td>7.12</td>\n      <td>1.56</td>\n      <td>6.44</td>\n      <td>2.06</td>\n      <td>2.18</td>\n      <td>0.00</td>\n      <td>0.00</td>\n      <td>0.79</td>\n      <td>0.00</td>\n      <td>0.0</td>\n      <td>0.36</td>\n      <td>0</td>\n      <td>96.06</td>\n    </tr>\n    <tr>\n      <th>...</th>\n      <td>...</td>\n      <td>...</td>\n      <td>...</td>\n      <td>...</td>\n      <td>...</td>\n      <td>...</td>\n      <td>...</td>\n      <td>...</td>\n      <td>...</td>\n      <td>...</td>\n      <td>...</td>\n      <td>...</td>\n      <td>...</td>\n      <td>...</td>\n      <td>...</td>\n      <td>...</td>\n    </tr>\n    <tr>\n      <th>64</th>\n      <td>17.11</td>\n      <td>0.00</td>\n      <td>0.00</td>\n      <td>0.00</td>\n      <td>1.11</td>\n      <td>3.65</td>\n      <td>0.00</td>\n      <td>1.34</td>\n      <td>58.46</td>\n      <td>0.00</td>\n      <td>14.13</td>\n      <td>1.12</td>\n      <td>0.0</td>\n      <td>0.00</td>\n      <td>1</td>\n      <td>97.92</td>\n    </tr>\n    <tr>\n      <th>65</th>\n      <td>49.01</td>\n      <td>2.71</td>\n      <td>0.00</td>\n      <td>1.13</td>\n      <td>0.00</td>\n      <td>1.45</td>\n      <td>0.00</td>\n      <td>0.86</td>\n      <td>32.92</td>\n      <td>7.95</td>\n      <td>0.35</td>\n      <td>0.00</td>\n      <td>0.0</td>\n      <td>0.00</td>\n      <td>0</td>\n      <td>96.38</td>\n    </tr>\n    <tr>\n      <th>66</th>\n      <td>29.15</td>\n      <td>0.00</td>\n      <td>0.00</td>\n      <td>1.21</td>\n      <td>0.00</td>\n      <td>1.85</td>\n      <td>0.00</td>\n      <td>0.79</td>\n      <td>41.25</td>\n      <td>15.45</td>\n      <td>2.54</td>\n      <td>0.00</td>\n      <td>0.0</td>\n      <td>0.00</td>\n      <td>1</td>\n      <td>93.24</td>\n    </tr>\n    <tr>\n      <th>67</th>\n      <td>25.42</td>\n      <td>0.00</td>\n      <td>0.00</td>\n      <td>1.31</td>\n      <td>0.00</td>\n      <td>2.18</td>\n      <td>0.00</td>\n      <td>1.16</td>\n      <td>45.10</td>\n      <td>17.30</td>\n      <td>0.00</td>\n      <td>0.00</td>\n      <td>0.0</td>\n      <td>0.00</td>\n      <td>1</td>\n      <td>93.47</td>\n    </tr>\n    <tr>\n      <th>68</th>\n      <td>30.39</td>\n      <td>0.00</td>\n      <td>0.34</td>\n      <td>3.49</td>\n      <td>0.79</td>\n      <td>3.52</td>\n      <td>0.86</td>\n      <td>3.13</td>\n      <td>39.35</td>\n      <td>7.66</td>\n      <td>8.99</td>\n      <td>0.24</td>\n      <td>0.0</td>\n      <td>0.00</td>\n      <td>1</td>\n      <td>99.76</td>\n    </tr>\n  </tbody>\n</table>\n<p>66 rows × 16 columns</p>\n</div>"
     },
     "execution_count": 36,
     "metadata": {},
     "output_type": "execute_result"
    }
   ],
   "source": [
    "Data = Data_raw.iloc[:, 1 : Data_raw.shape[1]]\n",
    "Data['row_sum'] = Data.apply(lambda x : x.sum(), axis = 1)\n",
    "\n",
    "index = 0\n",
    "\n",
    "for i in Data['row_sum']:\n",
    "    if i < 85:\n",
    "        Data = Data.drop(index = index)\n",
    "    index += 1\n",
    "\n",
    "Data"
   ],
   "metadata": {
    "collapsed": false,
    "pycharm": {
     "name": "#%%\n"
    }
   }
  },
  {
   "cell_type": "code",
   "execution_count": 39,
   "outputs": [
    {
     "data": {
      "text/plain": "    二氧化硅(SiO2)  氧化钠(Na2O)  氧化钾(K2O)  氧化钙(CaO)  氧化镁(MgO)  氧化铝(Al2O3)  \\\n0        69.33       0.00      9.99      6.32      0.87        3.93   \n1        36.28       0.00      1.05      2.34      1.18        5.73   \n2        87.05       0.00      5.19      2.01      0.00        4.06   \n3        61.71       0.00     12.37      5.87      1.11        5.50   \n4        65.88       0.00      9.67      7.12      1.56        6.44   \n..         ...        ...       ...       ...       ...         ...   \n64       17.11       0.00      0.00      0.00      1.11        3.65   \n65       49.01       2.71      0.00      1.13      0.00        1.45   \n66       29.15       0.00      0.00      1.21      0.00        1.85   \n67       25.42       0.00      0.00      1.31      0.00        2.18   \n68       30.39       0.00      0.34      3.49      0.79        3.52   \n\n    氧化铁(Fe2O3)  氧化铜(CuO)  氧化铅(PbO)  氧化钡(BaO)  五氧化二磷(P2O5)  氧化锶(SrO)  \\\n0         1.74      3.87      0.00      0.00         1.17      0.00   \n1         1.86      0.26     47.43      0.00         3.57      0.19   \n2         0.00      0.78      0.25      0.00         0.66      0.00   \n3         2.16      5.09      1.41      2.86         0.70      0.10   \n4         2.06      2.18      0.00      0.00         0.79      0.00   \n..         ...       ...       ...       ...          ...       ...   \n64        0.00      1.34     58.46      0.00        14.13      1.12   \n65        0.00      0.86     32.92      7.95         0.35      0.00   \n66        0.00      0.79     41.25     15.45         2.54      0.00   \n67        0.00      1.16     45.10     17.30         0.00      0.00   \n68        0.86      3.13     39.35      7.66         8.99      0.24   \n\n    氧化锡(SnO2)  二氧化硫(SO2)  风化  \n0         0.0       0.39   0  \n1         0.0       0.00   1  \n2         0.0       0.00   0  \n3         0.0       0.00   0  \n4         0.0       0.36   0  \n..        ...        ...  ..  \n64        0.0       0.00   1  \n65        0.0       0.00   0  \n66        0.0       0.00   1  \n67        0.0       0.00   1  \n68        0.0       0.00   1  \n\n[66 rows x 15 columns]",
      "text/html": "<div>\n<style scoped>\n    .dataframe tbody tr th:only-of-type {\n        vertical-align: middle;\n    }\n\n    .dataframe tbody tr th {\n        vertical-align: top;\n    }\n\n    .dataframe thead th {\n        text-align: right;\n    }\n</style>\n<table border=\"1\" class=\"dataframe\">\n  <thead>\n    <tr style=\"text-align: right;\">\n      <th></th>\n      <th>二氧化硅(SiO2)</th>\n      <th>氧化钠(Na2O)</th>\n      <th>氧化钾(K2O)</th>\n      <th>氧化钙(CaO)</th>\n      <th>氧化镁(MgO)</th>\n      <th>氧化铝(Al2O3)</th>\n      <th>氧化铁(Fe2O3)</th>\n      <th>氧化铜(CuO)</th>\n      <th>氧化铅(PbO)</th>\n      <th>氧化钡(BaO)</th>\n      <th>五氧化二磷(P2O5)</th>\n      <th>氧化锶(SrO)</th>\n      <th>氧化锡(SnO2)</th>\n      <th>二氧化硫(SO2)</th>\n      <th>风化</th>\n    </tr>\n  </thead>\n  <tbody>\n    <tr>\n      <th>0</th>\n      <td>69.33</td>\n      <td>0.00</td>\n      <td>9.99</td>\n      <td>6.32</td>\n      <td>0.87</td>\n      <td>3.93</td>\n      <td>1.74</td>\n      <td>3.87</td>\n      <td>0.00</td>\n      <td>0.00</td>\n      <td>1.17</td>\n      <td>0.00</td>\n      <td>0.0</td>\n      <td>0.39</td>\n      <td>0</td>\n    </tr>\n    <tr>\n      <th>1</th>\n      <td>36.28</td>\n      <td>0.00</td>\n      <td>1.05</td>\n      <td>2.34</td>\n      <td>1.18</td>\n      <td>5.73</td>\n      <td>1.86</td>\n      <td>0.26</td>\n      <td>47.43</td>\n      <td>0.00</td>\n      <td>3.57</td>\n      <td>0.19</td>\n      <td>0.0</td>\n      <td>0.00</td>\n      <td>1</td>\n    </tr>\n    <tr>\n      <th>2</th>\n      <td>87.05</td>\n      <td>0.00</td>\n      <td>5.19</td>\n      <td>2.01</td>\n      <td>0.00</td>\n      <td>4.06</td>\n      <td>0.00</td>\n      <td>0.78</td>\n      <td>0.25</td>\n      <td>0.00</td>\n      <td>0.66</td>\n      <td>0.00</td>\n      <td>0.0</td>\n      <td>0.00</td>\n      <td>0</td>\n    </tr>\n    <tr>\n      <th>3</th>\n      <td>61.71</td>\n      <td>0.00</td>\n      <td>12.37</td>\n      <td>5.87</td>\n      <td>1.11</td>\n      <td>5.50</td>\n      <td>2.16</td>\n      <td>5.09</td>\n      <td>1.41</td>\n      <td>2.86</td>\n      <td>0.70</td>\n      <td>0.10</td>\n      <td>0.0</td>\n      <td>0.00</td>\n      <td>0</td>\n    </tr>\n    <tr>\n      <th>4</th>\n      <td>65.88</td>\n      <td>0.00</td>\n      <td>9.67</td>\n      <td>7.12</td>\n      <td>1.56</td>\n      <td>6.44</td>\n      <td>2.06</td>\n      <td>2.18</td>\n      <td>0.00</td>\n      <td>0.00</td>\n      <td>0.79</td>\n      <td>0.00</td>\n      <td>0.0</td>\n      <td>0.36</td>\n      <td>0</td>\n    </tr>\n    <tr>\n      <th>...</th>\n      <td>...</td>\n      <td>...</td>\n      <td>...</td>\n      <td>...</td>\n      <td>...</td>\n      <td>...</td>\n      <td>...</td>\n      <td>...</td>\n      <td>...</td>\n      <td>...</td>\n      <td>...</td>\n      <td>...</td>\n      <td>...</td>\n      <td>...</td>\n      <td>...</td>\n    </tr>\n    <tr>\n      <th>64</th>\n      <td>17.11</td>\n      <td>0.00</td>\n      <td>0.00</td>\n      <td>0.00</td>\n      <td>1.11</td>\n      <td>3.65</td>\n      <td>0.00</td>\n      <td>1.34</td>\n      <td>58.46</td>\n      <td>0.00</td>\n      <td>14.13</td>\n      <td>1.12</td>\n      <td>0.0</td>\n      <td>0.00</td>\n      <td>1</td>\n    </tr>\n    <tr>\n      <th>65</th>\n      <td>49.01</td>\n      <td>2.71</td>\n      <td>0.00</td>\n      <td>1.13</td>\n      <td>0.00</td>\n      <td>1.45</td>\n      <td>0.00</td>\n      <td>0.86</td>\n      <td>32.92</td>\n      <td>7.95</td>\n      <td>0.35</td>\n      <td>0.00</td>\n      <td>0.0</td>\n      <td>0.00</td>\n      <td>0</td>\n    </tr>\n    <tr>\n      <th>66</th>\n      <td>29.15</td>\n      <td>0.00</td>\n      <td>0.00</td>\n      <td>1.21</td>\n      <td>0.00</td>\n      <td>1.85</td>\n      <td>0.00</td>\n      <td>0.79</td>\n      <td>41.25</td>\n      <td>15.45</td>\n      <td>2.54</td>\n      <td>0.00</td>\n      <td>0.0</td>\n      <td>0.00</td>\n      <td>1</td>\n    </tr>\n    <tr>\n      <th>67</th>\n      <td>25.42</td>\n      <td>0.00</td>\n      <td>0.00</td>\n      <td>1.31</td>\n      <td>0.00</td>\n      <td>2.18</td>\n      <td>0.00</td>\n      <td>1.16</td>\n      <td>45.10</td>\n      <td>17.30</td>\n      <td>0.00</td>\n      <td>0.00</td>\n      <td>0.0</td>\n      <td>0.00</td>\n      <td>1</td>\n    </tr>\n    <tr>\n      <th>68</th>\n      <td>30.39</td>\n      <td>0.00</td>\n      <td>0.34</td>\n      <td>3.49</td>\n      <td>0.79</td>\n      <td>3.52</td>\n      <td>0.86</td>\n      <td>3.13</td>\n      <td>39.35</td>\n      <td>7.66</td>\n      <td>8.99</td>\n      <td>0.24</td>\n      <td>0.0</td>\n      <td>0.00</td>\n      <td>1</td>\n    </tr>\n  </tbody>\n</table>\n<p>66 rows × 15 columns</p>\n</div>"
     },
     "execution_count": 39,
     "metadata": {},
     "output_type": "execute_result"
    }
   ],
   "source": [
    "Data = Data.drop(columns = ['row_sum'])\n",
    "Data"
   ],
   "metadata": {
    "collapsed": false,
    "pycharm": {
     "name": "#%%\n"
    }
   }
  },
  {
   "cell_type": "code",
   "execution_count": 42,
   "outputs": [],
   "source": [
    "High_potassium = [0, 2, 3, 4, 5, 6, 8, 9, 11, 12, 13, 14, 15, 16, 17, 20, 21, 26]\n",
    "Ba_Pb = [i for i in range(0, 58) if i not in High_potassium]"
   ],
   "metadata": {
    "collapsed": false,
    "pycharm": {
     "name": "#%%\n"
    }
   }
  },
  {
   "cell_type": "code",
   "execution_count": 43,
   "outputs": [],
   "source": [
    "Data_Hp = Data.iloc[High_potassium]\n",
    "Data_Bp = Data.iloc[Ba_Pb]"
   ],
   "metadata": {
    "collapsed": false,
    "pycharm": {
     "name": "#%%\n"
    }
   }
  },
  {
   "cell_type": "markdown",
   "source": [
    "高钾风化前后统计规律"
   ],
   "metadata": {
    "collapsed": false,
    "pycharm": {
     "name": "#%% md\n"
    }
   }
  },
  {
   "cell_type": "code",
   "execution_count": 61,
   "outputs": [],
   "source": [
    "#Data_Hp\n",
    "#Data_Hp.to_csv('Hp.csv')"
   ],
   "metadata": {
    "collapsed": false,
    "pycharm": {
     "name": "#%%\n"
    }
   }
  },
  {
   "cell_type": "code",
   "execution_count": 44,
   "outputs": [
    {
     "data": {
      "text/plain": "    二氧化硅(SiO2)  氧化钠(Na2O)  氧化钾(K2O)  氧化钙(CaO)  氧化镁(MgO)  氧化铝(Al2O3)  \\\n8        92.63        0.0      0.00      1.07      0.00        1.98   \n9        20.14        0.0      0.00      1.48      0.00        1.34   \n11       95.02        0.0      0.59      0.62      0.00        1.32   \n12       96.77        0.0      0.92      0.21      0.00        0.81   \n13       33.59        0.0      0.21      3.51      0.71        2.69   \n14       94.29        0.0      1.01      0.72      0.00        1.46   \n28       19.79        0.0      0.00      1.44      0.00        0.70   \n\n    氧化铁(Fe2O3)  氧化铜(CuO)  氧化铅(PbO)  氧化钡(BaO)  五氧化二磷(P2O5)  氧化锶(SrO)  \\\n8         0.17      3.24      0.00      0.00         0.61      0.00   \n9         0.00     10.41     28.68     31.23         3.59      0.37   \n11        0.32      1.55      0.00      0.00         0.35      0.00   \n12        0.26      0.84      0.00      0.00         0.00      0.00   \n13        0.00      4.93     25.39     14.61         9.38      0.37   \n14        0.29      1.65      0.00      0.00         0.15      0.00   \n28        0.00     10.57     29.53     32.25         3.13      0.45   \n\n    氧化锡(SnO2)  二氧化硫(SO2)  风化  \n8         0.0       0.00   1  \n9         0.0       2.58   1  \n11        0.0       0.00   1  \n12        0.0       0.00   1  \n13        0.0       0.00   1  \n14        0.0       0.00   1  \n28        0.0       1.96   1  ",
      "text/html": "<div>\n<style scoped>\n    .dataframe tbody tr th:only-of-type {\n        vertical-align: middle;\n    }\n\n    .dataframe tbody tr th {\n        vertical-align: top;\n    }\n\n    .dataframe thead th {\n        text-align: right;\n    }\n</style>\n<table border=\"1\" class=\"dataframe\">\n  <thead>\n    <tr style=\"text-align: right;\">\n      <th></th>\n      <th>二氧化硅(SiO2)</th>\n      <th>氧化钠(Na2O)</th>\n      <th>氧化钾(K2O)</th>\n      <th>氧化钙(CaO)</th>\n      <th>氧化镁(MgO)</th>\n      <th>氧化铝(Al2O3)</th>\n      <th>氧化铁(Fe2O3)</th>\n      <th>氧化铜(CuO)</th>\n      <th>氧化铅(PbO)</th>\n      <th>氧化钡(BaO)</th>\n      <th>五氧化二磷(P2O5)</th>\n      <th>氧化锶(SrO)</th>\n      <th>氧化锡(SnO2)</th>\n      <th>二氧化硫(SO2)</th>\n      <th>风化</th>\n    </tr>\n  </thead>\n  <tbody>\n    <tr>\n      <th>8</th>\n      <td>92.63</td>\n      <td>0.0</td>\n      <td>0.00</td>\n      <td>1.07</td>\n      <td>0.00</td>\n      <td>1.98</td>\n      <td>0.17</td>\n      <td>3.24</td>\n      <td>0.00</td>\n      <td>0.00</td>\n      <td>0.61</td>\n      <td>0.00</td>\n      <td>0.0</td>\n      <td>0.00</td>\n      <td>1</td>\n    </tr>\n    <tr>\n      <th>9</th>\n      <td>20.14</td>\n      <td>0.0</td>\n      <td>0.00</td>\n      <td>1.48</td>\n      <td>0.00</td>\n      <td>1.34</td>\n      <td>0.00</td>\n      <td>10.41</td>\n      <td>28.68</td>\n      <td>31.23</td>\n      <td>3.59</td>\n      <td>0.37</td>\n      <td>0.0</td>\n      <td>2.58</td>\n      <td>1</td>\n    </tr>\n    <tr>\n      <th>11</th>\n      <td>95.02</td>\n      <td>0.0</td>\n      <td>0.59</td>\n      <td>0.62</td>\n      <td>0.00</td>\n      <td>1.32</td>\n      <td>0.32</td>\n      <td>1.55</td>\n      <td>0.00</td>\n      <td>0.00</td>\n      <td>0.35</td>\n      <td>0.00</td>\n      <td>0.0</td>\n      <td>0.00</td>\n      <td>1</td>\n    </tr>\n    <tr>\n      <th>12</th>\n      <td>96.77</td>\n      <td>0.0</td>\n      <td>0.92</td>\n      <td>0.21</td>\n      <td>0.00</td>\n      <td>0.81</td>\n      <td>0.26</td>\n      <td>0.84</td>\n      <td>0.00</td>\n      <td>0.00</td>\n      <td>0.00</td>\n      <td>0.00</td>\n      <td>0.0</td>\n      <td>0.00</td>\n      <td>1</td>\n    </tr>\n    <tr>\n      <th>13</th>\n      <td>33.59</td>\n      <td>0.0</td>\n      <td>0.21</td>\n      <td>3.51</td>\n      <td>0.71</td>\n      <td>2.69</td>\n      <td>0.00</td>\n      <td>4.93</td>\n      <td>25.39</td>\n      <td>14.61</td>\n      <td>9.38</td>\n      <td>0.37</td>\n      <td>0.0</td>\n      <td>0.00</td>\n      <td>1</td>\n    </tr>\n    <tr>\n      <th>14</th>\n      <td>94.29</td>\n      <td>0.0</td>\n      <td>1.01</td>\n      <td>0.72</td>\n      <td>0.00</td>\n      <td>1.46</td>\n      <td>0.29</td>\n      <td>1.65</td>\n      <td>0.00</td>\n      <td>0.00</td>\n      <td>0.15</td>\n      <td>0.00</td>\n      <td>0.0</td>\n      <td>0.00</td>\n      <td>1</td>\n    </tr>\n    <tr>\n      <th>28</th>\n      <td>19.79</td>\n      <td>0.0</td>\n      <td>0.00</td>\n      <td>1.44</td>\n      <td>0.00</td>\n      <td>0.70</td>\n      <td>0.00</td>\n      <td>10.57</td>\n      <td>29.53</td>\n      <td>32.25</td>\n      <td>3.13</td>\n      <td>0.45</td>\n      <td>0.0</td>\n      <td>1.96</td>\n      <td>1</td>\n    </tr>\n  </tbody>\n</table>\n</div>"
     },
     "execution_count": 44,
     "metadata": {},
     "output_type": "execute_result"
    }
   ],
   "source": [
    "Data_Hp_W = Data_Hp.loc[Data_Hp['风化'] == 1]\n",
    "Data_Hp_W"
   ],
   "metadata": {
    "collapsed": false,
    "pycharm": {
     "name": "#%%\n"
    }
   }
  },
  {
   "cell_type": "code",
   "execution_count": 47,
   "outputs": [
    {
     "data": {
      "text/plain": "    二氧化硅(SiO2)  氧化钠(Na2O)  氧化钾(K2O)  氧化钙(CaO)  氧化镁(MgO)  氧化铝(Al2O3)  \\\n0        69.33       0.00      9.99      6.32      0.87        3.93   \n2        87.05       0.00      5.19      2.01      0.00        4.06   \n3        61.71       0.00     12.37      5.87      1.11        5.50   \n4        65.88       0.00      9.67      7.12      1.56        6.44   \n5        61.58       0.00     10.95      7.35      1.77        7.50   \n6        67.65       0.00      7.37      0.00      1.98       11.15   \n15       59.01       2.86     12.53      8.70      0.00        6.16   \n16       62.47       3.38     12.28      8.23      0.66        9.23   \n18       65.18       2.10     14.52      8.27      0.52        6.18   \n22       37.36       0.00      0.71      0.00      0.00        5.45   \n23       76.68       0.00      0.00      4.71      1.22        6.19   \n\n    氧化铁(Fe2O3)  氧化铜(CuO)  氧化铅(PbO)  氧化钡(BaO)  五氧化二磷(P2O5)  氧化锶(SrO)  \\\n0         1.74      3.87      0.00      0.00         1.17      0.00   \n2         0.00      0.78      0.25      0.00         0.66      0.00   \n3         2.16      5.09      1.41      2.86         0.70      0.10   \n4         2.06      2.18      0.00      0.00         0.79      0.00   \n5         2.62      3.27      0.00      0.00         0.94      0.06   \n6         2.39      2.51      0.20      1.38         4.18      0.11   \n15        2.88      4.73      0.00      0.00         1.27      0.00   \n16        0.50      0.47      1.62      0.00         0.16      0.00   \n18        0.42      1.07      0.11      0.00         0.00      0.04   \n22        1.51      4.78      9.30     23.55         5.75      0.00   \n23        2.37      3.28      1.00      1.97         1.10      0.00   \n\n    氧化锡(SnO2)  二氧化硫(SO2)  风化  \n0         0.0       0.39   0  \n2         0.0       0.00   0  \n3         0.0       0.00   0  \n4         0.0       0.36   0  \n5         0.0       0.47   0  \n6         0.0       0.00   0  \n15        0.0       0.00   0  \n16        0.0       0.00   0  \n18        0.0       0.00   0  \n22        0.0       0.00   0  \n23        0.0       0.00   0  ",
      "text/html": "<div>\n<style scoped>\n    .dataframe tbody tr th:only-of-type {\n        vertical-align: middle;\n    }\n\n    .dataframe tbody tr th {\n        vertical-align: top;\n    }\n\n    .dataframe thead th {\n        text-align: right;\n    }\n</style>\n<table border=\"1\" class=\"dataframe\">\n  <thead>\n    <tr style=\"text-align: right;\">\n      <th></th>\n      <th>二氧化硅(SiO2)</th>\n      <th>氧化钠(Na2O)</th>\n      <th>氧化钾(K2O)</th>\n      <th>氧化钙(CaO)</th>\n      <th>氧化镁(MgO)</th>\n      <th>氧化铝(Al2O3)</th>\n      <th>氧化铁(Fe2O3)</th>\n      <th>氧化铜(CuO)</th>\n      <th>氧化铅(PbO)</th>\n      <th>氧化钡(BaO)</th>\n      <th>五氧化二磷(P2O5)</th>\n      <th>氧化锶(SrO)</th>\n      <th>氧化锡(SnO2)</th>\n      <th>二氧化硫(SO2)</th>\n      <th>风化</th>\n    </tr>\n  </thead>\n  <tbody>\n    <tr>\n      <th>0</th>\n      <td>69.33</td>\n      <td>0.00</td>\n      <td>9.99</td>\n      <td>6.32</td>\n      <td>0.87</td>\n      <td>3.93</td>\n      <td>1.74</td>\n      <td>3.87</td>\n      <td>0.00</td>\n      <td>0.00</td>\n      <td>1.17</td>\n      <td>0.00</td>\n      <td>0.0</td>\n      <td>0.39</td>\n      <td>0</td>\n    </tr>\n    <tr>\n      <th>2</th>\n      <td>87.05</td>\n      <td>0.00</td>\n      <td>5.19</td>\n      <td>2.01</td>\n      <td>0.00</td>\n      <td>4.06</td>\n      <td>0.00</td>\n      <td>0.78</td>\n      <td>0.25</td>\n      <td>0.00</td>\n      <td>0.66</td>\n      <td>0.00</td>\n      <td>0.0</td>\n      <td>0.00</td>\n      <td>0</td>\n    </tr>\n    <tr>\n      <th>3</th>\n      <td>61.71</td>\n      <td>0.00</td>\n      <td>12.37</td>\n      <td>5.87</td>\n      <td>1.11</td>\n      <td>5.50</td>\n      <td>2.16</td>\n      <td>5.09</td>\n      <td>1.41</td>\n      <td>2.86</td>\n      <td>0.70</td>\n      <td>0.10</td>\n      <td>0.0</td>\n      <td>0.00</td>\n      <td>0</td>\n    </tr>\n    <tr>\n      <th>4</th>\n      <td>65.88</td>\n      <td>0.00</td>\n      <td>9.67</td>\n      <td>7.12</td>\n      <td>1.56</td>\n      <td>6.44</td>\n      <td>2.06</td>\n      <td>2.18</td>\n      <td>0.00</td>\n      <td>0.00</td>\n      <td>0.79</td>\n      <td>0.00</td>\n      <td>0.0</td>\n      <td>0.36</td>\n      <td>0</td>\n    </tr>\n    <tr>\n      <th>5</th>\n      <td>61.58</td>\n      <td>0.00</td>\n      <td>10.95</td>\n      <td>7.35</td>\n      <td>1.77</td>\n      <td>7.50</td>\n      <td>2.62</td>\n      <td>3.27</td>\n      <td>0.00</td>\n      <td>0.00</td>\n      <td>0.94</td>\n      <td>0.06</td>\n      <td>0.0</td>\n      <td>0.47</td>\n      <td>0</td>\n    </tr>\n    <tr>\n      <th>6</th>\n      <td>67.65</td>\n      <td>0.00</td>\n      <td>7.37</td>\n      <td>0.00</td>\n      <td>1.98</td>\n      <td>11.15</td>\n      <td>2.39</td>\n      <td>2.51</td>\n      <td>0.20</td>\n      <td>1.38</td>\n      <td>4.18</td>\n      <td>0.11</td>\n      <td>0.0</td>\n      <td>0.00</td>\n      <td>0</td>\n    </tr>\n    <tr>\n      <th>15</th>\n      <td>59.01</td>\n      <td>2.86</td>\n      <td>12.53</td>\n      <td>8.70</td>\n      <td>0.00</td>\n      <td>6.16</td>\n      <td>2.88</td>\n      <td>4.73</td>\n      <td>0.00</td>\n      <td>0.00</td>\n      <td>1.27</td>\n      <td>0.00</td>\n      <td>0.0</td>\n      <td>0.00</td>\n      <td>0</td>\n    </tr>\n    <tr>\n      <th>16</th>\n      <td>62.47</td>\n      <td>3.38</td>\n      <td>12.28</td>\n      <td>8.23</td>\n      <td>0.66</td>\n      <td>9.23</td>\n      <td>0.50</td>\n      <td>0.47</td>\n      <td>1.62</td>\n      <td>0.00</td>\n      <td>0.16</td>\n      <td>0.00</td>\n      <td>0.0</td>\n      <td>0.00</td>\n      <td>0</td>\n    </tr>\n    <tr>\n      <th>18</th>\n      <td>65.18</td>\n      <td>2.10</td>\n      <td>14.52</td>\n      <td>8.27</td>\n      <td>0.52</td>\n      <td>6.18</td>\n      <td>0.42</td>\n      <td>1.07</td>\n      <td>0.11</td>\n      <td>0.00</td>\n      <td>0.00</td>\n      <td>0.04</td>\n      <td>0.0</td>\n      <td>0.00</td>\n      <td>0</td>\n    </tr>\n    <tr>\n      <th>22</th>\n      <td>37.36</td>\n      <td>0.00</td>\n      <td>0.71</td>\n      <td>0.00</td>\n      <td>0.00</td>\n      <td>5.45</td>\n      <td>1.51</td>\n      <td>4.78</td>\n      <td>9.30</td>\n      <td>23.55</td>\n      <td>5.75</td>\n      <td>0.00</td>\n      <td>0.0</td>\n      <td>0.00</td>\n      <td>0</td>\n    </tr>\n    <tr>\n      <th>23</th>\n      <td>76.68</td>\n      <td>0.00</td>\n      <td>0.00</td>\n      <td>4.71</td>\n      <td>1.22</td>\n      <td>6.19</td>\n      <td>2.37</td>\n      <td>3.28</td>\n      <td>1.00</td>\n      <td>1.97</td>\n      <td>1.10</td>\n      <td>0.00</td>\n      <td>0.0</td>\n      <td>0.00</td>\n      <td>0</td>\n    </tr>\n  </tbody>\n</table>\n</div>"
     },
     "execution_count": 47,
     "metadata": {},
     "output_type": "execute_result"
    }
   ],
   "source": [
    "Data_Hp_NW = Data_Hp.loc[Data_Hp['风化'] == 0]\n",
    "Data_Hp_NW"
   ],
   "metadata": {
    "collapsed": false,
    "pycharm": {
     "name": "#%%\n"
    }
   }
  },
  {
   "cell_type": "code",
   "execution_count": 51,
   "outputs": [
    {
     "data": {
      "text/plain": "二氧化硅(SiO2)     64.604286\n氧化钠(Na2O)       0.000000\n氧化钾(K2O)        0.390000\n氧化钙(CaO)        1.292857\n氧化镁(MgO)        0.101429\n氧化铝(Al2O3)      1.471429\n氧化铁(Fe2O3)      0.148571\n氧化铜(CuO)        4.741429\n氧化铅(PbO)       11.942857\n氧化钡(BaO)       11.155714\n五氧化二磷(P2O5)     2.458571\n氧化锶(SrO)        0.170000\n氧化锡(SnO2)       0.000000\n二氧化硫(SO2)       0.648571\n风化              1.000000\ndtype: float64"
     },
     "execution_count": 51,
     "metadata": {},
     "output_type": "execute_result"
    }
   ],
   "source": [
    "Hp_mean_feature_W = Data_Hp_W.mean()\n",
    "Hp_mean_feature_W"
   ],
   "metadata": {
    "collapsed": false,
    "pycharm": {
     "name": "#%%\n"
    }
   }
  },
  {
   "cell_type": "code",
   "execution_count": 52,
   "outputs": [
    {
     "data": {
      "text/plain": "二氧化硅(SiO2)     64.900000\n氧化钠(Na2O)       0.758182\n氧化钾(K2O)        8.689091\n氧化钙(CaO)        5.325455\n氧化镁(MgO)        0.880909\n氧化铝(Al2O3)      6.526364\n氧化铁(Fe2O3)      1.695455\n氧化铜(CuO)        2.911818\n氧化铅(PbO)        1.262727\n氧化钡(BaO)        2.705455\n五氧化二磷(P2O5)     1.520000\n氧化锶(SrO)        0.028182\n氧化锡(SnO2)       0.000000\n二氧化硫(SO2)       0.110909\n风化              0.000000\ndtype: float64"
     },
     "execution_count": 52,
     "metadata": {},
     "output_type": "execute_result"
    }
   ],
   "source": [
    "Hp_mean_feature_NW = Data_Hp_NW.mean()\n",
    "Hp_mean_feature_NW"
   ],
   "metadata": {
    "collapsed": false,
    "pycharm": {
     "name": "#%%\n"
    }
   }
  },
  {
   "cell_type": "markdown",
   "source": [
    "铅钡风化前后统计规律"
   ],
   "metadata": {
    "collapsed": false,
    "pycharm": {
     "name": "#%% md\n"
    }
   }
  },
  {
   "cell_type": "code",
   "execution_count": 62,
   "outputs": [
    {
     "data": {
      "text/plain": "    二氧化硅(SiO2)  氧化钠(Na2O)  氧化钾(K2O)  氧化钙(CaO)  氧化镁(MgO)  氧化铝(Al2O3)  \\\n1        36.28       0.00      1.05      2.34      1.18        5.73   \n7        59.81       0.00      7.68      5.41      1.73       10.05   \n10        4.61       0.00      0.00      3.19      0.00        1.11   \n20       79.46       0.00      9.42      0.00      1.53        3.05   \n21       29.64       0.00      0.00      2.93      0.59        3.57   \n24       92.35       0.00      0.74      1.66      0.64        3.50   \n25       53.79       7.92      0.00      0.50      0.71        1.42   \n26       31.94       0.00      0.00      0.47      0.00        1.59   \n27       50.61       2.31      0.00      0.63      0.00        1.90   \n29        3.72       0.00      0.40      3.01      0.00        1.18   \n30       92.72       0.00      0.00      0.94      0.54        2.51   \n31       68.08       0.00      0.26      1.34      1.00        4.70   \n33       34.34       0.00      1.41      4.49      0.98        4.35   \n34       36.93       0.00      0.00      4.24      0.51        3.86   \n35       65.91       0.00      0.00      1.60      0.89        3.11   \n36       69.71       0.00      0.21      0.46      0.00        2.36   \n37       75.51       0.00      0.15      0.64      1.00        2.35   \n38       35.78       0.00      0.25      0.78      0.00        1.62   \n39       65.91       0.00      0.00      0.38      0.00        1.44   \n40       39.57       2.22      0.14      0.37      0.00        1.60   \n41       60.12       0.00      0.23      0.89      0.00        2.72   \n42       32.93       1.38      0.00      0.68      0.00        2.57   \n43       26.25       0.00      0.00      1.11      0.00        0.50   \n44       16.71       0.00      0.00      1.87      0.00        0.45   \n45       18.46       0.00      0.44      4.96      2.73        3.33   \n46       51.26       5.74      0.15      0.79      1.09        3.53   \n47       51.33       5.68      0.35      0.00      1.16        5.66   \n48       12.41       0.00      0.00      5.24      0.89        2.25   \n49       21.70       0.00      0.00      6.40      0.95        3.41   \n50       60.74       3.06      0.20      2.14      0.00       12.69   \n51       61.28       2.66      0.11      0.84      0.74        5.00   \n52       55.21       0.00      0.25      0.00      1.67        4.79   \n53       51.54       4.66      0.29      0.87      0.61        3.06   \n54       53.33       0.80      0.32      2.82      1.54       13.65   \n55       28.79       0.00      0.00      4.58      1.47        5.38   \n56       54.61       0.00      0.30      2.08      1.20        6.50   \n57       17.98       0.00      0.00      3.19      0.47        1.87   \n58       45.02       0.00      0.00      3.12      0.54        4.16   \n59       24.61       0.00      0.00      3.58      1.19        5.25   \n60       21.35       0.00      0.00      5.13      1.45        2.51   \n\n    氧化铁(Fe2O3)  氧化铜(CuO)  氧化铅(PbO)  氧化钡(BaO)  五氧化二磷(P2O5)  氧化锶(SrO)  \\\n1         1.86      0.26     47.43      0.00         3.57      0.19   \n7         6.04      2.18      0.35      0.97         4.50      0.12   \n10        0.00      3.14     32.45     30.62         7.56      0.53   \n20        0.00      0.00      0.00      0.00         1.36      0.07   \n21        1.33      3.51     42.82      5.35         8.83      0.19   \n24        0.35      0.55      0.00      0.00         0.21      0.00   \n25        0.00      2.99     16.98     11.86         0.00      0.33   \n26        0.00      8.46     29.14     26.23         0.14      0.91   \n27        1.55      1.12     31.90      6.65         0.19      0.20   \n29        0.00      3.60     29.92     35.45         6.04      0.62   \n30        0.20      1.54      0.00      0.00         0.36      0.00   \n31        0.41      0.33     17.14      4.04         1.04      0.12   \n33        2.12      0.00     39.22     10.29         0.00      0.35   \n34        2.74      0.00     37.74     10.35         1.41      0.48   \n35        4.59      0.44     16.55      3.42         1.62      0.30   \n36        1.00      0.11     19.76      4.88         0.17      0.00   \n37        0.00      0.47     16.16      3.55         0.13      0.00   \n38        0.47      1.51     46.55     10.00         0.34      0.22   \n39        0.17      0.16     22.05      5.68         0.42      0.00   \n40        0.32      0.68     41.61     10.83         0.07      0.22   \n41        0.00      3.01     17.24     10.34         1.46      0.31   \n42        0.29      0.73     49.31      9.79         0.48      0.41   \n43        0.00      0.88     61.03      7.22         1.16      0.61   \n44        0.19      0.00     70.21      6.69         1.77      0.68   \n45        1.79      0.19     44.12      9.76         7.46      0.47   \n46        0.00      2.67     21.88     10.47         0.08      0.35   \n47        0.00      2.72     20.12     10.88         0.00      0.00   \n48        0.76      5.35     59.85      7.29         0.00      0.64   \n49        1.39      1.51     44.75      3.26        12.83      0.47   \n50        0.77      0.43     13.61      5.22         0.00      0.26   \n51        0.00      0.53     15.99     10.96         0.00      0.23   \n52        0.00      0.77     25.25     10.06         0.20      0.43   \n53        0.00      0.65     25.40      9.23         0.10      0.85   \n54        1.03      0.00     15.71      7.31         1.10      0.25   \n55        2.74      0.70     34.18      6.10        11.10      0.46   \n56        1.27      0.45     23.02      4.19         4.32      0.30   \n57        0.33      1.13     44.00     14.20         6.34      0.66   \n58        0.00      0.70     30.61      6.22         6.34      0.23   \n59        1.19      1.37     40.24      8.94         8.10      0.39   \n60        0.42      0.75     51.34      0.00         8.75      0.00   \n\n    氧化锡(SnO2)  二氧化硫(SO2)  风化  \n1        0.00       0.00   1  \n7        0.00       0.00   0  \n10       0.00      15.03   1  \n20       2.36       0.00   0  \n21       0.00       0.00   1  \n24       0.00       0.00   1  \n25       0.00       0.00   1  \n26       0.00       0.00   0  \n27       0.00       0.00   1  \n29       0.00      15.95   1  \n30       0.00       0.00   1  \n31       0.23       0.00   1  \n33       0.40       0.00   0  \n34       0.44       0.00   0  \n35       0.00       0.00   0  \n36       0.00       0.00   0  \n37       0.00       0.00   0  \n38       0.00       0.00   1  \n39       0.00       0.00   0  \n40       0.00       0.00   1  \n41       0.00       3.66   0  \n42       0.00       0.00   1  \n43       0.00       0.00   1  \n44       0.00       0.00   1  \n45       0.00       0.00   1  \n46       0.00       0.00   1  \n47       0.00       0.00   1  \n48       0.00       0.00   1  \n49       0.00       0.00   1  \n50       0.00       0.00   1  \n51       0.00       0.00   0  \n52       0.00       0.00   0  \n53       0.00       0.00   0  \n54       1.31       0.00   1  \n55       0.00       0.00   1  \n56       0.00       0.00   1  \n57       0.00       0.00   1  \n58       0.00       0.00   1  \n59       0.47       0.00   1  \n60       0.00       0.00   1  ",
      "text/html": "<div>\n<style scoped>\n    .dataframe tbody tr th:only-of-type {\n        vertical-align: middle;\n    }\n\n    .dataframe tbody tr th {\n        vertical-align: top;\n    }\n\n    .dataframe thead th {\n        text-align: right;\n    }\n</style>\n<table border=\"1\" class=\"dataframe\">\n  <thead>\n    <tr style=\"text-align: right;\">\n      <th></th>\n      <th>二氧化硅(SiO2)</th>\n      <th>氧化钠(Na2O)</th>\n      <th>氧化钾(K2O)</th>\n      <th>氧化钙(CaO)</th>\n      <th>氧化镁(MgO)</th>\n      <th>氧化铝(Al2O3)</th>\n      <th>氧化铁(Fe2O3)</th>\n      <th>氧化铜(CuO)</th>\n      <th>氧化铅(PbO)</th>\n      <th>氧化钡(BaO)</th>\n      <th>五氧化二磷(P2O5)</th>\n      <th>氧化锶(SrO)</th>\n      <th>氧化锡(SnO2)</th>\n      <th>二氧化硫(SO2)</th>\n      <th>风化</th>\n    </tr>\n  </thead>\n  <tbody>\n    <tr>\n      <th>1</th>\n      <td>36.28</td>\n      <td>0.00</td>\n      <td>1.05</td>\n      <td>2.34</td>\n      <td>1.18</td>\n      <td>5.73</td>\n      <td>1.86</td>\n      <td>0.26</td>\n      <td>47.43</td>\n      <td>0.00</td>\n      <td>3.57</td>\n      <td>0.19</td>\n      <td>0.00</td>\n      <td>0.00</td>\n      <td>1</td>\n    </tr>\n    <tr>\n      <th>7</th>\n      <td>59.81</td>\n      <td>0.00</td>\n      <td>7.68</td>\n      <td>5.41</td>\n      <td>1.73</td>\n      <td>10.05</td>\n      <td>6.04</td>\n      <td>2.18</td>\n      <td>0.35</td>\n      <td>0.97</td>\n      <td>4.50</td>\n      <td>0.12</td>\n      <td>0.00</td>\n      <td>0.00</td>\n      <td>0</td>\n    </tr>\n    <tr>\n      <th>10</th>\n      <td>4.61</td>\n      <td>0.00</td>\n      <td>0.00</td>\n      <td>3.19</td>\n      <td>0.00</td>\n      <td>1.11</td>\n      <td>0.00</td>\n      <td>3.14</td>\n      <td>32.45</td>\n      <td>30.62</td>\n      <td>7.56</td>\n      <td>0.53</td>\n      <td>0.00</td>\n      <td>15.03</td>\n      <td>1</td>\n    </tr>\n    <tr>\n      <th>20</th>\n      <td>79.46</td>\n      <td>0.00</td>\n      <td>9.42</td>\n      <td>0.00</td>\n      <td>1.53</td>\n      <td>3.05</td>\n      <td>0.00</td>\n      <td>0.00</td>\n      <td>0.00</td>\n      <td>0.00</td>\n      <td>1.36</td>\n      <td>0.07</td>\n      <td>2.36</td>\n      <td>0.00</td>\n      <td>0</td>\n    </tr>\n    <tr>\n      <th>21</th>\n      <td>29.64</td>\n      <td>0.00</td>\n      <td>0.00</td>\n      <td>2.93</td>\n      <td>0.59</td>\n      <td>3.57</td>\n      <td>1.33</td>\n      <td>3.51</td>\n      <td>42.82</td>\n      <td>5.35</td>\n      <td>8.83</td>\n      <td>0.19</td>\n      <td>0.00</td>\n      <td>0.00</td>\n      <td>1</td>\n    </tr>\n    <tr>\n      <th>24</th>\n      <td>92.35</td>\n      <td>0.00</td>\n      <td>0.74</td>\n      <td>1.66</td>\n      <td>0.64</td>\n      <td>3.50</td>\n      <td>0.35</td>\n      <td>0.55</td>\n      <td>0.00</td>\n      <td>0.00</td>\n      <td>0.21</td>\n      <td>0.00</td>\n      <td>0.00</td>\n      <td>0.00</td>\n      <td>1</td>\n    </tr>\n    <tr>\n      <th>25</th>\n      <td>53.79</td>\n      <td>7.92</td>\n      <td>0.00</td>\n      <td>0.50</td>\n      <td>0.71</td>\n      <td>1.42</td>\n      <td>0.00</td>\n      <td>2.99</td>\n      <td>16.98</td>\n      <td>11.86</td>\n      <td>0.00</td>\n      <td>0.33</td>\n      <td>0.00</td>\n      <td>0.00</td>\n      <td>1</td>\n    </tr>\n    <tr>\n      <th>26</th>\n      <td>31.94</td>\n      <td>0.00</td>\n      <td>0.00</td>\n      <td>0.47</td>\n      <td>0.00</td>\n      <td>1.59</td>\n      <td>0.00</td>\n      <td>8.46</td>\n      <td>29.14</td>\n      <td>26.23</td>\n      <td>0.14</td>\n      <td>0.91</td>\n      <td>0.00</td>\n      <td>0.00</td>\n      <td>0</td>\n    </tr>\n    <tr>\n      <th>27</th>\n      <td>50.61</td>\n      <td>2.31</td>\n      <td>0.00</td>\n      <td>0.63</td>\n      <td>0.00</td>\n      <td>1.90</td>\n      <td>1.55</td>\n      <td>1.12</td>\n      <td>31.90</td>\n      <td>6.65</td>\n      <td>0.19</td>\n      <td>0.20</td>\n      <td>0.00</td>\n      <td>0.00</td>\n      <td>1</td>\n    </tr>\n    <tr>\n      <th>29</th>\n      <td>3.72</td>\n      <td>0.00</td>\n      <td>0.40</td>\n      <td>3.01</td>\n      <td>0.00</td>\n      <td>1.18</td>\n      <td>0.00</td>\n      <td>3.60</td>\n      <td>29.92</td>\n      <td>35.45</td>\n      <td>6.04</td>\n      <td>0.62</td>\n      <td>0.00</td>\n      <td>15.95</td>\n      <td>1</td>\n    </tr>\n    <tr>\n      <th>30</th>\n      <td>92.72</td>\n      <td>0.00</td>\n      <td>0.00</td>\n      <td>0.94</td>\n      <td>0.54</td>\n      <td>2.51</td>\n      <td>0.20</td>\n      <td>1.54</td>\n      <td>0.00</td>\n      <td>0.00</td>\n      <td>0.36</td>\n      <td>0.00</td>\n      <td>0.00</td>\n      <td>0.00</td>\n      <td>1</td>\n    </tr>\n    <tr>\n      <th>31</th>\n      <td>68.08</td>\n      <td>0.00</td>\n      <td>0.26</td>\n      <td>1.34</td>\n      <td>1.00</td>\n      <td>4.70</td>\n      <td>0.41</td>\n      <td>0.33</td>\n      <td>17.14</td>\n      <td>4.04</td>\n      <td>1.04</td>\n      <td>0.12</td>\n      <td>0.23</td>\n      <td>0.00</td>\n      <td>1</td>\n    </tr>\n    <tr>\n      <th>33</th>\n      <td>34.34</td>\n      <td>0.00</td>\n      <td>1.41</td>\n      <td>4.49</td>\n      <td>0.98</td>\n      <td>4.35</td>\n      <td>2.12</td>\n      <td>0.00</td>\n      <td>39.22</td>\n      <td>10.29</td>\n      <td>0.00</td>\n      <td>0.35</td>\n      <td>0.40</td>\n      <td>0.00</td>\n      <td>0</td>\n    </tr>\n    <tr>\n      <th>34</th>\n      <td>36.93</td>\n      <td>0.00</td>\n      <td>0.00</td>\n      <td>4.24</td>\n      <td>0.51</td>\n      <td>3.86</td>\n      <td>2.74</td>\n      <td>0.00</td>\n      <td>37.74</td>\n      <td>10.35</td>\n      <td>1.41</td>\n      <td>0.48</td>\n      <td>0.44</td>\n      <td>0.00</td>\n      <td>0</td>\n    </tr>\n    <tr>\n      <th>35</th>\n      <td>65.91</td>\n      <td>0.00</td>\n      <td>0.00</td>\n      <td>1.60</td>\n      <td>0.89</td>\n      <td>3.11</td>\n      <td>4.59</td>\n      <td>0.44</td>\n      <td>16.55</td>\n      <td>3.42</td>\n      <td>1.62</td>\n      <td>0.30</td>\n      <td>0.00</td>\n      <td>0.00</td>\n      <td>0</td>\n    </tr>\n    <tr>\n      <th>36</th>\n      <td>69.71</td>\n      <td>0.00</td>\n      <td>0.21</td>\n      <td>0.46</td>\n      <td>0.00</td>\n      <td>2.36</td>\n      <td>1.00</td>\n      <td>0.11</td>\n      <td>19.76</td>\n      <td>4.88</td>\n      <td>0.17</td>\n      <td>0.00</td>\n      <td>0.00</td>\n      <td>0.00</td>\n      <td>0</td>\n    </tr>\n    <tr>\n      <th>37</th>\n      <td>75.51</td>\n      <td>0.00</td>\n      <td>0.15</td>\n      <td>0.64</td>\n      <td>1.00</td>\n      <td>2.35</td>\n      <td>0.00</td>\n      <td>0.47</td>\n      <td>16.16</td>\n      <td>3.55</td>\n      <td>0.13</td>\n      <td>0.00</td>\n      <td>0.00</td>\n      <td>0.00</td>\n      <td>0</td>\n    </tr>\n    <tr>\n      <th>38</th>\n      <td>35.78</td>\n      <td>0.00</td>\n      <td>0.25</td>\n      <td>0.78</td>\n      <td>0.00</td>\n      <td>1.62</td>\n      <td>0.47</td>\n      <td>1.51</td>\n      <td>46.55</td>\n      <td>10.00</td>\n      <td>0.34</td>\n      <td>0.22</td>\n      <td>0.00</td>\n      <td>0.00</td>\n      <td>1</td>\n    </tr>\n    <tr>\n      <th>39</th>\n      <td>65.91</td>\n      <td>0.00</td>\n      <td>0.00</td>\n      <td>0.38</td>\n      <td>0.00</td>\n      <td>1.44</td>\n      <td>0.17</td>\n      <td>0.16</td>\n      <td>22.05</td>\n      <td>5.68</td>\n      <td>0.42</td>\n      <td>0.00</td>\n      <td>0.00</td>\n      <td>0.00</td>\n      <td>0</td>\n    </tr>\n    <tr>\n      <th>40</th>\n      <td>39.57</td>\n      <td>2.22</td>\n      <td>0.14</td>\n      <td>0.37</td>\n      <td>0.00</td>\n      <td>1.60</td>\n      <td>0.32</td>\n      <td>0.68</td>\n      <td>41.61</td>\n      <td>10.83</td>\n      <td>0.07</td>\n      <td>0.22</td>\n      <td>0.00</td>\n      <td>0.00</td>\n      <td>1</td>\n    </tr>\n    <tr>\n      <th>41</th>\n      <td>60.12</td>\n      <td>0.00</td>\n      <td>0.23</td>\n      <td>0.89</td>\n      <td>0.00</td>\n      <td>2.72</td>\n      <td>0.00</td>\n      <td>3.01</td>\n      <td>17.24</td>\n      <td>10.34</td>\n      <td>1.46</td>\n      <td>0.31</td>\n      <td>0.00</td>\n      <td>3.66</td>\n      <td>0</td>\n    </tr>\n    <tr>\n      <th>42</th>\n      <td>32.93</td>\n      <td>1.38</td>\n      <td>0.00</td>\n      <td>0.68</td>\n      <td>0.00</td>\n      <td>2.57</td>\n      <td>0.29</td>\n      <td>0.73</td>\n      <td>49.31</td>\n      <td>9.79</td>\n      <td>0.48</td>\n      <td>0.41</td>\n      <td>0.00</td>\n      <td>0.00</td>\n      <td>1</td>\n    </tr>\n    <tr>\n      <th>43</th>\n      <td>26.25</td>\n      <td>0.00</td>\n      <td>0.00</td>\n      <td>1.11</td>\n      <td>0.00</td>\n      <td>0.50</td>\n      <td>0.00</td>\n      <td>0.88</td>\n      <td>61.03</td>\n      <td>7.22</td>\n      <td>1.16</td>\n      <td>0.61</td>\n      <td>0.00</td>\n      <td>0.00</td>\n      <td>1</td>\n    </tr>\n    <tr>\n      <th>44</th>\n      <td>16.71</td>\n      <td>0.00</td>\n      <td>0.00</td>\n      <td>1.87</td>\n      <td>0.00</td>\n      <td>0.45</td>\n      <td>0.19</td>\n      <td>0.00</td>\n      <td>70.21</td>\n      <td>6.69</td>\n      <td>1.77</td>\n      <td>0.68</td>\n      <td>0.00</td>\n      <td>0.00</td>\n      <td>1</td>\n    </tr>\n    <tr>\n      <th>45</th>\n      <td>18.46</td>\n      <td>0.00</td>\n      <td>0.44</td>\n      <td>4.96</td>\n      <td>2.73</td>\n      <td>3.33</td>\n      <td>1.79</td>\n      <td>0.19</td>\n      <td>44.12</td>\n      <td>9.76</td>\n      <td>7.46</td>\n      <td>0.47</td>\n      <td>0.00</td>\n      <td>0.00</td>\n      <td>1</td>\n    </tr>\n    <tr>\n      <th>46</th>\n      <td>51.26</td>\n      <td>5.74</td>\n      <td>0.15</td>\n      <td>0.79</td>\n      <td>1.09</td>\n      <td>3.53</td>\n      <td>0.00</td>\n      <td>2.67</td>\n      <td>21.88</td>\n      <td>10.47</td>\n      <td>0.08</td>\n      <td>0.35</td>\n      <td>0.00</td>\n      <td>0.00</td>\n      <td>1</td>\n    </tr>\n    <tr>\n      <th>47</th>\n      <td>51.33</td>\n      <td>5.68</td>\n      <td>0.35</td>\n      <td>0.00</td>\n      <td>1.16</td>\n      <td>5.66</td>\n      <td>0.00</td>\n      <td>2.72</td>\n      <td>20.12</td>\n      <td>10.88</td>\n      <td>0.00</td>\n      <td>0.00</td>\n      <td>0.00</td>\n      <td>0.00</td>\n      <td>1</td>\n    </tr>\n    <tr>\n      <th>48</th>\n      <td>12.41</td>\n      <td>0.00</td>\n      <td>0.00</td>\n      <td>5.24</td>\n      <td>0.89</td>\n      <td>2.25</td>\n      <td>0.76</td>\n      <td>5.35</td>\n      <td>59.85</td>\n      <td>7.29</td>\n      <td>0.00</td>\n      <td>0.64</td>\n      <td>0.00</td>\n      <td>0.00</td>\n      <td>1</td>\n    </tr>\n    <tr>\n      <th>49</th>\n      <td>21.70</td>\n      <td>0.00</td>\n      <td>0.00</td>\n      <td>6.40</td>\n      <td>0.95</td>\n      <td>3.41</td>\n      <td>1.39</td>\n      <td>1.51</td>\n      <td>44.75</td>\n      <td>3.26</td>\n      <td>12.83</td>\n      <td>0.47</td>\n      <td>0.00</td>\n      <td>0.00</td>\n      <td>1</td>\n    </tr>\n    <tr>\n      <th>50</th>\n      <td>60.74</td>\n      <td>3.06</td>\n      <td>0.20</td>\n      <td>2.14</td>\n      <td>0.00</td>\n      <td>12.69</td>\n      <td>0.77</td>\n      <td>0.43</td>\n      <td>13.61</td>\n      <td>5.22</td>\n      <td>0.00</td>\n      <td>0.26</td>\n      <td>0.00</td>\n      <td>0.00</td>\n      <td>1</td>\n    </tr>\n    <tr>\n      <th>51</th>\n      <td>61.28</td>\n      <td>2.66</td>\n      <td>0.11</td>\n      <td>0.84</td>\n      <td>0.74</td>\n      <td>5.00</td>\n      <td>0.00</td>\n      <td>0.53</td>\n      <td>15.99</td>\n      <td>10.96</td>\n      <td>0.00</td>\n      <td>0.23</td>\n      <td>0.00</td>\n      <td>0.00</td>\n      <td>0</td>\n    </tr>\n    <tr>\n      <th>52</th>\n      <td>55.21</td>\n      <td>0.00</td>\n      <td>0.25</td>\n      <td>0.00</td>\n      <td>1.67</td>\n      <td>4.79</td>\n      <td>0.00</td>\n      <td>0.77</td>\n      <td>25.25</td>\n      <td>10.06</td>\n      <td>0.20</td>\n      <td>0.43</td>\n      <td>0.00</td>\n      <td>0.00</td>\n      <td>0</td>\n    </tr>\n    <tr>\n      <th>53</th>\n      <td>51.54</td>\n      <td>4.66</td>\n      <td>0.29</td>\n      <td>0.87</td>\n      <td>0.61</td>\n      <td>3.06</td>\n      <td>0.00</td>\n      <td>0.65</td>\n      <td>25.40</td>\n      <td>9.23</td>\n      <td>0.10</td>\n      <td>0.85</td>\n      <td>0.00</td>\n      <td>0.00</td>\n      <td>0</td>\n    </tr>\n    <tr>\n      <th>54</th>\n      <td>53.33</td>\n      <td>0.80</td>\n      <td>0.32</td>\n      <td>2.82</td>\n      <td>1.54</td>\n      <td>13.65</td>\n      <td>1.03</td>\n      <td>0.00</td>\n      <td>15.71</td>\n      <td>7.31</td>\n      <td>1.10</td>\n      <td>0.25</td>\n      <td>1.31</td>\n      <td>0.00</td>\n      <td>1</td>\n    </tr>\n    <tr>\n      <th>55</th>\n      <td>28.79</td>\n      <td>0.00</td>\n      <td>0.00</td>\n      <td>4.58</td>\n      <td>1.47</td>\n      <td>5.38</td>\n      <td>2.74</td>\n      <td>0.70</td>\n      <td>34.18</td>\n      <td>6.10</td>\n      <td>11.10</td>\n      <td>0.46</td>\n      <td>0.00</td>\n      <td>0.00</td>\n      <td>1</td>\n    </tr>\n    <tr>\n      <th>56</th>\n      <td>54.61</td>\n      <td>0.00</td>\n      <td>0.30</td>\n      <td>2.08</td>\n      <td>1.20</td>\n      <td>6.50</td>\n      <td>1.27</td>\n      <td>0.45</td>\n      <td>23.02</td>\n      <td>4.19</td>\n      <td>4.32</td>\n      <td>0.30</td>\n      <td>0.00</td>\n      <td>0.00</td>\n      <td>1</td>\n    </tr>\n    <tr>\n      <th>57</th>\n      <td>17.98</td>\n      <td>0.00</td>\n      <td>0.00</td>\n      <td>3.19</td>\n      <td>0.47</td>\n      <td>1.87</td>\n      <td>0.33</td>\n      <td>1.13</td>\n      <td>44.00</td>\n      <td>14.20</td>\n      <td>6.34</td>\n      <td>0.66</td>\n      <td>0.00</td>\n      <td>0.00</td>\n      <td>1</td>\n    </tr>\n    <tr>\n      <th>58</th>\n      <td>45.02</td>\n      <td>0.00</td>\n      <td>0.00</td>\n      <td>3.12</td>\n      <td>0.54</td>\n      <td>4.16</td>\n      <td>0.00</td>\n      <td>0.70</td>\n      <td>30.61</td>\n      <td>6.22</td>\n      <td>6.34</td>\n      <td>0.23</td>\n      <td>0.00</td>\n      <td>0.00</td>\n      <td>1</td>\n    </tr>\n    <tr>\n      <th>59</th>\n      <td>24.61</td>\n      <td>0.00</td>\n      <td>0.00</td>\n      <td>3.58</td>\n      <td>1.19</td>\n      <td>5.25</td>\n      <td>1.19</td>\n      <td>1.37</td>\n      <td>40.24</td>\n      <td>8.94</td>\n      <td>8.10</td>\n      <td>0.39</td>\n      <td>0.47</td>\n      <td>0.00</td>\n      <td>1</td>\n    </tr>\n    <tr>\n      <th>60</th>\n      <td>21.35</td>\n      <td>0.00</td>\n      <td>0.00</td>\n      <td>5.13</td>\n      <td>1.45</td>\n      <td>2.51</td>\n      <td>0.42</td>\n      <td>0.75</td>\n      <td>51.34</td>\n      <td>0.00</td>\n      <td>8.75</td>\n      <td>0.00</td>\n      <td>0.00</td>\n      <td>0.00</td>\n      <td>1</td>\n    </tr>\n  </tbody>\n</table>\n</div>"
     },
     "execution_count": 62,
     "metadata": {},
     "output_type": "execute_result"
    }
   ],
   "source": [
    "#Data_Bp.to_csv('Bp.csv')\n",
    "Data_Bp"
   ],
   "metadata": {
    "collapsed": false,
    "pycharm": {
     "name": "#%%\n"
    }
   }
  },
  {
   "cell_type": "markdown",
   "source": [],
   "metadata": {
    "collapsed": false,
    "pycharm": {
     "name": "#%% md\n"
    }
   }
  },
  {
   "cell_type": "code",
   "execution_count": 54,
   "outputs": [
    {
     "data": {
      "text/plain": "    二氧化硅(SiO2)  氧化钠(Na2O)  氧化钾(K2O)  氧化钙(CaO)  氧化镁(MgO)  氧化铝(Al2O3)  \\\n1        36.28       0.00      1.05      2.34      1.18        5.73   \n10        4.61       0.00      0.00      3.19      0.00        1.11   \n21       29.64       0.00      0.00      2.93      0.59        3.57   \n24       92.35       0.00      0.74      1.66      0.64        3.50   \n25       53.79       7.92      0.00      0.50      0.71        1.42   \n27       50.61       2.31      0.00      0.63      0.00        1.90   \n29        3.72       0.00      0.40      3.01      0.00        1.18   \n30       92.72       0.00      0.00      0.94      0.54        2.51   \n31       68.08       0.00      0.26      1.34      1.00        4.70   \n38       35.78       0.00      0.25      0.78      0.00        1.62   \n40       39.57       2.22      0.14      0.37      0.00        1.60   \n42       32.93       1.38      0.00      0.68      0.00        2.57   \n43       26.25       0.00      0.00      1.11      0.00        0.50   \n44       16.71       0.00      0.00      1.87      0.00        0.45   \n45       18.46       0.00      0.44      4.96      2.73        3.33   \n46       51.26       5.74      0.15      0.79      1.09        3.53   \n47       51.33       5.68      0.35      0.00      1.16        5.66   \n48       12.41       0.00      0.00      5.24      0.89        2.25   \n49       21.70       0.00      0.00      6.40      0.95        3.41   \n50       60.74       3.06      0.20      2.14      0.00       12.69   \n54       53.33       0.80      0.32      2.82      1.54       13.65   \n55       28.79       0.00      0.00      4.58      1.47        5.38   \n56       54.61       0.00      0.30      2.08      1.20        6.50   \n57       17.98       0.00      0.00      3.19      0.47        1.87   \n58       45.02       0.00      0.00      3.12      0.54        4.16   \n59       24.61       0.00      0.00      3.58      1.19        5.25   \n60       21.35       0.00      0.00      5.13      1.45        2.51   \n\n    氧化铁(Fe2O3)  氧化铜(CuO)  氧化铅(PbO)  氧化钡(BaO)  五氧化二磷(P2O5)  氧化锶(SrO)  \\\n1         1.86      0.26     47.43      0.00         3.57      0.19   \n10        0.00      3.14     32.45     30.62         7.56      0.53   \n21        1.33      3.51     42.82      5.35         8.83      0.19   \n24        0.35      0.55      0.00      0.00         0.21      0.00   \n25        0.00      2.99     16.98     11.86         0.00      0.33   \n27        1.55      1.12     31.90      6.65         0.19      0.20   \n29        0.00      3.60     29.92     35.45         6.04      0.62   \n30        0.20      1.54      0.00      0.00         0.36      0.00   \n31        0.41      0.33     17.14      4.04         1.04      0.12   \n38        0.47      1.51     46.55     10.00         0.34      0.22   \n40        0.32      0.68     41.61     10.83         0.07      0.22   \n42        0.29      0.73     49.31      9.79         0.48      0.41   \n43        0.00      0.88     61.03      7.22         1.16      0.61   \n44        0.19      0.00     70.21      6.69         1.77      0.68   \n45        1.79      0.19     44.12      9.76         7.46      0.47   \n46        0.00      2.67     21.88     10.47         0.08      0.35   \n47        0.00      2.72     20.12     10.88         0.00      0.00   \n48        0.76      5.35     59.85      7.29         0.00      0.64   \n49        1.39      1.51     44.75      3.26        12.83      0.47   \n50        0.77      0.43     13.61      5.22         0.00      0.26   \n54        1.03      0.00     15.71      7.31         1.10      0.25   \n55        2.74      0.70     34.18      6.10        11.10      0.46   \n56        1.27      0.45     23.02      4.19         4.32      0.30   \n57        0.33      1.13     44.00     14.20         6.34      0.66   \n58        0.00      0.70     30.61      6.22         6.34      0.23   \n59        1.19      1.37     40.24      8.94         8.10      0.39   \n60        0.42      0.75     51.34      0.00         8.75      0.00   \n\n    氧化锡(SnO2)  二氧化硫(SO2)  风化  \n1        0.00       0.00   1  \n10       0.00      15.03   1  \n21       0.00       0.00   1  \n24       0.00       0.00   1  \n25       0.00       0.00   1  \n27       0.00       0.00   1  \n29       0.00      15.95   1  \n30       0.00       0.00   1  \n31       0.23       0.00   1  \n38       0.00       0.00   1  \n40       0.00       0.00   1  \n42       0.00       0.00   1  \n43       0.00       0.00   1  \n44       0.00       0.00   1  \n45       0.00       0.00   1  \n46       0.00       0.00   1  \n47       0.00       0.00   1  \n48       0.00       0.00   1  \n49       0.00       0.00   1  \n50       0.00       0.00   1  \n54       1.31       0.00   1  \n55       0.00       0.00   1  \n56       0.00       0.00   1  \n57       0.00       0.00   1  \n58       0.00       0.00   1  \n59       0.47       0.00   1  \n60       0.00       0.00   1  ",
      "text/html": "<div>\n<style scoped>\n    .dataframe tbody tr th:only-of-type {\n        vertical-align: middle;\n    }\n\n    .dataframe tbody tr th {\n        vertical-align: top;\n    }\n\n    .dataframe thead th {\n        text-align: right;\n    }\n</style>\n<table border=\"1\" class=\"dataframe\">\n  <thead>\n    <tr style=\"text-align: right;\">\n      <th></th>\n      <th>二氧化硅(SiO2)</th>\n      <th>氧化钠(Na2O)</th>\n      <th>氧化钾(K2O)</th>\n      <th>氧化钙(CaO)</th>\n      <th>氧化镁(MgO)</th>\n      <th>氧化铝(Al2O3)</th>\n      <th>氧化铁(Fe2O3)</th>\n      <th>氧化铜(CuO)</th>\n      <th>氧化铅(PbO)</th>\n      <th>氧化钡(BaO)</th>\n      <th>五氧化二磷(P2O5)</th>\n      <th>氧化锶(SrO)</th>\n      <th>氧化锡(SnO2)</th>\n      <th>二氧化硫(SO2)</th>\n      <th>风化</th>\n    </tr>\n  </thead>\n  <tbody>\n    <tr>\n      <th>1</th>\n      <td>36.28</td>\n      <td>0.00</td>\n      <td>1.05</td>\n      <td>2.34</td>\n      <td>1.18</td>\n      <td>5.73</td>\n      <td>1.86</td>\n      <td>0.26</td>\n      <td>47.43</td>\n      <td>0.00</td>\n      <td>3.57</td>\n      <td>0.19</td>\n      <td>0.00</td>\n      <td>0.00</td>\n      <td>1</td>\n    </tr>\n    <tr>\n      <th>10</th>\n      <td>4.61</td>\n      <td>0.00</td>\n      <td>0.00</td>\n      <td>3.19</td>\n      <td>0.00</td>\n      <td>1.11</td>\n      <td>0.00</td>\n      <td>3.14</td>\n      <td>32.45</td>\n      <td>30.62</td>\n      <td>7.56</td>\n      <td>0.53</td>\n      <td>0.00</td>\n      <td>15.03</td>\n      <td>1</td>\n    </tr>\n    <tr>\n      <th>21</th>\n      <td>29.64</td>\n      <td>0.00</td>\n      <td>0.00</td>\n      <td>2.93</td>\n      <td>0.59</td>\n      <td>3.57</td>\n      <td>1.33</td>\n      <td>3.51</td>\n      <td>42.82</td>\n      <td>5.35</td>\n      <td>8.83</td>\n      <td>0.19</td>\n      <td>0.00</td>\n      <td>0.00</td>\n      <td>1</td>\n    </tr>\n    <tr>\n      <th>24</th>\n      <td>92.35</td>\n      <td>0.00</td>\n      <td>0.74</td>\n      <td>1.66</td>\n      <td>0.64</td>\n      <td>3.50</td>\n      <td>0.35</td>\n      <td>0.55</td>\n      <td>0.00</td>\n      <td>0.00</td>\n      <td>0.21</td>\n      <td>0.00</td>\n      <td>0.00</td>\n      <td>0.00</td>\n      <td>1</td>\n    </tr>\n    <tr>\n      <th>25</th>\n      <td>53.79</td>\n      <td>7.92</td>\n      <td>0.00</td>\n      <td>0.50</td>\n      <td>0.71</td>\n      <td>1.42</td>\n      <td>0.00</td>\n      <td>2.99</td>\n      <td>16.98</td>\n      <td>11.86</td>\n      <td>0.00</td>\n      <td>0.33</td>\n      <td>0.00</td>\n      <td>0.00</td>\n      <td>1</td>\n    </tr>\n    <tr>\n      <th>27</th>\n      <td>50.61</td>\n      <td>2.31</td>\n      <td>0.00</td>\n      <td>0.63</td>\n      <td>0.00</td>\n      <td>1.90</td>\n      <td>1.55</td>\n      <td>1.12</td>\n      <td>31.90</td>\n      <td>6.65</td>\n      <td>0.19</td>\n      <td>0.20</td>\n      <td>0.00</td>\n      <td>0.00</td>\n      <td>1</td>\n    </tr>\n    <tr>\n      <th>29</th>\n      <td>3.72</td>\n      <td>0.00</td>\n      <td>0.40</td>\n      <td>3.01</td>\n      <td>0.00</td>\n      <td>1.18</td>\n      <td>0.00</td>\n      <td>3.60</td>\n      <td>29.92</td>\n      <td>35.45</td>\n      <td>6.04</td>\n      <td>0.62</td>\n      <td>0.00</td>\n      <td>15.95</td>\n      <td>1</td>\n    </tr>\n    <tr>\n      <th>30</th>\n      <td>92.72</td>\n      <td>0.00</td>\n      <td>0.00</td>\n      <td>0.94</td>\n      <td>0.54</td>\n      <td>2.51</td>\n      <td>0.20</td>\n      <td>1.54</td>\n      <td>0.00</td>\n      <td>0.00</td>\n      <td>0.36</td>\n      <td>0.00</td>\n      <td>0.00</td>\n      <td>0.00</td>\n      <td>1</td>\n    </tr>\n    <tr>\n      <th>31</th>\n      <td>68.08</td>\n      <td>0.00</td>\n      <td>0.26</td>\n      <td>1.34</td>\n      <td>1.00</td>\n      <td>4.70</td>\n      <td>0.41</td>\n      <td>0.33</td>\n      <td>17.14</td>\n      <td>4.04</td>\n      <td>1.04</td>\n      <td>0.12</td>\n      <td>0.23</td>\n      <td>0.00</td>\n      <td>1</td>\n    </tr>\n    <tr>\n      <th>38</th>\n      <td>35.78</td>\n      <td>0.00</td>\n      <td>0.25</td>\n      <td>0.78</td>\n      <td>0.00</td>\n      <td>1.62</td>\n      <td>0.47</td>\n      <td>1.51</td>\n      <td>46.55</td>\n      <td>10.00</td>\n      <td>0.34</td>\n      <td>0.22</td>\n      <td>0.00</td>\n      <td>0.00</td>\n      <td>1</td>\n    </tr>\n    <tr>\n      <th>40</th>\n      <td>39.57</td>\n      <td>2.22</td>\n      <td>0.14</td>\n      <td>0.37</td>\n      <td>0.00</td>\n      <td>1.60</td>\n      <td>0.32</td>\n      <td>0.68</td>\n      <td>41.61</td>\n      <td>10.83</td>\n      <td>0.07</td>\n      <td>0.22</td>\n      <td>0.00</td>\n      <td>0.00</td>\n      <td>1</td>\n    </tr>\n    <tr>\n      <th>42</th>\n      <td>32.93</td>\n      <td>1.38</td>\n      <td>0.00</td>\n      <td>0.68</td>\n      <td>0.00</td>\n      <td>2.57</td>\n      <td>0.29</td>\n      <td>0.73</td>\n      <td>49.31</td>\n      <td>9.79</td>\n      <td>0.48</td>\n      <td>0.41</td>\n      <td>0.00</td>\n      <td>0.00</td>\n      <td>1</td>\n    </tr>\n    <tr>\n      <th>43</th>\n      <td>26.25</td>\n      <td>0.00</td>\n      <td>0.00</td>\n      <td>1.11</td>\n      <td>0.00</td>\n      <td>0.50</td>\n      <td>0.00</td>\n      <td>0.88</td>\n      <td>61.03</td>\n      <td>7.22</td>\n      <td>1.16</td>\n      <td>0.61</td>\n      <td>0.00</td>\n      <td>0.00</td>\n      <td>1</td>\n    </tr>\n    <tr>\n      <th>44</th>\n      <td>16.71</td>\n      <td>0.00</td>\n      <td>0.00</td>\n      <td>1.87</td>\n      <td>0.00</td>\n      <td>0.45</td>\n      <td>0.19</td>\n      <td>0.00</td>\n      <td>70.21</td>\n      <td>6.69</td>\n      <td>1.77</td>\n      <td>0.68</td>\n      <td>0.00</td>\n      <td>0.00</td>\n      <td>1</td>\n    </tr>\n    <tr>\n      <th>45</th>\n      <td>18.46</td>\n      <td>0.00</td>\n      <td>0.44</td>\n      <td>4.96</td>\n      <td>2.73</td>\n      <td>3.33</td>\n      <td>1.79</td>\n      <td>0.19</td>\n      <td>44.12</td>\n      <td>9.76</td>\n      <td>7.46</td>\n      <td>0.47</td>\n      <td>0.00</td>\n      <td>0.00</td>\n      <td>1</td>\n    </tr>\n    <tr>\n      <th>46</th>\n      <td>51.26</td>\n      <td>5.74</td>\n      <td>0.15</td>\n      <td>0.79</td>\n      <td>1.09</td>\n      <td>3.53</td>\n      <td>0.00</td>\n      <td>2.67</td>\n      <td>21.88</td>\n      <td>10.47</td>\n      <td>0.08</td>\n      <td>0.35</td>\n      <td>0.00</td>\n      <td>0.00</td>\n      <td>1</td>\n    </tr>\n    <tr>\n      <th>47</th>\n      <td>51.33</td>\n      <td>5.68</td>\n      <td>0.35</td>\n      <td>0.00</td>\n      <td>1.16</td>\n      <td>5.66</td>\n      <td>0.00</td>\n      <td>2.72</td>\n      <td>20.12</td>\n      <td>10.88</td>\n      <td>0.00</td>\n      <td>0.00</td>\n      <td>0.00</td>\n      <td>0.00</td>\n      <td>1</td>\n    </tr>\n    <tr>\n      <th>48</th>\n      <td>12.41</td>\n      <td>0.00</td>\n      <td>0.00</td>\n      <td>5.24</td>\n      <td>0.89</td>\n      <td>2.25</td>\n      <td>0.76</td>\n      <td>5.35</td>\n      <td>59.85</td>\n      <td>7.29</td>\n      <td>0.00</td>\n      <td>0.64</td>\n      <td>0.00</td>\n      <td>0.00</td>\n      <td>1</td>\n    </tr>\n    <tr>\n      <th>49</th>\n      <td>21.70</td>\n      <td>0.00</td>\n      <td>0.00</td>\n      <td>6.40</td>\n      <td>0.95</td>\n      <td>3.41</td>\n      <td>1.39</td>\n      <td>1.51</td>\n      <td>44.75</td>\n      <td>3.26</td>\n      <td>12.83</td>\n      <td>0.47</td>\n      <td>0.00</td>\n      <td>0.00</td>\n      <td>1</td>\n    </tr>\n    <tr>\n      <th>50</th>\n      <td>60.74</td>\n      <td>3.06</td>\n      <td>0.20</td>\n      <td>2.14</td>\n      <td>0.00</td>\n      <td>12.69</td>\n      <td>0.77</td>\n      <td>0.43</td>\n      <td>13.61</td>\n      <td>5.22</td>\n      <td>0.00</td>\n      <td>0.26</td>\n      <td>0.00</td>\n      <td>0.00</td>\n      <td>1</td>\n    </tr>\n    <tr>\n      <th>54</th>\n      <td>53.33</td>\n      <td>0.80</td>\n      <td>0.32</td>\n      <td>2.82</td>\n      <td>1.54</td>\n      <td>13.65</td>\n      <td>1.03</td>\n      <td>0.00</td>\n      <td>15.71</td>\n      <td>7.31</td>\n      <td>1.10</td>\n      <td>0.25</td>\n      <td>1.31</td>\n      <td>0.00</td>\n      <td>1</td>\n    </tr>\n    <tr>\n      <th>55</th>\n      <td>28.79</td>\n      <td>0.00</td>\n      <td>0.00</td>\n      <td>4.58</td>\n      <td>1.47</td>\n      <td>5.38</td>\n      <td>2.74</td>\n      <td>0.70</td>\n      <td>34.18</td>\n      <td>6.10</td>\n      <td>11.10</td>\n      <td>0.46</td>\n      <td>0.00</td>\n      <td>0.00</td>\n      <td>1</td>\n    </tr>\n    <tr>\n      <th>56</th>\n      <td>54.61</td>\n      <td>0.00</td>\n      <td>0.30</td>\n      <td>2.08</td>\n      <td>1.20</td>\n      <td>6.50</td>\n      <td>1.27</td>\n      <td>0.45</td>\n      <td>23.02</td>\n      <td>4.19</td>\n      <td>4.32</td>\n      <td>0.30</td>\n      <td>0.00</td>\n      <td>0.00</td>\n      <td>1</td>\n    </tr>\n    <tr>\n      <th>57</th>\n      <td>17.98</td>\n      <td>0.00</td>\n      <td>0.00</td>\n      <td>3.19</td>\n      <td>0.47</td>\n      <td>1.87</td>\n      <td>0.33</td>\n      <td>1.13</td>\n      <td>44.00</td>\n      <td>14.20</td>\n      <td>6.34</td>\n      <td>0.66</td>\n      <td>0.00</td>\n      <td>0.00</td>\n      <td>1</td>\n    </tr>\n    <tr>\n      <th>58</th>\n      <td>45.02</td>\n      <td>0.00</td>\n      <td>0.00</td>\n      <td>3.12</td>\n      <td>0.54</td>\n      <td>4.16</td>\n      <td>0.00</td>\n      <td>0.70</td>\n      <td>30.61</td>\n      <td>6.22</td>\n      <td>6.34</td>\n      <td>0.23</td>\n      <td>0.00</td>\n      <td>0.00</td>\n      <td>1</td>\n    </tr>\n    <tr>\n      <th>59</th>\n      <td>24.61</td>\n      <td>0.00</td>\n      <td>0.00</td>\n      <td>3.58</td>\n      <td>1.19</td>\n      <td>5.25</td>\n      <td>1.19</td>\n      <td>1.37</td>\n      <td>40.24</td>\n      <td>8.94</td>\n      <td>8.10</td>\n      <td>0.39</td>\n      <td>0.47</td>\n      <td>0.00</td>\n      <td>1</td>\n    </tr>\n    <tr>\n      <th>60</th>\n      <td>21.35</td>\n      <td>0.00</td>\n      <td>0.00</td>\n      <td>5.13</td>\n      <td>1.45</td>\n      <td>2.51</td>\n      <td>0.42</td>\n      <td>0.75</td>\n      <td>51.34</td>\n      <td>0.00</td>\n      <td>8.75</td>\n      <td>0.00</td>\n      <td>0.00</td>\n      <td>0.00</td>\n      <td>1</td>\n    </tr>\n  </tbody>\n</table>\n</div>"
     },
     "execution_count": 54,
     "metadata": {},
     "output_type": "execute_result"
    }
   ],
   "source": [
    "Data_Bp_W = Data_Bp.loc[Data_Bp['风化'] == 1]\n",
    "Data_Bp_W"
   ],
   "metadata": {
    "collapsed": false,
    "pycharm": {
     "name": "#%%\n"
    }
   }
  },
  {
   "cell_type": "code",
   "execution_count": 55,
   "outputs": [
    {
     "data": {
      "text/plain": "    二氧化硅(SiO2)  氧化钠(Na2O)  氧化钾(K2O)  氧化钙(CaO)  氧化镁(MgO)  氧化铝(Al2O3)  \\\n0        69.33       0.00      9.99      6.32      0.87        3.93   \n2        87.05       0.00      5.19      2.01      0.00        4.06   \n3        61.71       0.00     12.37      5.87      1.11        5.50   \n4        65.88       0.00      9.67      7.12      1.56        6.44   \n5        61.58       0.00     10.95      7.35      1.77        7.50   \n6        67.65       0.00      7.37      0.00      1.98       11.15   \n15       59.01       2.86     12.53      8.70      0.00        6.16   \n16       62.47       3.38     12.28      8.23      0.66        9.23   \n18       65.18       2.10     14.52      8.27      0.52        6.18   \n22       37.36       0.00      0.71      0.00      0.00        5.45   \n23       76.68       0.00      0.00      4.71      1.22        6.19   \n\n    氧化铁(Fe2O3)  氧化铜(CuO)  氧化铅(PbO)  氧化钡(BaO)  五氧化二磷(P2O5)  氧化锶(SrO)  \\\n0         1.74      3.87      0.00      0.00         1.17      0.00   \n2         0.00      0.78      0.25      0.00         0.66      0.00   \n3         2.16      5.09      1.41      2.86         0.70      0.10   \n4         2.06      2.18      0.00      0.00         0.79      0.00   \n5         2.62      3.27      0.00      0.00         0.94      0.06   \n6         2.39      2.51      0.20      1.38         4.18      0.11   \n15        2.88      4.73      0.00      0.00         1.27      0.00   \n16        0.50      0.47      1.62      0.00         0.16      0.00   \n18        0.42      1.07      0.11      0.00         0.00      0.04   \n22        1.51      4.78      9.30     23.55         5.75      0.00   \n23        2.37      3.28      1.00      1.97         1.10      0.00   \n\n    氧化锡(SnO2)  二氧化硫(SO2)  风化  \n0         0.0       0.39   0  \n2         0.0       0.00   0  \n3         0.0       0.00   0  \n4         0.0       0.36   0  \n5         0.0       0.47   0  \n6         0.0       0.00   0  \n15        0.0       0.00   0  \n16        0.0       0.00   0  \n18        0.0       0.00   0  \n22        0.0       0.00   0  \n23        0.0       0.00   0  ",
      "text/html": "<div>\n<style scoped>\n    .dataframe tbody tr th:only-of-type {\n        vertical-align: middle;\n    }\n\n    .dataframe tbody tr th {\n        vertical-align: top;\n    }\n\n    .dataframe thead th {\n        text-align: right;\n    }\n</style>\n<table border=\"1\" class=\"dataframe\">\n  <thead>\n    <tr style=\"text-align: right;\">\n      <th></th>\n      <th>二氧化硅(SiO2)</th>\n      <th>氧化钠(Na2O)</th>\n      <th>氧化钾(K2O)</th>\n      <th>氧化钙(CaO)</th>\n      <th>氧化镁(MgO)</th>\n      <th>氧化铝(Al2O3)</th>\n      <th>氧化铁(Fe2O3)</th>\n      <th>氧化铜(CuO)</th>\n      <th>氧化铅(PbO)</th>\n      <th>氧化钡(BaO)</th>\n      <th>五氧化二磷(P2O5)</th>\n      <th>氧化锶(SrO)</th>\n      <th>氧化锡(SnO2)</th>\n      <th>二氧化硫(SO2)</th>\n      <th>风化</th>\n    </tr>\n  </thead>\n  <tbody>\n    <tr>\n      <th>0</th>\n      <td>69.33</td>\n      <td>0.00</td>\n      <td>9.99</td>\n      <td>6.32</td>\n      <td>0.87</td>\n      <td>3.93</td>\n      <td>1.74</td>\n      <td>3.87</td>\n      <td>0.00</td>\n      <td>0.00</td>\n      <td>1.17</td>\n      <td>0.00</td>\n      <td>0.0</td>\n      <td>0.39</td>\n      <td>0</td>\n    </tr>\n    <tr>\n      <th>2</th>\n      <td>87.05</td>\n      <td>0.00</td>\n      <td>5.19</td>\n      <td>2.01</td>\n      <td>0.00</td>\n      <td>4.06</td>\n      <td>0.00</td>\n      <td>0.78</td>\n      <td>0.25</td>\n      <td>0.00</td>\n      <td>0.66</td>\n      <td>0.00</td>\n      <td>0.0</td>\n      <td>0.00</td>\n      <td>0</td>\n    </tr>\n    <tr>\n      <th>3</th>\n      <td>61.71</td>\n      <td>0.00</td>\n      <td>12.37</td>\n      <td>5.87</td>\n      <td>1.11</td>\n      <td>5.50</td>\n      <td>2.16</td>\n      <td>5.09</td>\n      <td>1.41</td>\n      <td>2.86</td>\n      <td>0.70</td>\n      <td>0.10</td>\n      <td>0.0</td>\n      <td>0.00</td>\n      <td>0</td>\n    </tr>\n    <tr>\n      <th>4</th>\n      <td>65.88</td>\n      <td>0.00</td>\n      <td>9.67</td>\n      <td>7.12</td>\n      <td>1.56</td>\n      <td>6.44</td>\n      <td>2.06</td>\n      <td>2.18</td>\n      <td>0.00</td>\n      <td>0.00</td>\n      <td>0.79</td>\n      <td>0.00</td>\n      <td>0.0</td>\n      <td>0.36</td>\n      <td>0</td>\n    </tr>\n    <tr>\n      <th>5</th>\n      <td>61.58</td>\n      <td>0.00</td>\n      <td>10.95</td>\n      <td>7.35</td>\n      <td>1.77</td>\n      <td>7.50</td>\n      <td>2.62</td>\n      <td>3.27</td>\n      <td>0.00</td>\n      <td>0.00</td>\n      <td>0.94</td>\n      <td>0.06</td>\n      <td>0.0</td>\n      <td>0.47</td>\n      <td>0</td>\n    </tr>\n    <tr>\n      <th>6</th>\n      <td>67.65</td>\n      <td>0.00</td>\n      <td>7.37</td>\n      <td>0.00</td>\n      <td>1.98</td>\n      <td>11.15</td>\n      <td>2.39</td>\n      <td>2.51</td>\n      <td>0.20</td>\n      <td>1.38</td>\n      <td>4.18</td>\n      <td>0.11</td>\n      <td>0.0</td>\n      <td>0.00</td>\n      <td>0</td>\n    </tr>\n    <tr>\n      <th>15</th>\n      <td>59.01</td>\n      <td>2.86</td>\n      <td>12.53</td>\n      <td>8.70</td>\n      <td>0.00</td>\n      <td>6.16</td>\n      <td>2.88</td>\n      <td>4.73</td>\n      <td>0.00</td>\n      <td>0.00</td>\n      <td>1.27</td>\n      <td>0.00</td>\n      <td>0.0</td>\n      <td>0.00</td>\n      <td>0</td>\n    </tr>\n    <tr>\n      <th>16</th>\n      <td>62.47</td>\n      <td>3.38</td>\n      <td>12.28</td>\n      <td>8.23</td>\n      <td>0.66</td>\n      <td>9.23</td>\n      <td>0.50</td>\n      <td>0.47</td>\n      <td>1.62</td>\n      <td>0.00</td>\n      <td>0.16</td>\n      <td>0.00</td>\n      <td>0.0</td>\n      <td>0.00</td>\n      <td>0</td>\n    </tr>\n    <tr>\n      <th>18</th>\n      <td>65.18</td>\n      <td>2.10</td>\n      <td>14.52</td>\n      <td>8.27</td>\n      <td>0.52</td>\n      <td>6.18</td>\n      <td>0.42</td>\n      <td>1.07</td>\n      <td>0.11</td>\n      <td>0.00</td>\n      <td>0.00</td>\n      <td>0.04</td>\n      <td>0.0</td>\n      <td>0.00</td>\n      <td>0</td>\n    </tr>\n    <tr>\n      <th>22</th>\n      <td>37.36</td>\n      <td>0.00</td>\n      <td>0.71</td>\n      <td>0.00</td>\n      <td>0.00</td>\n      <td>5.45</td>\n      <td>1.51</td>\n      <td>4.78</td>\n      <td>9.30</td>\n      <td>23.55</td>\n      <td>5.75</td>\n      <td>0.00</td>\n      <td>0.0</td>\n      <td>0.00</td>\n      <td>0</td>\n    </tr>\n    <tr>\n      <th>23</th>\n      <td>76.68</td>\n      <td>0.00</td>\n      <td>0.00</td>\n      <td>4.71</td>\n      <td>1.22</td>\n      <td>6.19</td>\n      <td>2.37</td>\n      <td>3.28</td>\n      <td>1.00</td>\n      <td>1.97</td>\n      <td>1.10</td>\n      <td>0.00</td>\n      <td>0.0</td>\n      <td>0.00</td>\n      <td>0</td>\n    </tr>\n  </tbody>\n</table>\n</div>"
     },
     "execution_count": 55,
     "metadata": {},
     "output_type": "execute_result"
    }
   ],
   "source": [
    "Data_Bp_NW = Data_Bp.loc[Data_Bp['风化'] == 0]\n",
    "Data_Hp_NW"
   ],
   "metadata": {
    "collapsed": false,
    "pycharm": {
     "name": "#%%\n"
    }
   }
  },
  {
   "cell_type": "code",
   "execution_count": 56,
   "outputs": [
    {
     "data": {
      "text/plain": "二氧化硅(SiO2)     38.690000\n氧化钠(Na2O)       1.078148\n氧化钾(K2O)        0.170370\n氧化钙(CaO)        2.421481\n氧化镁(MgO)        0.716296\n氧化铝(Al2O3)      3.798148\n氧化铁(Fe2O3)      0.691111\n氧化铜(CuO)        1.437407\n氧化铅(PbO)       34.473333\n氧化钡(BaO)        8.605185\n五氧化二磷(P2O5)     3.631111\n氧化锶(SrO)        0.325926\n氧化锡(SnO2)       0.074444\n二氧化硫(SO2)       1.147407\n风化              1.000000\ndtype: float64"
     },
     "execution_count": 56,
     "metadata": {},
     "output_type": "execute_result"
    }
   ],
   "source": [
    "Bp_mean_feature_W = Data_Bp_W.mean()\n",
    "Bp_mean_feature_W"
   ],
   "metadata": {
    "collapsed": false,
    "pycharm": {
     "name": "#%%\n"
    }
   }
  },
  {
   "cell_type": "code",
   "execution_count": 57,
   "outputs": [
    {
     "data": {
      "text/plain": "二氧化硅(SiO2)     57.513077\n氧化钠(Na2O)       0.563077\n氧化钾(K2O)        1.519231\n氧化钙(CaO)        1.560769\n氧化镁(MgO)        0.743077\n氧化铝(Al2O3)      3.671538\n氧化铁(Fe2O3)      1.281538\n氧化铜(CuO)        1.290769\n氧化铅(PbO)       20.373077\n氧化钡(BaO)        8.150769\n五氧化二磷(P2O5)     0.885385\n氧化锶(SrO)        0.311538\n氧化锡(SnO2)       0.246154\n二氧化硫(SO2)       0.281538\n风化              0.000000\ndtype: float64"
     },
     "execution_count": 57,
     "metadata": {},
     "output_type": "execute_result"
    }
   ],
   "source": [
    "Bp_mean_feature_NW = Data_Bp_NW.mean()\n",
    "Bp_mean_feature_NW"
   ],
   "metadata": {
    "collapsed": false,
    "pycharm": {
     "name": "#%%\n"
    }
   }
  },
  {
   "cell_type": "code",
   "execution_count": 60,
   "outputs": [],
   "source": [
    "mean_feature = {\n",
    "                '高钾未风化' : Hp_mean_feature_NW,\n",
    "                '高钾风化' : Hp_mean_feature_W,\n",
    "                '铅钡未风化' : Bp_mean_feature_NW,\n",
    "                '铅钡风化' : Bp_mean_feature_W\n",
    "                }\n",
    "\n",
    "mean_feature = pd.DataFrame(mean_feature)\n",
    "mean_feature.to_csv('mean feature.csv')"
   ],
   "metadata": {
    "collapsed": false,
    "pycharm": {
     "name": "#%%\n"
    }
   }
  }
 ],
 "metadata": {
  "kernelspec": {
   "display_name": "Python 3",
   "language": "python",
   "name": "python3"
  },
  "language_info": {
   "codemirror_mode": {
    "name": "ipython",
    "version": 2
   },
   "file_extension": ".py",
   "mimetype": "text/x-python",
   "name": "python",
   "nbconvert_exporter": "python",
   "pygments_lexer": "ipython2",
   "version": "2.7.6"
  }
 },
 "nbformat": 4,
 "nbformat_minor": 0
}