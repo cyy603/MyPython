{
 "cells": [
  {
   "cell_type": "code",
   "execution_count": 1,
   "outputs": [],
   "source": [
    "import numpy as np\n",
    "import pandas as pd\n",
    "import matplotlib.pyplot as plt\n"
   ],
   "metadata": {
    "collapsed": false,
    "pycharm": {
     "name": "#%%\n"
    }
   }
  },
  {
   "cell_type": "code",
   "execution_count": 2,
   "outputs": [
    {
     "data": {
      "text/plain": "  文物编号  二氧化硅(SiO2)  氧化钠(Na2O)  氧化钾(K2O)  氧化钙(CaO)  氧化镁(MgO)  氧化铝(Al2O3)  \\\n0   A1       78.45        0.0      0.00      6.08      1.86        7.23   \n1   A2       37.75        0.0      0.00      7.63      0.00        2.33   \n2   A3       31.95        0.0      1.36      7.19      0.81        2.93   \n3   A4       35.47        0.0      0.79      2.89      1.05        7.07   \n4   A5       64.29        1.2      0.37      1.64      2.34       12.75   \n5   A6       93.17        0.0      1.35      0.64      0.21        1.52   \n6   A7       90.83        0.0      0.98      1.12      0.00        5.06   \n7   A8       51.12        0.0      0.23      0.89      0.00        2.12   \n\n   氧化铁(Fe2O3)  氧化铜(CuO)  氧化铅(PbO)  氧化钡(BaO)  五氧化二磷(P2O5)  氧化锶(SrO)  氧化锡(SnO2)  \\\n0        2.15      2.11      0.00      0.00         1.06      0.03       0.00   \n1        0.00      0.00     34.30      0.00        14.27      0.00       0.00   \n2        7.06      0.21     39.58      4.69         2.68      0.52       0.00   \n3        6.45      0.96     24.28      8.31         8.45      0.28       0.00   \n4        0.81      0.94     12.23      2.16         0.19      0.21       0.49   \n5        0.27      1.73      0.00      0.00         0.21      0.00       0.00   \n6        0.24      1.17      0.00      0.00         0.13      0.00       0.00   \n7        0.00      9.01     21.24     11.34         1.46      0.31       0.00   \n\n   二氧化硫(SO2)  \n0       0.51  \n1       0.00  \n2       0.00  \n3       0.00  \n4       0.00  \n5       0.00  \n6       0.11  \n7       2.26  ",
      "text/html": "<div>\n<style scoped>\n    .dataframe tbody tr th:only-of-type {\n        vertical-align: middle;\n    }\n\n    .dataframe tbody tr th {\n        vertical-align: top;\n    }\n\n    .dataframe thead th {\n        text-align: right;\n    }\n</style>\n<table border=\"1\" class=\"dataframe\">\n  <thead>\n    <tr style=\"text-align: right;\">\n      <th></th>\n      <th>文物编号</th>\n      <th>二氧化硅(SiO2)</th>\n      <th>氧化钠(Na2O)</th>\n      <th>氧化钾(K2O)</th>\n      <th>氧化钙(CaO)</th>\n      <th>氧化镁(MgO)</th>\n      <th>氧化铝(Al2O3)</th>\n      <th>氧化铁(Fe2O3)</th>\n      <th>氧化铜(CuO)</th>\n      <th>氧化铅(PbO)</th>\n      <th>氧化钡(BaO)</th>\n      <th>五氧化二磷(P2O5)</th>\n      <th>氧化锶(SrO)</th>\n      <th>氧化锡(SnO2)</th>\n      <th>二氧化硫(SO2)</th>\n    </tr>\n  </thead>\n  <tbody>\n    <tr>\n      <th>0</th>\n      <td>A1</td>\n      <td>78.45</td>\n      <td>0.0</td>\n      <td>0.00</td>\n      <td>6.08</td>\n      <td>1.86</td>\n      <td>7.23</td>\n      <td>2.15</td>\n      <td>2.11</td>\n      <td>0.00</td>\n      <td>0.00</td>\n      <td>1.06</td>\n      <td>0.03</td>\n      <td>0.00</td>\n      <td>0.51</td>\n    </tr>\n    <tr>\n      <th>1</th>\n      <td>A2</td>\n      <td>37.75</td>\n      <td>0.0</td>\n      <td>0.00</td>\n      <td>7.63</td>\n      <td>0.00</td>\n      <td>2.33</td>\n      <td>0.00</td>\n      <td>0.00</td>\n      <td>34.30</td>\n      <td>0.00</td>\n      <td>14.27</td>\n      <td>0.00</td>\n      <td>0.00</td>\n      <td>0.00</td>\n    </tr>\n    <tr>\n      <th>2</th>\n      <td>A3</td>\n      <td>31.95</td>\n      <td>0.0</td>\n      <td>1.36</td>\n      <td>7.19</td>\n      <td>0.81</td>\n      <td>2.93</td>\n      <td>7.06</td>\n      <td>0.21</td>\n      <td>39.58</td>\n      <td>4.69</td>\n      <td>2.68</td>\n      <td>0.52</td>\n      <td>0.00</td>\n      <td>0.00</td>\n    </tr>\n    <tr>\n      <th>3</th>\n      <td>A4</td>\n      <td>35.47</td>\n      <td>0.0</td>\n      <td>0.79</td>\n      <td>2.89</td>\n      <td>1.05</td>\n      <td>7.07</td>\n      <td>6.45</td>\n      <td>0.96</td>\n      <td>24.28</td>\n      <td>8.31</td>\n      <td>8.45</td>\n      <td>0.28</td>\n      <td>0.00</td>\n      <td>0.00</td>\n    </tr>\n    <tr>\n      <th>4</th>\n      <td>A5</td>\n      <td>64.29</td>\n      <td>1.2</td>\n      <td>0.37</td>\n      <td>1.64</td>\n      <td>2.34</td>\n      <td>12.75</td>\n      <td>0.81</td>\n      <td>0.94</td>\n      <td>12.23</td>\n      <td>2.16</td>\n      <td>0.19</td>\n      <td>0.21</td>\n      <td>0.49</td>\n      <td>0.00</td>\n    </tr>\n    <tr>\n      <th>5</th>\n      <td>A6</td>\n      <td>93.17</td>\n      <td>0.0</td>\n      <td>1.35</td>\n      <td>0.64</td>\n      <td>0.21</td>\n      <td>1.52</td>\n      <td>0.27</td>\n      <td>1.73</td>\n      <td>0.00</td>\n      <td>0.00</td>\n      <td>0.21</td>\n      <td>0.00</td>\n      <td>0.00</td>\n      <td>0.00</td>\n    </tr>\n    <tr>\n      <th>6</th>\n      <td>A7</td>\n      <td>90.83</td>\n      <td>0.0</td>\n      <td>0.98</td>\n      <td>1.12</td>\n      <td>0.00</td>\n      <td>5.06</td>\n      <td>0.24</td>\n      <td>1.17</td>\n      <td>0.00</td>\n      <td>0.00</td>\n      <td>0.13</td>\n      <td>0.00</td>\n      <td>0.00</td>\n      <td>0.11</td>\n    </tr>\n    <tr>\n      <th>7</th>\n      <td>A8</td>\n      <td>51.12</td>\n      <td>0.0</td>\n      <td>0.23</td>\n      <td>0.89</td>\n      <td>0.00</td>\n      <td>2.12</td>\n      <td>0.00</td>\n      <td>9.01</td>\n      <td>21.24</td>\n      <td>11.34</td>\n      <td>1.46</td>\n      <td>0.31</td>\n      <td>0.00</td>\n      <td>2.26</td>\n    </tr>\n  </tbody>\n</table>\n</div>"
     },
     "execution_count": 2,
     "metadata": {},
     "output_type": "execute_result"
    }
   ],
   "source": [
    "test_data = pd.read_csv('../Data/test_data.csv')\n",
    "test_data = test_data.drop(columns = '表面风化')\n",
    "test_data = test_data.fillna(value = 0)\n",
    "test_data"
   ],
   "metadata": {
    "collapsed": false,
    "pycharm": {
     "name": "#%%\n"
    }
   }
  },
  {
   "cell_type": "markdown",
   "source": [
    "Pre-processing test data for Bp"
   ],
   "metadata": {
    "collapsed": false,
    "pycharm": {
     "name": "#%% md\n"
    }
   }
  },
  {
   "cell_type": "code",
   "execution_count": 3,
   "outputs": [
    {
     "data": {
      "text/plain": "   二氧化硅(SiO2)  氧化钾(K2O)  氧化钙(CaO)  氧化铝(Al2O3)  氧化铜(CuO)  氧化铁(Fe2O3)  \\\n0       78.45      0.00      6.08        7.23      2.11        2.15   \n1       37.75      0.00      7.63        2.33      0.00        0.00   \n2       31.95      1.36      7.19        2.93      0.21        7.06   \n3       35.47      0.79      2.89        7.07      0.96        6.45   \n4       64.29      0.37      1.64       12.75      0.94        0.81   \n5       93.17      1.35      0.64        1.52      1.73        0.27   \n6       90.83      0.98      1.12        5.06      1.17        0.24   \n7       51.12      0.23      0.89        2.12      9.01        0.00   \n\n   五氧化二磷(P2O5)  氧化钠(Na2O)  \n0         1.06        0.0  \n1        14.27        0.0  \n2         2.68        0.0  \n3         8.45        0.0  \n4         0.19        1.2  \n5         0.21        0.0  \n6         0.13        0.0  \n7         1.46        0.0  ",
      "text/html": "<div>\n<style scoped>\n    .dataframe tbody tr th:only-of-type {\n        vertical-align: middle;\n    }\n\n    .dataframe tbody tr th {\n        vertical-align: top;\n    }\n\n    .dataframe thead th {\n        text-align: right;\n    }\n</style>\n<table border=\"1\" class=\"dataframe\">\n  <thead>\n    <tr style=\"text-align: right;\">\n      <th></th>\n      <th>二氧化硅(SiO2)</th>\n      <th>氧化钾(K2O)</th>\n      <th>氧化钙(CaO)</th>\n      <th>氧化铝(Al2O3)</th>\n      <th>氧化铜(CuO)</th>\n      <th>氧化铁(Fe2O3)</th>\n      <th>五氧化二磷(P2O5)</th>\n      <th>氧化钠(Na2O)</th>\n    </tr>\n  </thead>\n  <tbody>\n    <tr>\n      <th>0</th>\n      <td>78.45</td>\n      <td>0.00</td>\n      <td>6.08</td>\n      <td>7.23</td>\n      <td>2.11</td>\n      <td>2.15</td>\n      <td>1.06</td>\n      <td>0.0</td>\n    </tr>\n    <tr>\n      <th>1</th>\n      <td>37.75</td>\n      <td>0.00</td>\n      <td>7.63</td>\n      <td>2.33</td>\n      <td>0.00</td>\n      <td>0.00</td>\n      <td>14.27</td>\n      <td>0.0</td>\n    </tr>\n    <tr>\n      <th>2</th>\n      <td>31.95</td>\n      <td>1.36</td>\n      <td>7.19</td>\n      <td>2.93</td>\n      <td>0.21</td>\n      <td>7.06</td>\n      <td>2.68</td>\n      <td>0.0</td>\n    </tr>\n    <tr>\n      <th>3</th>\n      <td>35.47</td>\n      <td>0.79</td>\n      <td>2.89</td>\n      <td>7.07</td>\n      <td>0.96</td>\n      <td>6.45</td>\n      <td>8.45</td>\n      <td>0.0</td>\n    </tr>\n    <tr>\n      <th>4</th>\n      <td>64.29</td>\n      <td>0.37</td>\n      <td>1.64</td>\n      <td>12.75</td>\n      <td>0.94</td>\n      <td>0.81</td>\n      <td>0.19</td>\n      <td>1.2</td>\n    </tr>\n    <tr>\n      <th>5</th>\n      <td>93.17</td>\n      <td>1.35</td>\n      <td>0.64</td>\n      <td>1.52</td>\n      <td>1.73</td>\n      <td>0.27</td>\n      <td>0.21</td>\n      <td>0.0</td>\n    </tr>\n    <tr>\n      <th>6</th>\n      <td>90.83</td>\n      <td>0.98</td>\n      <td>1.12</td>\n      <td>5.06</td>\n      <td>1.17</td>\n      <td>0.24</td>\n      <td>0.13</td>\n      <td>0.0</td>\n    </tr>\n    <tr>\n      <th>7</th>\n      <td>51.12</td>\n      <td>0.23</td>\n      <td>0.89</td>\n      <td>2.12</td>\n      <td>9.01</td>\n      <td>0.00</td>\n      <td>1.46</td>\n      <td>0.0</td>\n    </tr>\n  </tbody>\n</table>\n</div>"
     },
     "execution_count": 3,
     "metadata": {},
     "output_type": "execute_result"
    }
   ],
   "source": [
    "feature_Bp = ['二氧化硅(SiO2)', '氧化钾(K2O)', '氧化钙(CaO)', '氧化铝(Al2O3)',\n",
    "              '氧化铜(CuO)', '氧化铁(Fe2O3)', '五氧化二磷(P2O5)',  '氧化钠(Na2O)']\n",
    "\n",
    "Data_for_Bp = test_data[feature_Bp]\n",
    "Data_for_Bp"
   ],
   "metadata": {
    "collapsed": false,
    "pycharm": {
     "name": "#%%\n"
    }
   }
  },
  {
   "cell_type": "markdown",
   "source": [
    "Loading cluster information"
   ],
   "metadata": {
    "collapsed": false,
    "pycharm": {
     "name": "#%% md\n"
    }
   }
  },
  {
   "cell_type": "code",
   "execution_count": 4,
   "outputs": [],
   "source": [
    "Bp_cluster = pd.read_csv('../feature/Bp_cluster_center.csv')\n",
    "Hp_cluster = pd.read_csv('../feature/Hp_cluster_center.csv')"
   ],
   "metadata": {
    "collapsed": false,
    "pycharm": {
     "name": "#%%\n"
    }
   }
  },
  {
   "cell_type": "code",
   "execution_count": 23,
   "outputs": [
    {
     "data": {
      "text/plain": "array([[  0.        ,  12.10128297,  23.55765774],\n       [  1.        , -23.51355754,  -1.22535263],\n       [  2.        ,  17.46030308,  -6.22145082]])"
     },
     "execution_count": 23,
     "metadata": {},
     "output_type": "execute_result"
    }
   ],
   "source": [
    "Bp_cluster"
   ],
   "metadata": {
    "collapsed": false,
    "pycharm": {
     "name": "#%%\n"
    }
   }
  },
  {
   "cell_type": "code",
   "execution_count": 24,
   "outputs": [
    {
     "data": {
      "text/plain": "array([[  0.        , -14.3093024 ,   0.26437718],\n       [  1.        ,  14.37504815,   0.27243426]])"
     },
     "execution_count": 24,
     "metadata": {},
     "output_type": "execute_result"
    }
   ],
   "source": [
    "Hp_cluster"
   ],
   "metadata": {
    "collapsed": false,
    "pycharm": {
     "name": "#%%\n"
    }
   }
  },
  {
   "cell_type": "markdown",
   "source": [
    "Classifying the test data"
   ],
   "metadata": {
    "collapsed": false,
    "pycharm": {
     "name": "#%% md\n"
    }
   }
  },
  {
   "cell_type": "code",
   "execution_count": 5,
   "outputs": [
    {
     "data": {
      "text/plain": "array([[ 18.0123096 ,  -0.2016463 ],\n       [-23.9540111 ,   8.89675443],\n       [-28.52569032,  -2.70826632],\n       [-25.4637943 ,  -0.96816221],\n       [  4.62108939,  -5.92289506],\n       [ 33.05758532,   2.74467851],\n       [ 30.77243696,   0.91096573],\n       [ -8.51992555,  -2.75142879]])"
     },
     "execution_count": 5,
     "metadata": {},
     "output_type": "execute_result"
    }
   ],
   "source": [
    "from sklearn.decomposition import PCA\n",
    "\n",
    "pca = PCA(n_components = 2)\n",
    "X = pca.fit_transform(Data_for_Bp)\n",
    "X"
   ],
   "metadata": {
    "collapsed": false,
    "pycharm": {
     "name": "#%%\n"
    }
   }
  },
  {
   "cell_type": "markdown",
   "source": [
    "In Bp"
   ],
   "metadata": {
    "collapsed": false,
    "pycharm": {
     "name": "#%% md\n"
    }
   }
  },
  {
   "cell_type": "code",
   "execution_count": 25,
   "outputs": [
    {
     "data": {
      "text/plain": "array([[  0.        ,  12.10128297,  23.55765774],\n       [  1.        , -23.51355754,  -1.22535263],\n       [  2.        ,  17.46030308,  -6.22145082]])"
     },
     "execution_count": 25,
     "metadata": {},
     "output_type": "execute_result"
    }
   ],
   "source": [
    "Bp_cluster = np.array(Bp_cluster)\n",
    "Bp_cluster"
   ],
   "metadata": {
    "collapsed": false,
    "pycharm": {
     "name": "#%%\n"
    }
   }
  },
  {
   "cell_type": "code",
   "execution_count": 7,
   "outputs": [
    {
     "data": {
      "text/plain": "[[13.649260213021783, 47.62187362391076, 17.670573478144078],\n [36.19742025919274, 32.4133047003701, 42.290421897684446],\n [43.24203635678286, 21.400505086889737, 50.2143682627024],\n [39.773677570011124, 22.629588468854916, 46.712808400968065],\n [19.514719817675374, 33.18116581091978, 26.676194694382175],\n [22.95022124557337, 62.36817429849426, 21.443526289835994],\n [21.76775577318518, 59.527527552284525, 21.238961256748013],\n [25.413328937057347, 25.610056430332428, 32.91635437289738]]"
     },
     "execution_count": 7,
     "metadata": {},
     "output_type": "execute_result"
    }
   ],
   "source": [
    "Bp_class1 = Bp_cluster[0][1 : 2]\n",
    "Bp_class2 = Bp_cluster[1][1 : 2]\n",
    "Bp_class3 = Bp_cluster[2][1 : 2]\n",
    "dist_matrix_Bp = []\n",
    "for i in range(X.shape[0]):\n",
    "    point = X[i]\n",
    "    dist_of_point = []\n",
    "    dist1 = np.linalg.norm(point - Bp_class1)\n",
    "    dist_of_point.append(dist1)\n",
    "    dist2 = np.linalg.norm(point - Bp_class2)\n",
    "    dist_of_point.append(dist2)\n",
    "    dist3 = np.linalg.norm(point - Bp_class3)\n",
    "    dist_of_point.append(dist3)\n",
    "\n",
    "    dist_matrix_Bp.append(dist_of_point)\n",
    "\n",
    "dist_matrix_Bp"
   ],
   "metadata": {
    "collapsed": false,
    "pycharm": {
     "name": "#%%\n"
    }
   }
  },
  {
   "cell_type": "markdown",
   "source": [
    "dist_matrix中，第一列为点到第一个cluster的欧式距离，第二列为点到第二个cluster的欧式距离，第三列为点到第三个cluster的欧式距离"
   ],
   "metadata": {
    "collapsed": false,
    "pycharm": {
     "name": "#%% md\n"
    }
   }
  },
  {
   "cell_type": "markdown",
   "source": [
    "In Hp"
   ],
   "metadata": {
    "collapsed": false,
    "pycharm": {
     "name": "#%% md\n"
    }
   }
  },
  {
   "cell_type": "code",
   "execution_count": 8,
   "outputs": [
    {
     "data": {
      "text/plain": "array([[  0.        , -14.3093024 ,   0.26437718],\n       [  1.        ,  14.37504815,   0.27243426]])"
     },
     "execution_count": 8,
     "metadata": {},
     "output_type": "execute_result"
    }
   ],
   "source": [
    "Hp_cluster = np.array(Hp_cluster)\n",
    "Hp_cluster"
   ],
   "metadata": {
    "collapsed": false,
    "pycharm": {
     "name": "#%%\n"
    }
   }
  },
  {
   "cell_type": "code",
   "execution_count": 26,
   "outputs": [
    {
     "data": {
      "text/plain": "[[35.266309179730506, 15.023637770127307],\n [25.13048904603123, 38.718580614062226],\n [18.34910688804675, 46.1769747149018],\n [17.389902565915147, 42.69130440305688],\n [20.7048680664109, 22.519906969259623],\n [50.34342377871922, 22.006878313010915],\n [47.58171693520046, 21.216877134276782],\n [12.926767837654852, 28.591887543186672]]"
     },
     "execution_count": 26,
     "metadata": {},
     "output_type": "execute_result"
    }
   ],
   "source": [
    "Hp_class1 = Hp_cluster[0][1 : 2]\n",
    "Hp_class2 = Hp_cluster[1][1 : 2]\n",
    "dist_matrix_Hp = []\n",
    "for i in range(X.shape[0]):\n",
    "    point = X[i]\n",
    "    dist_of_point = []\n",
    "    dist1 = np.linalg.norm(point - Hp_class1)\n",
    "    dist_of_point.append(dist1)\n",
    "    dist2 = np.linalg.norm(point - Hp_class2)\n",
    "    dist_of_point.append(dist2)\n",
    "\n",
    "    dist_matrix_Hp.append(dist_of_point)\n",
    "\n",
    "dist_matrix_Hp"
   ],
   "metadata": {
    "collapsed": false,
    "pycharm": {
     "name": "#%%\n"
    }
   }
  },
  {
   "cell_type": "code",
   "execution_count": 27,
   "outputs": [],
   "source": [
    "pd.DataFrame(dist_matrix_Hp).to_excel('../Q3_answer/Q3_1/Hp/dist_matrix_Hp.xlsx')\n",
    "pd.DataFrame(dist_matrix_Bp).to_excel('../Q3_answer/Q3_1/Pb/dist_matrix_Pb.xlsx')"
   ],
   "metadata": {
    "collapsed": false,
    "pycharm": {
     "name": "#%%\n"
    }
   }
  },
  {
   "cell_type": "markdown",
   "source": [
    "Sensitive Analysis\n",
    "我们认为，当距离的平均值距离最小值近，且方差小时，认为该模型灵敏性不高，较为迟钝，反之亦然"
   ],
   "metadata": {
    "collapsed": false,
    "pycharm": {
     "name": "#%% md\n"
    }
   }
  },
  {
   "cell_type": "code",
   "execution_count": 28,
   "outputs": [
    {
     "data": {
      "text/plain": "           0          1\n0  35.266309  15.023638\n1  25.130489  38.718581\n2  18.349107  46.176975\n3  17.389903  42.691304\n4  20.704868  22.519907\n5  50.343424  22.006878\n6  47.581717  21.216877\n7  12.926768  28.591888",
      "text/html": "<div>\n<style scoped>\n    .dataframe tbody tr th:only-of-type {\n        vertical-align: middle;\n    }\n\n    .dataframe tbody tr th {\n        vertical-align: top;\n    }\n\n    .dataframe thead th {\n        text-align: right;\n    }\n</style>\n<table border=\"1\" class=\"dataframe\">\n  <thead>\n    <tr style=\"text-align: right;\">\n      <th></th>\n      <th>0</th>\n      <th>1</th>\n    </tr>\n  </thead>\n  <tbody>\n    <tr>\n      <th>0</th>\n      <td>35.266309</td>\n      <td>15.023638</td>\n    </tr>\n    <tr>\n      <th>1</th>\n      <td>25.130489</td>\n      <td>38.718581</td>\n    </tr>\n    <tr>\n      <th>2</th>\n      <td>18.349107</td>\n      <td>46.176975</td>\n    </tr>\n    <tr>\n      <th>3</th>\n      <td>17.389903</td>\n      <td>42.691304</td>\n    </tr>\n    <tr>\n      <th>4</th>\n      <td>20.704868</td>\n      <td>22.519907</td>\n    </tr>\n    <tr>\n      <th>5</th>\n      <td>50.343424</td>\n      <td>22.006878</td>\n    </tr>\n    <tr>\n      <th>6</th>\n      <td>47.581717</td>\n      <td>21.216877</td>\n    </tr>\n    <tr>\n      <th>7</th>\n      <td>12.926768</td>\n      <td>28.591888</td>\n    </tr>\n  </tbody>\n</table>\n</div>"
     },
     "execution_count": 28,
     "metadata": {},
     "output_type": "execute_result"
    }
   ],
   "source": [
    "dist_matrix_Hp_sa = pd.DataFrame(dist_matrix_Hp)\n",
    "dist_matrix_Hp_sa"
   ],
   "metadata": {
    "collapsed": false,
    "pycharm": {
     "name": "#%%\n"
    }
   }
  },
  {
   "cell_type": "code",
   "execution_count": 29,
   "outputs": [
    {
     "data": {
      "text/plain": "           0          1          2\n0  13.649260  47.621874  17.670573\n1  36.197420  32.413305  42.290422\n2  43.242036  21.400505  50.214368\n3  39.773678  22.629588  46.712808\n4  19.514720  33.181166  26.676195\n5  22.950221  62.368174  21.443526\n6  21.767756  59.527528  21.238961\n7  25.413329  25.610056  32.916354",
      "text/html": "<div>\n<style scoped>\n    .dataframe tbody tr th:only-of-type {\n        vertical-align: middle;\n    }\n\n    .dataframe tbody tr th {\n        vertical-align: top;\n    }\n\n    .dataframe thead th {\n        text-align: right;\n    }\n</style>\n<table border=\"1\" class=\"dataframe\">\n  <thead>\n    <tr style=\"text-align: right;\">\n      <th></th>\n      <th>0</th>\n      <th>1</th>\n      <th>2</th>\n    </tr>\n  </thead>\n  <tbody>\n    <tr>\n      <th>0</th>\n      <td>13.649260</td>\n      <td>47.621874</td>\n      <td>17.670573</td>\n    </tr>\n    <tr>\n      <th>1</th>\n      <td>36.197420</td>\n      <td>32.413305</td>\n      <td>42.290422</td>\n    </tr>\n    <tr>\n      <th>2</th>\n      <td>43.242036</td>\n      <td>21.400505</td>\n      <td>50.214368</td>\n    </tr>\n    <tr>\n      <th>3</th>\n      <td>39.773678</td>\n      <td>22.629588</td>\n      <td>46.712808</td>\n    </tr>\n    <tr>\n      <th>4</th>\n      <td>19.514720</td>\n      <td>33.181166</td>\n      <td>26.676195</td>\n    </tr>\n    <tr>\n      <th>5</th>\n      <td>22.950221</td>\n      <td>62.368174</td>\n      <td>21.443526</td>\n    </tr>\n    <tr>\n      <th>6</th>\n      <td>21.767756</td>\n      <td>59.527528</td>\n      <td>21.238961</td>\n    </tr>\n    <tr>\n      <th>7</th>\n      <td>25.413329</td>\n      <td>25.610056</td>\n      <td>32.916354</td>\n    </tr>\n  </tbody>\n</table>\n</div>"
     },
     "execution_count": 29,
     "metadata": {},
     "output_type": "execute_result"
    }
   ],
   "source": [
    "dist_matrix_Pb_sa = pd.DataFrame(dist_matrix_Bp)\n",
    "dist_matrix_Pb_sa"
   ],
   "metadata": {
    "collapsed": false,
    "pycharm": {
     "name": "#%%\n"
    }
   }
  },
  {
   "cell_type": "markdown",
   "source": [
    "For Hp"
   ],
   "metadata": {
    "collapsed": false,
    "pycharm": {
     "name": "#%% md\n"
    }
   }
  },
  {
   "cell_type": "code",
   "execution_count": 30,
   "outputs": [
    {
     "data": {
      "text/plain": "           0          1       mean    variance  min_value\n0  35.266309  15.023638  25.144973  102.441436  15.023638\n1  25.130489  38.718581  31.924535   46.159058  25.130489\n2  18.349107  46.176975  32.263041  193.597557  18.349107\n3  17.389903  42.691304  30.040603  160.040234  17.389903\n4  20.704868  22.519907  21.612388    0.823592   0.823592\n5  50.343424  22.006878  36.175151  200.739952  22.006878\n6  47.581717  21.216877  34.399297  173.776194  21.216877\n7  12.926768  28.591888  20.759328   61.348994  12.926768",
      "text/html": "<div>\n<style scoped>\n    .dataframe tbody tr th:only-of-type {\n        vertical-align: middle;\n    }\n\n    .dataframe tbody tr th {\n        vertical-align: top;\n    }\n\n    .dataframe thead th {\n        text-align: right;\n    }\n</style>\n<table border=\"1\" class=\"dataframe\">\n  <thead>\n    <tr style=\"text-align: right;\">\n      <th></th>\n      <th>0</th>\n      <th>1</th>\n      <th>mean</th>\n      <th>variance</th>\n      <th>min_value</th>\n    </tr>\n  </thead>\n  <tbody>\n    <tr>\n      <th>0</th>\n      <td>35.266309</td>\n      <td>15.023638</td>\n      <td>25.144973</td>\n      <td>102.441436</td>\n      <td>15.023638</td>\n    </tr>\n    <tr>\n      <th>1</th>\n      <td>25.130489</td>\n      <td>38.718581</td>\n      <td>31.924535</td>\n      <td>46.159058</td>\n      <td>25.130489</td>\n    </tr>\n    <tr>\n      <th>2</th>\n      <td>18.349107</td>\n      <td>46.176975</td>\n      <td>32.263041</td>\n      <td>193.597557</td>\n      <td>18.349107</td>\n    </tr>\n    <tr>\n      <th>3</th>\n      <td>17.389903</td>\n      <td>42.691304</td>\n      <td>30.040603</td>\n      <td>160.040234</td>\n      <td>17.389903</td>\n    </tr>\n    <tr>\n      <th>4</th>\n      <td>20.704868</td>\n      <td>22.519907</td>\n      <td>21.612388</td>\n      <td>0.823592</td>\n      <td>0.823592</td>\n    </tr>\n    <tr>\n      <th>5</th>\n      <td>50.343424</td>\n      <td>22.006878</td>\n      <td>36.175151</td>\n      <td>200.739952</td>\n      <td>22.006878</td>\n    </tr>\n    <tr>\n      <th>6</th>\n      <td>47.581717</td>\n      <td>21.216877</td>\n      <td>34.399297</td>\n      <td>173.776194</td>\n      <td>21.216877</td>\n    </tr>\n    <tr>\n      <th>7</th>\n      <td>12.926768</td>\n      <td>28.591888</td>\n      <td>20.759328</td>\n      <td>61.348994</td>\n      <td>12.926768</td>\n    </tr>\n  </tbody>\n</table>\n</div>"
     },
     "execution_count": 30,
     "metadata": {},
     "output_type": "execute_result"
    }
   ],
   "source": [
    "dist_matrix_Hp_sa['mean'] = dist_matrix_Hp_sa.apply(lambda x : x.mean(), axis = 1)\n",
    "dist_matrix_Hp_sa['variance'] = dist_matrix_Hp_sa.apply(lambda x : x.var(), axis = 1)\n",
    "dist_matrix_Hp_sa['min_value'] = dist_matrix_Hp_sa.apply(lambda x : x.min(), axis = 1)\n",
    "dist_matrix_Hp_sa"
   ],
   "metadata": {
    "collapsed": false,
    "pycharm": {
     "name": "#%%\n"
    }
   }
  },
  {
   "cell_type": "markdown",
   "source": [
    "For Pb"
   ],
   "metadata": {
    "collapsed": false,
    "pycharm": {
     "name": "#%% md\n"
    }
   }
  },
  {
   "cell_type": "code",
   "execution_count": 31,
   "outputs": [
    {
     "data": {
      "text/plain": "           0          1          2       mean    variance  min_value\n0  13.649260  47.621874  17.670573  26.313902  229.709978  13.649260\n1  36.197420  32.413305  42.290422  36.967049   16.555738  16.555738\n2  43.242036  21.400505  50.214368  38.285637  150.656068  21.400505\n3  39.773678  22.629588  46.712808  36.372025  102.452534  22.629588\n4  19.514720  33.181166  26.676195  26.457360   31.152569  19.514720\n5  22.950221  62.368174  21.443526  35.587307  358.985774  21.443526\n6  21.767756  59.527528  21.238961  34.178082  321.343811  21.238961\n7  25.413329  25.610056  32.916354  27.979913   12.190676  12.190676",
      "text/html": "<div>\n<style scoped>\n    .dataframe tbody tr th:only-of-type {\n        vertical-align: middle;\n    }\n\n    .dataframe tbody tr th {\n        vertical-align: top;\n    }\n\n    .dataframe thead th {\n        text-align: right;\n    }\n</style>\n<table border=\"1\" class=\"dataframe\">\n  <thead>\n    <tr style=\"text-align: right;\">\n      <th></th>\n      <th>0</th>\n      <th>1</th>\n      <th>2</th>\n      <th>mean</th>\n      <th>variance</th>\n      <th>min_value</th>\n    </tr>\n  </thead>\n  <tbody>\n    <tr>\n      <th>0</th>\n      <td>13.649260</td>\n      <td>47.621874</td>\n      <td>17.670573</td>\n      <td>26.313902</td>\n      <td>229.709978</td>\n      <td>13.649260</td>\n    </tr>\n    <tr>\n      <th>1</th>\n      <td>36.197420</td>\n      <td>32.413305</td>\n      <td>42.290422</td>\n      <td>36.967049</td>\n      <td>16.555738</td>\n      <td>16.555738</td>\n    </tr>\n    <tr>\n      <th>2</th>\n      <td>43.242036</td>\n      <td>21.400505</td>\n      <td>50.214368</td>\n      <td>38.285637</td>\n      <td>150.656068</td>\n      <td>21.400505</td>\n    </tr>\n    <tr>\n      <th>3</th>\n      <td>39.773678</td>\n      <td>22.629588</td>\n      <td>46.712808</td>\n      <td>36.372025</td>\n      <td>102.452534</td>\n      <td>22.629588</td>\n    </tr>\n    <tr>\n      <th>4</th>\n      <td>19.514720</td>\n      <td>33.181166</td>\n      <td>26.676195</td>\n      <td>26.457360</td>\n      <td>31.152569</td>\n      <td>19.514720</td>\n    </tr>\n    <tr>\n      <th>5</th>\n      <td>22.950221</td>\n      <td>62.368174</td>\n      <td>21.443526</td>\n      <td>35.587307</td>\n      <td>358.985774</td>\n      <td>21.443526</td>\n    </tr>\n    <tr>\n      <th>6</th>\n      <td>21.767756</td>\n      <td>59.527528</td>\n      <td>21.238961</td>\n      <td>34.178082</td>\n      <td>321.343811</td>\n      <td>21.238961</td>\n    </tr>\n    <tr>\n      <th>7</th>\n      <td>25.413329</td>\n      <td>25.610056</td>\n      <td>32.916354</td>\n      <td>27.979913</td>\n      <td>12.190676</td>\n      <td>12.190676</td>\n    </tr>\n  </tbody>\n</table>\n</div>"
     },
     "execution_count": 31,
     "metadata": {},
     "output_type": "execute_result"
    }
   ],
   "source": [
    "dist_matrix_Pb_sa['mean'] = dist_matrix_Pb_sa.apply(lambda x : x.mean(), axis = 1)\n",
    "dist_matrix_Pb_sa['variance'] = dist_matrix_Pb_sa.apply(lambda x : x.var(), axis = 1)\n",
    "dist_matrix_Pb_sa['min_value'] = dist_matrix_Pb_sa.apply(lambda x : x.min(), axis = 1)\n",
    "dist_matrix_Pb_sa"
   ],
   "metadata": {
    "collapsed": false,
    "pycharm": {
     "name": "#%%\n"
    }
   }
  },
  {
   "cell_type": "code",
   "execution_count": 32,
   "outputs": [],
   "source": [
    "dist_matrix_Hp_sa.to_excel('../Q3_answer/Q3_2/Hp/dist_Hp_sa.xlsx')\n",
    "dist_matrix_Pb_sa.to_excel('../Q3_answer/Q3_2/Pb/dist_Pb_sa.xlsx')"
   ],
   "metadata": {
    "collapsed": false,
    "pycharm": {
     "name": "#%%\n"
    }
   }
  },
  {
   "cell_type": "code",
   "execution_count": null,
   "outputs": [],
   "source": [],
   "metadata": {
    "collapsed": false,
    "pycharm": {
     "name": "#%%\n"
    }
   }
  }
 ],
 "metadata": {
  "kernelspec": {
   "display_name": "Python 3",
   "language": "python",
   "name": "python3"
  },
  "language_info": {
   "codemirror_mode": {
    "name": "ipython",
    "version": 2
   },
   "file_extension": ".py",
   "mimetype": "text/x-python",
   "name": "python",
   "nbconvert_exporter": "python",
   "pygments_lexer": "ipython2",
   "version": "2.7.6"
  }
 },
 "nbformat": 4,
 "nbformat_minor": 0
}