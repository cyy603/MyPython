{
 "cells": [
  {
   "cell_type": "code",
   "execution_count": 1,
   "metadata": {
    "collapsed": true,
    "pycharm": {
     "name": "#%%\n"
    }
   },
   "outputs": [
    {
     "name": "stderr",
     "output_type": "stream",
     "text": [
      "/Users/ce1ebratechen/opt/anaconda3/envs/Newpython/lib/python3.9/site-packages/scipy/__init__.py:146: UserWarning: A NumPy version >=1.16.5 and <1.23.0 is required for this version of SciPy (detected version 1.23.1\n",
      "  warnings.warn(f\"A NumPy version >={np_minversion} and <{np_maxversion}\"\n"
     ]
    }
   ],
   "source": [
    "import pandas as pd\n",
    "import numpy as np\n",
    "\n",
    "import lightgbm as lgb\n",
    "\n",
    "from sklearn.model_selection import train_test_split\n",
    "\n",
    "import gc"
   ]
  },
  {
   "cell_type": "code",
   "execution_count": 2,
   "outputs": [],
   "source": [
    "class konfig:\n",
    "    random_state = 4222\n",
    "    kaggle = True"
   ],
   "metadata": {
    "collapsed": false,
    "pycharm": {
     "name": "#%%\n"
    }
   }
  },
  {
   "cell_type": "code",
   "execution_count": 3,
   "outputs": [],
   "source": [
    "path1 = '../archive/train_data.ftr'\n",
    "path2 = '../archive/train_data_f32.ftr'\n",
    "path3 = '../archive/test_data.ftr'\n",
    "path4 = '../archive/test_data_f32.ftr'\n",
    "#X_1 = pd.read_feather(path1)\n",
    "#X_2 = pd.read_feather(path2)\n",
    "#X_3 = pd.read_feather(path3)\n",
    "#X_4 = pd.read_feather(path4)"
   ],
   "metadata": {
    "collapsed": false,
    "pycharm": {
     "name": "#%%\n"
    }
   }
  },
  {
   "cell_type": "code",
   "execution_count": 4,
   "outputs": [
    {
     "data": {
      "text/plain": "458913"
     },
     "execution_count": 4,
     "metadata": {},
     "output_type": "execute_result"
    }
   ],
   "source": [
    "train_data = pd.read_feather(path1)\n",
    "train_data.head()\n",
    "len(train_data.customer_ID.unique())"
   ],
   "metadata": {
    "collapsed": false,
    "pycharm": {
     "name": "#%%\n"
    }
   }
  },
  {
   "cell_type": "code",
   "execution_count": 5,
   "outputs": [
    {
     "data": {
      "text/plain": "(5531451, 191)"
     },
     "execution_count": 5,
     "metadata": {},
     "output_type": "execute_result"
    }
   ],
   "source": [
    "train_data.shape"
   ],
   "metadata": {
    "collapsed": false,
    "pycharm": {
     "name": "#%%\n"
    }
   }
  },
  {
   "cell_type": "code",
   "execution_count": 6,
   "outputs": [
    {
     "data": {
      "text/plain": "customer_ID          0\nS_2                  0\nP_2              45985\nD_39                 0\nB_1                  0\nB_2               2016\nR_1                  0\nS_3            1020544\nD_41              2016\nB_3               2016\nD_42           4740137\nD_43           1658396\nD_44            274319\nB_4                  0\nD_45              2017\nB_5                  0\nR_2                  0\nD_46           1211699\nD_47                 0\nD_48            718725\nD_49           4985917\nB_6                233\nB_7                  0\nB_8              22268\nD_50           3142402\nD_51                 0\nB_9                  0\nR_3                  0\nD_52             29563\nP_3             301492\nB_10                 0\nD_53           4084585\nS_5                  0\nB_11                 0\nS_6                  0\nD_54              2016\nR_4                  0\nS_7            1020544\nB_12                 0\nS_8                  0\nD_55            184803\nD_56           2990943\nB_13             49519\nR_5                  0\nD_58                 0\nS_9            2933643\nB_14                 0\nD_59            106725\nD_60                 0\nD_61            598052\nB_15              6923\nS_11                 0\nD_62            758161\nD_63                 0\nD_64                 0\nD_65                 0\nB_16              2016\nB_17           3137598\nB_18                 0\nB_19              2016\nD_66           4908097\nB_20              2016\nD_68            216503\nS_12                 0\nR_6                  0\nS_13                 0\nB_21                 0\nD_69            194473\nB_22              2016\nD_70             94917\nD_71                 0\nD_72             23708\nS_15                 0\nB_23                 0\nD_73           5475595\nP_4                  0\nD_74             21773\nD_75                 0\nD_76           4908954\nB_24                 0\nR_7                  1\nD_77           2513912\nB_25              6923\nB_26              2016\nD_78            274319\nD_79             75939\nR_8                  0\nR_9            5218918\nS_16                 0\nD_80             21773\nR_10                 0\nR_11                 0\nB_27              2016\nD_81             25687\nD_82           4058614\nS_17                 0\nR_12                56\nB_28                 0\nR_13                 0\nD_83            194473\nR_14                 1\nR_15                 0\nD_84             29563\nR_16                 0\nB_29           5150035\nB_30              2016\nS_18                 0\nD_86                 0\nD_87           5527586\nR_17                 0\nR_18                 0\nD_88           5525447\nB_31                 0\nS_19                 0\nR_19                 0\nB_32                 0\nS_20                 0\nR_20                75\nR_21                 0\nB_33              2016\nD_89             29563\nR_22                 0\nR_23                 0\nD_91            157216\nD_92                 0\nD_93                 0\nD_94                 0\nR_24                 0\nR_25                 0\nD_96                 0\nS_22             19024\nS_23               445\nS_24             18593\nS_25             12847\nS_26               634\nD_102            40655\nD_103           101548\nD_104           101548\nD_105          3021431\nD_106          4990102\nD_107           101548\nB_36                 0\nB_37                56\nR_26           4922146\nR_27            128703\nB_38              2016\nD_108          5502513\nD_109             1597\nD_110          5500117\nD_111          5500117\nB_39           5497819\nD_112             2650\nB_40                53\nS_27           1400935\nD_113           176716\nD_114           176716\nD_115           176716\nD_116           176716\nD_117           176716\nD_118           176716\nD_119           176716\nD_120           176716\nD_121           176716\nD_122           176716\nD_123           176716\nD_124           176716\nD_125           176716\nD_126           116816\nD_127                0\nD_128           101548\nD_129           101548\nB_41               690\nB_42           5459973\nD_130           101548\nD_131           101548\nD_132          4988874\nD_133            42716\nR_28                 0\nD_134          5336752\nD_135          5336752\nD_136          5336752\nD_137          5336752\nD_138          5336752\nD_139           101548\nD_140            40632\nD_141           101548\nD_142          4587043\nD_143           101548\nD_144            40727\nD_145           101548\ntarget               0\ndtype: int64"
     },
     "execution_count": 6,
     "metadata": {},
     "output_type": "execute_result"
    }
   ],
   "source": [
    "pd.set_option('display.max_rows', 500)\n",
    "pd.set_option('display.max_columns', 500)\n",
    "pd.set_option('display.width', 1000)\n",
    "# Check for number of missing values\n",
    "train_data.isnull().sum()\n",
    "\n",
    "## Could be observed that there are many columns with many missing values"
   ],
   "metadata": {
    "collapsed": false,
    "pycharm": {
     "name": "#%%\n"
    }
   }
  },
  {
   "cell_type": "code",
   "execution_count": 7,
   "outputs": [
    {
     "data": {
      "text/plain": "(458913, 189)"
     },
     "execution_count": 7,
     "metadata": {},
     "output_type": "execute_result"
    }
   ],
   "source": [
    "# There are multiple transactions. Lets take only the latest transaction from each customer.\n",
    "train=train_data.groupby('customer_ID').tail(1)\n",
    "train=train.set_index(['customer_ID'])\n",
    "\n",
    "#Drop date column since it is no longer relevant\n",
    "train.drop(['S_2'],axis=1,inplace=True)\n",
    "#Check for number of rows\n",
    "train.shape\n",
    "# We now have 458913 rows, which corresponds to the number of unique customers."
   ],
   "metadata": {
    "collapsed": false,
    "pycharm": {
     "name": "#%%\n"
    }
   }
  },
  {
   "cell_type": "code",
   "execution_count": 8,
   "outputs": [
    {
     "data": {
      "text/plain": "Empty DataFrame\nColumns: []\nIndex: [0000099d6bd597052cdcda90ffabf56573fe9d7c79be5fbac11a8ed792feb62a, 00000fd6641609c6ece5454664794f0340ad84dddce9a267a310b5ae68e9d8e5, 00001b22f846c82c51f6e3958ccd81970162bae8b007e80662ef27519fcc18c1, 000041bdba6ecadd89a52d11886e8eaaec9325906c9723355abb5ca523658edc, 00007889e4fcd2614b6cbe7f8f3d2e5c728eca32d9eb8ad51ca8b8c4a24cefed, 000084e5023181993c2e1b665ac88dbb1ce9ef621ec5370150fc2f8bdca6202c, 000098081fde4fd64bc4d503a5d6f86a0aedc425c96f5235f98b0f47c9d7d8d4, 0000d17a1447b25a01e42e1ac56b091bb7cbb06317be4cb59b50fec59e0b6381, 0000f99513770170a1aba690daeeb8a96da4a39f11fc27da5c30a79db61c1e85, 00013181a0c5fc8f1ea38cd2b90fe8ad2fa8cad9d9f13e4063bdf6b0f7d51eb6, 0001337ded4e1c2539d1a78ff44a457bd4a95caa55ba1730b2849b92ea687f9e, 00013c6e1cec7c21bede7cb319f1e28eb994f5625257f479c53ad6e90c177f7c, 0001812036f1558332e5c0880ecbad70b13a6f28ab04a8db6d83a26ef40aadb0, 00018dd4932409baf6083519b52113c2ef58be59e1213e4681d28c7719a65ddf, 000198b3dc70edd65dbf0d7eddbcb926c6d7dbd7986af19d91ef3992ae3ab896, 000201146e53cacdde1c7e9d29f4d3c46fd4d9231a3744aa39fb9c6afa79b708, 0002d381bdd8048d76719042cf1eb63caf53b636f8aacdba49365fd1ab7d0f36, 0002e335892f7998f0feb3a59f32d652f0da7c85e535b99ea6f87fd317ed47f4, 00031e8be98bc3411f6037cbd4d3eeaf24b3ae221682b77900533c9bb36ec41f, 000333075fb8ec6d504539852eeeb762643562e701ac79b2101ab0f9471eeb5a, 000391f219520dbca6c3c1c46e0fab569da163f79ee266b2cc95fb31029ce617, 00039533fe0b61bcf1ec0d1aefe6acb5469ea0f0d1b0ad59ae721e5b86db12f1, 0003b7891c49786441d138c01f55f1712df645989dcd2a83106ab4a229fee72d, 0003e58375faf90552b2861c1ccea4ee5757827cbb6ecd15a334e47e95774185, 000445609ff2a39d2dd02484899affa5696210a95f6869f26390bd26eeb3b651, 000473eb907b57c8c23f652bba40f87fe7261273dda47034d46fc46821017e50, 0004837f0c785928a29a6f83f70f4a1c54caec483a773ff4b5b317ac251abda0, 0004860c260168fcaad0734a1dfedb7ceb1a83aaac54e24c27244b77308fd8b7, 0004b8596c4946866d1b27a8b40488ecf49c6eae9c7bf4afcb6a8642b321124c, 0004e00358fc4dd633e491c8090a0794b6165ed9a7e60c02bdab9ac745f661c2, 0004ec03ca1ab2adb9aa260c61ba5dce8185e19d3ab704029f989240c733b6d0, 00050d84c6d26e26cd2b18c3eed83d3130c270e2361470ff272f9409103d067f, 000548e99fa24cef8377e68e602e4bd70d30500a007999236e13f58ca8a259da, 00055add5eaee481b27e40af3f47b8b24e82c1e550f6ab010000e7685692f281, 00057576e6eab4633ec2893ca7e0ab76f2094ad2d43b1e3749db49d51e064ee9, 00057c2d8d887fa3f777d97dc939700731575772e6c99025aaa0ab56870353ce, 0005a6ae24fd274640a237ea56c43b1ef9e32077ad168a90d464dcf2bd5976fb, 0005e52a3fa31b7eed49ceb576f011433ee2578833cd3f9d51c9dd9448a198ff, 0005ef1480ffe4f0e5908eae07db8e05f2e705bca6a57db3b97d1da2eb6c7cab, 0005f2ab0cc352cd64eac9e60b981ed8c3289d20fa5fcef78973c468916fdfc9, 00062483fb33d6129dd4ee7e5a12f751d2e7010ac0df0178997c628883695603, 00062d39ff054c4e18d5dba3b988c94277246d2d4aee42e588c62bc8b3ac1f5b, 000664572b701ea9833f05597f0c5347f471737baa925a3c2829c84df4606d46, 000678921d09c5503d34055ab96b150a972f59a96471b987415c21ba1e86605a, 00067cdd68211fdf71636823c827371a070c52417d4ab364309a0d9e5ebbd8cc, 00067f4aed8cf43b16652c966860774f650420ef7a306fb9769f14858d87ba9f, 00068f00a4ddaa53b75bc7235f13a42493eba75792850e49327f2cfaf1ae6791, 0006a80d96aec1d178bf74adab6cbf9e4bf427a6ba264fefecd53a4c1233cd21, 0007138953c25a3a7d8f48cf60dd6e9ca4a77d9e945a443f986062a95f795c4d, 00073f1912e2151e987a71b78ded23870729d7fd0e6b94b217aa66dded29af8b, 000772ede38fe3811dea0dff9dc50e2f8b7b577ab6f143c034b2dbccee197f57, 0007764443c6d098326549271e1d2613b111acafd039e96df124da7770e4fa70, 000790f99df4c2a0eccd9ba5db78fd81e6a4b88b3d7f203ea9810d2e61bc1f5b, 0007b7b197a68e10925e2b4abf89130323ea2a87deb8ada24159a249b6010516, 0007ee1ac8edb6be588c6c8a158d2268e3228c49cf52773d168012076c118e5f, 0008c2f297e1b00bf567c0d2c25f3e3b356f9a3088d2bf47aaaa724d26df8787, 0008ef32824d3067b4d8ab70e7c79fa04c808f4d99194fe9c7827dac8bcf0b5c, 000919ba92d9a04c28e1e49f6cd855ca36e1df7c79cc0583b60734da25265fb1, 00093b69756b1afe3029c79b981e8d699b2a48bf4464a9d4c8432dc2bb45372e, 000940eb997a3356d782e519274accd60c1f4f9af86dde67552d54ca4c619fe6, 000962b331f602203d5b5fb41b915893e74db55534182d4968a3423c19258584, 00098cc74b9a5113321817176656d2d75928c363cc45ab81502f7239cae2187b, 0009a85feed29c69e41a1dfa6375ba7010870adbe7550e4ce2f1d4c564db1691, 0009bd8871169b8d76a445e1f52079a6edc0b6f0bf021d5ec50ef6aa6487cc14, 0009e1a505be8b131904d3908b9d6e149108859a37cd88d760349b52751fa2f5, 000a1745b0fba14f100603038675e879651f9af9c729c523a81bbf93dacf0e57, 000aaaf8dba0cf6b0853a317d5cd4a8d581b529e5d85119101c05b8ad16190b2, 000ac434614bed68129738742263a6306192132f904a83fadac1553955d1f0fb, 000adf2938f771f75a581b65107024eddeae70684778c0da9b94b261b836a940, 000ae3818c26d56167678fde3b6238888d0f802c02f4bfa8352ab0c614df776a, 000aeb78bae8b5dff7906f5d3a3805e24856f437c7e95d26bdae93e23aac47a0, 000b30e00a2a37b5ae325fa3830c9b2b6365b0c17719c9d283d66c0fd2284f59, 000b48231b7fad0e00ce78790df80ff94bd890eaaa8c6816fc897bf97505f7bd, 000b6357c2a736700113519ea047bfe3d38a6dc2a89d798b86c184fd4673f802, 000b789efc34ef75106b9e135dbeabd0408e0735fa8b2d046df6587c49ccbeed, 000ba16037da23e8601c4914b8d638bf4bb834fc1c7b9a513927f1cb26b26204, 000bbcea7cf6a9d74b2ff2f6fd4fa89a4ff4c419a8b569eb167717231edb7ccf, 000c36f7b5130de63c1b7ee4bc902ba51aa8ae1f9cd1cee254892b0b06011cb4, 000c57a2ca053e6ddc51fa2eaac470ee96663c2b505916a73ba944878d20184d, 000cba133a9f5634a0f3e56d439ae774a819292301329551531a54791169abc4, 000cc41bf286c67da129d61340c7de52adf8636b42a4a74f1cc2129390ce348f, 000cc98607442c5074d368870a7fa3cb1634147af647f1aec9c99175aaf0c7fa, 000cfb5aac8db50185898fa111be535e4530149f341a9a4d7ad3bd9b7e14c281, 000d2c718af00d1b56d5717738b60f72766ae487b0eceacb17250c543e2c23a5, 000d31f624ba226a4ca7249b489c440abd793f30b3d2e3abe9f003fbfc157f1b, 000d4be985f5eb4f752ed9c0e3e4e11261b86f00e28082be1e4ca044485a9f24, 000d83d6da1c0d771f9ec471741b0dae476196bb05451bf29df0a8e0a089ef86, 000d848df79e239601299a543d77e5bf35edec39f53a49f449ca29c08079f535, 000dac810943ef22598f3e650b91f667517baf45cffe11886723512939905d14, 000de143ca96be8fa6362e55dffe94a0bdaf347d993160fb1e11208d7ecc0597, 000df7db33e45c5151ac69f400db5d4c283be4ca2bf72d101e49b50b72212ebf, 000e06b7ac3f3f4eff61b316fd02a4624f8d5196e18af0083f0e22ce70e9bf67, 000e2c816db921b0c4a6fea72e32af5d81f7f41f8b11e16cc2ac31fca793bdce, 000e6806ba7de2cf7f189c7a0719f13f4cf8e7925a3ebb0c86655bfa1f780087, 000e7954b7687713b64abced75597e6d20e65e805ff8b594efb579ef6b23b4cb, 000e95de2a94dd09611f0d330e65022ad27ec1dbe3adaa72525b3ebb4d3c8a81, 000ee46c042bfab551c28d92c93969f8a3539fe1e9fc9cd2d2e188f838f7d8ba, 000eee12732c9c7b790870c556bc33339d6d17725cbeb4a7da6b2a5d2c8386aa, 000f1c950ae4e388f44e9ba96dd6334dfa85d8be0416d9d0d30228301f2e4cc4, 000f446ef66e08fddf9fd852afe788386bee2e333a7d70a815ce7a7f1c88e504, ...]\n\n[458913 rows x 0 columns]",
      "text/html": "<div>\n<style scoped>\n    .dataframe tbody tr th:only-of-type {\n        vertical-align: middle;\n    }\n\n    .dataframe tbody tr th {\n        vertical-align: top;\n    }\n\n    .dataframe thead th {\n        text-align: right;\n    }\n</style>\n<table border=\"1\" class=\"dataframe\">\n  <thead>\n    <tr style=\"text-align: right;\">\n      <th></th>\n    </tr>\n    <tr>\n      <th>customer_ID</th>\n    </tr>\n  </thead>\n  <tbody>\n    <tr>\n      <th>0000099d6bd597052cdcda90ffabf56573fe9d7c79be5fbac11a8ed792feb62a</th>\n    </tr>\n    <tr>\n      <th>00000fd6641609c6ece5454664794f0340ad84dddce9a267a310b5ae68e9d8e5</th>\n    </tr>\n    <tr>\n      <th>00001b22f846c82c51f6e3958ccd81970162bae8b007e80662ef27519fcc18c1</th>\n    </tr>\n    <tr>\n      <th>000041bdba6ecadd89a52d11886e8eaaec9325906c9723355abb5ca523658edc</th>\n    </tr>\n    <tr>\n      <th>00007889e4fcd2614b6cbe7f8f3d2e5c728eca32d9eb8ad51ca8b8c4a24cefed</th>\n    </tr>\n    <tr>\n      <th>...</th>\n    </tr>\n    <tr>\n      <th>ffff41c8a52833b56430603969b9ca48d208e7c192c6a4081a6acc28cf4f8af7</th>\n    </tr>\n    <tr>\n      <th>ffff518bb2075e4816ee3fe9f3b152c57fc0e6f01bf7fdd3e5b57cfcbee30286</th>\n    </tr>\n    <tr>\n      <th>ffff9984b999fccb2b6127635ed0736dda94e544e67e026eee4d20f680639ff6</th>\n    </tr>\n    <tr>\n      <th>ffffa5c46bc8de74f5a4554e74e239c8dee6b9baf388145b2c3d01967fcce461</th>\n    </tr>\n    <tr>\n      <th>fffff1d38b785cef84adeace64f8f83db3a0c31e8d92eaba8b115f71cab04681</th>\n    </tr>\n  </tbody>\n</table>\n<p>458913 rows × 0 columns</p>\n</div>"
     },
     "execution_count": 8,
     "metadata": {},
     "output_type": "execute_result"
    }
   ],
   "source": [
    "train.select_dtypes(['object'])"
   ],
   "metadata": {
    "collapsed": false,
    "pycharm": {
     "name": "#%%\n"
    }
   }
  },
  {
   "cell_type": "code",
   "execution_count": 9,
   "outputs": [],
   "source": [
    "#Perform one-hot encoding for D_63 and D_64\n",
    "#Drop columns D_63 and D_64 subsequently\n",
    "train_D63 = pd.get_dummies(train[['D_63']])\n",
    "train = pd.concat([train, train_D63], axis=1)\n",
    "train = train.drop(['D_63'], axis=1)\n",
    "\n",
    "train_D64 = pd.get_dummies(train[['D_64']])\n",
    "train = pd.concat([train, train_D64], axis=1)\n",
    "train = train.drop(['D_64'], axis=1)"
   ],
   "metadata": {
    "collapsed": false,
    "pycharm": {
     "name": "#%%\n"
    }
   }
  },
  {
   "cell_type": "code",
   "execution_count": 10,
   "outputs": [
    {
     "data": {
      "text/plain": "Index(['P_2', 'D_39', 'B_1', 'B_2', 'R_1', 'S_3', 'D_41', 'B_3', 'D_42', 'D_43',\n       ...\n       'D_63_CO', 'D_63_CR', 'D_63_XL', 'D_63_XM', 'D_63_XZ', 'D_64_', 'D_64_-1', 'D_64_O', 'D_64_R', 'D_64_U'], dtype='object', length=198)"
     },
     "execution_count": 10,
     "metadata": {},
     "output_type": "execute_result"
    }
   ],
   "source": [
    "train.columns"
   ],
   "metadata": {
    "collapsed": false,
    "pycharm": {
     "name": "#%%\n"
    }
   }
  },
  {
   "cell_type": "code",
   "execution_count": 11,
   "outputs": [
    {
     "data": {
      "text/plain": "(458913, 162)"
     },
     "execution_count": 11,
     "metadata": {},
     "output_type": "execute_result"
    }
   ],
   "source": [
    "#Given that there are many columns with large number of missing values, it is impractical to go through every single one of them to determine whether it is useful.\n",
    "#Furthermore, we do not have information on the feature (e.g. actual name of the feature) except the type of variable\n",
    "#Lets remove columns if there are >85% of missing values\n",
    "train=train.dropna(axis=1, thresh=int(0.85*len(train)))\n",
    "\n",
    "#Checking the shape of new train data\n",
    "train.shape\n",
    "## We are left with 160 columns"
   ],
   "metadata": {
    "collapsed": false,
    "pycharm": {
     "name": "#%%\n"
    }
   }
  },
  {
   "cell_type": "code",
   "execution_count": 12,
   "outputs": [
    {
     "data": {
      "text/plain": "(458913, 133)"
     },
     "execution_count": 12,
     "metadata": {},
     "output_type": "execute_result"
    }
   ],
   "source": [
    "train_without_target=train.drop(['target'],axis=1)\n",
    "cor_matrix = train_without_target.corr().abs()\n",
    "upper_tri = cor_matrix.where((np.triu(np.ones(cor_matrix.shape), k=1) + np.tril(np.ones(cor_matrix.shape), k=-1)).astype(bool))\n",
    "#Drop out columns with absolute correlation of more than 85%\n",
    "to_drop = [column for column in upper_tri.columns if any(upper_tri[column] > 0.85)]\n",
    "train_drop_highcorr=train_without_target.drop(to_drop,axis=1)\n",
    "train_drop_highcorr.shape"
   ],
   "metadata": {
    "collapsed": false,
    "pycharm": {
     "name": "#%%\n"
    }
   }
  },
  {
   "cell_type": "code",
   "execution_count": 13,
   "outputs": [
    {
     "data": {
      "text/plain": "85"
     },
     "execution_count": 13,
     "metadata": {},
     "output_type": "execute_result"
    }
   ],
   "source": [
    "# Lets remove columns with variance less than or equal to 0.05. Keep only columns with high variance.\n",
    "from sklearn.feature_selection import VarianceThreshold\n",
    "from itertools import compress\n",
    "def fs_variance(df, threshold:float=0.05):\n",
    "    \"\"\"\n",
    "    Return a list of selected variables based on the threshold.\n",
    "    \"\"\"\n",
    "    # The list of columns in the data frame\n",
    "    features = list(df.columns)\n",
    "\n",
    "    # Initialize and fit the method\n",
    "    vt = VarianceThreshold(threshold = threshold)\n",
    "    _ = vt.fit(df)\n",
    "\n",
    "    # Get which column names which pass the threshold\n",
    "    feat_select = list(compress(features, vt.get_support()))\n",
    "\n",
    "    return feat_select\n",
    "columns_to_keep=fs_variance(train_drop_highcorr)\n",
    "# We are left with 85 columns (excluding target), which passed the threshold.\n",
    "train_final=train[columns_to_keep]\n",
    "len(columns_to_keep)"
   ],
   "metadata": {
    "collapsed": false,
    "pycharm": {
     "name": "#%%\n"
    }
   }
  },
  {
   "cell_type": "code",
   "execution_count": 14,
   "outputs": [],
   "source": [
    "train_final1=train_final.join(train['target'])\n",
    "x_train=train_final1.drop(['target'],axis=1)\n",
    "y_train=train_final1['target']"
   ],
   "metadata": {
    "collapsed": false,
    "pycharm": {
     "name": "#%%\n"
    }
   }
  },
  {
   "cell_type": "code",
   "execution_count": 16,
   "outputs": [],
   "source": [
    "# Split train data into training and testing sets\n",
    "from sklearn.model_selection import train_test_split\n",
    "from sklearn.metrics import accuracy_score\n",
    "from sklearn.metrics import precision_score\n",
    "from sklearn.metrics import recall_score\n",
    "x_train_split, x_test_split, y_train_split, y_test_split = train_test_split(x_train, y_train, test_size=0.25, random_state=26)"
   ],
   "metadata": {
    "collapsed": false,
    "pycharm": {
     "name": "#%%\n"
    }
   }
  },
  {
   "cell_type": "code",
   "execution_count": 36,
   "outputs": [
    {
     "name": "stderr",
     "output_type": "stream",
     "text": [
      "/Users/ce1ebratechen/opt/anaconda3/envs/Newpython/lib/python3.9/site-packages/xgboost/sklearn.py:1224: UserWarning: The use of label encoder in XGBClassifier is deprecated and will be removed in a future release. To remove this warning, do the following: 1) Pass option use_label_encoder=False when constructing XGBClassifier object; and 2) Encode your labels (y) as integers starting with 0, i.e. 0, 1, 2, ..., [num_class - 1].\n",
      "  warnings.warn(label_encoder_deprecation_msg, UserWarning)\n",
      "/Users/ce1ebratechen/opt/anaconda3/envs/Newpython/lib/python3.9/site-packages/xgboost/data.py:250: FutureWarning: pandas.Int64Index is deprecated and will be removed from pandas in a future version. Use pandas.Index with the appropriate dtype instead.\n",
      "  elif isinstance(data.columns, (pd.Int64Index, pd.RangeIndex)):\n"
     ]
    },
    {
     "name": "stdout",
     "output_type": "stream",
     "text": [
      "[21:27:06] WARNING: /var/folders/nz/j6p8yfhx1mv_0grj5xl4650h0000gp/T/abs_eek2t0c4ro/croots/recipe/xgboost-split_1659548960591/work/src/learner.cc:1115: Starting in XGBoost 1.3.0, the default evaluation metric used with the objective 'binary:logistic' was changed from 'error' to 'logloss'. Explicitly set eval_metric if you'd like to restore the old behavior.\n",
      "XGBoost Classifier Accuracy: 0.894\n"
     ]
    }
   ],
   "source": [
    "trans = ['D_68', 'B_30', 'B_38', 'D_114', 'D_117', 'D_120', 'D_126']\n",
    "for item in trans:\n",
    "    x_train_split[item] = pd.to_numeric(x_train_split[item])\n",
    "\n",
    "\n",
    "from xgboost import XGBClassifier\n",
    "model=XGBClassifier(n_estimators=200,max_depth=3,learning_rate=0.3, subsample=0.5)\n",
    "model.fit(x_train_split,y_train_split)\n",
    "#Test the model\n",
    "y_predict=model.predict(x_test_split)\n",
    "print('XGBoost Classifier Accuracy: {:.3f}'.format(accuracy_score(y_test_split, y_predict)))"
   ],
   "metadata": {
    "collapsed": false,
    "pycharm": {
     "name": "#%%\n"
    }
   }
  },
  {
   "cell_type": "code",
   "execution_count": 33,
   "outputs": [
    {
     "name": "stdout",
     "output_type": "stream",
     "text": [
      "\n",
      "XGBoost Classifier Precision: 0.796\n",
      "\n",
      "XGBoost Classifier Recall: 0.792\n"
     ]
    }
   ],
   "source": [
    "print('\\nXGBoost Classifier Precision: {:.3f}'.format(precision_score (y_test_split, y_predict)))\n",
    "print('\\nXGBoost Classifier Recall: {:.3f}'.format(recall_score (y_test_split, y_predict)))"
   ],
   "metadata": {
    "collapsed": false,
    "pycharm": {
     "name": "#%%\n"
    }
   }
  },
  {
   "cell_type": "code",
   "execution_count": 24,
   "outputs": [],
   "source": [
    "# Make a list of columns that we want to load for test data. Remove one-hot encoded names and target (since these columns not in the test data)\n",
    "columns_to_load=list(columns_to_keep)\n",
    "columns_to_load=columns_to_load+['D_63','D_64','customer_ID','S_2']\n",
    "columns_to_load.remove('D_63_CO')\n",
    "columns_to_load.remove('D_63_CR')\n",
    "columns_to_load.remove('D_63_CL')\n",
    "columns_to_load.remove('D_64_O')\n",
    "columns_to_load.remove('D_64_R')\n",
    "columns_to_load.remove('D_64_U')"
   ],
   "metadata": {
    "collapsed": false,
    "pycharm": {
     "name": "#%%\n"
    }
   }
  },
  {
   "cell_type": "code",
   "execution_count": 26,
   "outputs": [],
   "source": [
    "#Read in the test_data\n",
    "test_data = pd.read_feather(path3 ,columns=columns_to_load)"
   ],
   "metadata": {
    "collapsed": false,
    "pycharm": {
     "name": "#%%\n"
    }
   }
  },
  {
   "cell_type": "code",
   "execution_count": 27,
   "outputs": [],
   "source": [
    "# There are multiple transactions. Lets take only the latest transaction from each customer.\n",
    "test=test_data.groupby('customer_ID').tail(1)\n",
    "test=test.set_index(['customer_ID'])\n",
    "\n",
    "#Drop date column since it is no longer relevant\n",
    "test.drop(['S_2'],axis=1,inplace=True)"
   ],
   "metadata": {
    "collapsed": false,
    "pycharm": {
     "name": "#%%\n"
    }
   }
  },
  {
   "cell_type": "code",
   "execution_count": 28,
   "outputs": [],
   "source": [
    "#Perform one-hot encoding for D_63 and D_64\n",
    "#Drop columns D_63 and D_64 subsequently\n",
    "test_D63 = pd.get_dummies(test[['D_63']])\n",
    "test = pd.concat([test, test_D63], axis=1)\n",
    "test = test.drop(['D_63'], axis=1)\n",
    "\n",
    "test_D64 = pd.get_dummies(test[['D_64']])\n",
    "test = pd.concat([test, test_D64], axis=1)\n",
    "test = test.drop(['D_64'], axis=1)"
   ],
   "metadata": {
    "collapsed": false,
    "pycharm": {
     "name": "#%%\n"
    }
   }
  },
  {
   "cell_type": "code",
   "execution_count": 29,
   "outputs": [],
   "source": [
    "#Keep columns that we want.\n",
    "test_final=test[columns_to_keep]"
   ],
   "metadata": {
    "collapsed": false,
    "pycharm": {
     "name": "#%%\n"
    }
   }
  },
  {
   "cell_type": "code",
   "execution_count": 30,
   "outputs": [],
   "source": [
    "#Predict probabilities of default\n",
    "y_test_predict=model.predict_proba(test_final)"
   ],
   "metadata": {
    "collapsed": false,
    "pycharm": {
     "name": "#%%\n"
    }
   }
  },
  {
   "cell_type": "code",
   "execution_count": 31,
   "outputs": [],
   "source": [
    "#Retrieve the probability of default\n",
    "y_predict_final=y_test_predict[:,1]\n",
    "\n",
    "# Merge the prediction and customer_ID into submission dataframe\n",
    "submission = pd.DataFrame({\"customer_ID\":test_final.index,\"prediction\":y_predict_final})\n",
    "\n",
    "submission.to_csv('submission.csv', index=False)"
   ],
   "metadata": {
    "collapsed": false,
    "pycharm": {
     "name": "#%%\n"
    }
   }
  },
  {
   "cell_type": "code",
   "execution_count": null,
   "outputs": [],
   "source": [],
   "metadata": {
    "collapsed": false,
    "pycharm": {
     "name": "#%%\n"
    }
   }
  }
 ],
 "metadata": {
  "kernelspec": {
   "display_name": "Python 3",
   "language": "python",
   "name": "python3"
  },
  "language_info": {
   "codemirror_mode": {
    "name": "ipython",
    "version": 2
   },
   "file_extension": ".py",
   "mimetype": "text/x-python",
   "name": "python",
   "nbconvert_exporter": "python",
   "pygments_lexer": "ipython2",
   "version": "2.7.6"
  }
 },
 "nbformat": 4,
 "nbformat_minor": 0
}